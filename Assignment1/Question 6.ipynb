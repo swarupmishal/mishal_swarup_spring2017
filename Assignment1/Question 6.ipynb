{
 "cells": [
  {
   "cell_type": "markdown",
   "metadata": {},
   "source": [
    "# Question 6\n",
    "- Under Inaugural Address package\n",
    "- For every president, find out how many unique words they used in speech. \n",
    "- We will just assume that President Bush means one person (technically it is incorrect but we will ignore it)"
   ]
  },
  {
   "cell_type": "code",
   "execution_count": 30,
   "metadata": {
    "collapsed": false
   },
   "outputs": [],
   "source": [
    "import nltk\n",
    "files = nltk.corpus.inaugural.fileids()"
   ]
  },
  {
   "cell_type": "code",
   "execution_count": 31,
   "metadata": {
    "collapsed": false
   },
   "outputs": [],
   "source": [
    "#Getting the names of president \n",
    "file_names = []\n",
    "for f in files:\n",
    "    file_names.append(f[5:-4])\n",
    "\n",
    "pName = set(file_names)"
   ]
  },
  {
   "cell_type": "code",
   "execution_count": 32,
   "metadata": {
    "collapsed": false
   },
   "outputs": [
    {
     "name": "stdout",
     "output_type": "stream",
     "text": [
      "Set of unique words in Jackson speech :  846\n",
      "Set of unique words in Harding speech :  1170\n",
      "Set of unique words in Hoover speech :  1087\n",
      "Set of unique words in Carter speech :  529\n",
      "Set of unique words in Grant speech :  855\n",
      "Set of unique words in Taft speech :  1439\n",
      "Set of unique words in Clinton speech :  1138\n",
      "Set of unique words in Washington speech :  663\n",
      "Set of unique words in Eisenhower speech :  1250\n",
      "Set of unique words in Nixon speech :  1037\n",
      "Set of unique words in Madison speech :  899\n",
      "Set of unique words in Monroe speech :  1781\n",
      "Set of unique words in VanBuren speech :  1318\n",
      "Set of unique words in Hayes speech :  832\n",
      "Set of unique words in Pierce speech :  1168\n",
      "Set of unique words in Buchanan speech :  948\n",
      "Set of unique words in Roosevelt speech :  1704\n",
      "Set of unique words in Jefferson speech :  1261\n",
      "Set of unique words in Johnson speech :  571\n",
      "Set of unique words in Polk speech :  1333\n",
      "Set of unique words in Taylor speech :  499\n",
      "Set of unique words in Kennedy speech :  570\n",
      "Set of unique words in Cleveland speech :  1219\n",
      "Set of unique words in Lincoln speech :  1261\n",
      "Set of unique words in Adams speech :  1503\n",
      "Set of unique words in McKinley speech :  1682\n",
      "Set of unique words in Reagan speech :  1453\n",
      "Set of unique words in Harrison speech :  2662\n",
      "Set of unique words in Bush speech :  1578\n",
      "Set of unique words in Truman speech :  781\n",
      "Set of unique words in Obama speech :  938\n",
      "Set of unique words in Wilson speech :  996\n",
      "Set of unique words in Garfield speech :  1022\n",
      "Set of unique words in Coolidge speech :  1221\n"
     ]
    }
   ],
   "source": [
    "#combining the lists of same presidents\n",
    "for f in pName:\n",
    "    wordCount = []\n",
    "    for file in files:\n",
    "        if file[5:-4] == f:\n",
    "            wordCount.extend(nltk.corpus.inaugural.words(file))\n",
    "    print ('Set of unique words in' ,f, 'speech : ', len(set(wordCount)))"
   ]
  }
 ],
 "metadata": {
  "anaconda-cloud": {},
  "kernelspec": {
   "display_name": "Python [default]",
   "language": "python",
   "name": "python3"
  },
  "language_info": {
   "codemirror_mode": {
    "name": "ipython",
    "version": 3
   },
   "file_extension": ".py",
   "mimetype": "text/x-python",
   "name": "python",
   "nbconvert_exporter": "python",
   "pygments_lexer": "ipython3",
   "version": "3.5.2"
  }
 },
 "nbformat": 4,
 "nbformat_minor": 1
}
