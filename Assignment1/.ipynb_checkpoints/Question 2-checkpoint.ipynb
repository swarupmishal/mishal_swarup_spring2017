{
 "cells": [
  {
   "cell_type": "markdown",
   "metadata": {},
   "source": [
    "# Question 2\n",
    "- Under package Gutenberg get content from file 'melville-moby_dick.txt.' (HINT: Words? Raw?)\n",
    "- Find out frequency of 26 characters. (Turn uppercase into lowercase and count as one character)\n",
    "- List all 26 characters in order base on their frequency. (From most frequent to least frequent)\u000b",
    "Try NOT to use FreqDist module.\n"
   ]
  },
  {
   "cell_type": "code",
   "execution_count": 2,
   "metadata": {
    "collapsed": false
   },
   "outputs": [
    {
     "data": {
      "text/plain": [
       "['austen-emma.txt',\n",
       " 'austen-persuasion.txt',\n",
       " 'austen-sense.txt',\n",
       " 'bible-kjv.txt',\n",
       " 'blake-poems.txt',\n",
       " 'bryant-stories.txt',\n",
       " 'burgess-busterbrown.txt',\n",
       " 'carroll-alice.txt',\n",
       " 'chesterton-ball.txt',\n",
       " 'chesterton-brown.txt',\n",
       " 'chesterton-thursday.txt',\n",
       " 'edgeworth-parents.txt',\n",
       " 'melville-moby_dick.txt',\n",
       " 'milton-paradise.txt',\n",
       " 'shakespeare-caesar.txt',\n",
       " 'shakespeare-hamlet.txt',\n",
       " 'shakespeare-macbeth.txt',\n",
       " 'whitman-leaves.txt']"
      ]
     },
     "execution_count": 2,
     "metadata": {},
     "output_type": "execute_result"
    }
   ],
   "source": [
    "from nltk.corpus import gutenberg\n",
    "gutenberg.fileids()"
   ]
  },
  {
   "cell_type": "code",
   "execution_count": 9,
   "metadata": {
    "collapsed": false
   },
   "outputs": [
    {
     "data": {
      "text/plain": [
       "OrderedDict([('e', 117092),\n",
       "             ('t', 87996),\n",
       "             ('a', 77916),\n",
       "             ('o', 69326),\n",
       "             ('n', 65617),\n",
       "             ('i', 65434),\n",
       "             ('s', 64231),\n",
       "             ('h', 62896),\n",
       "             ('r', 52134),\n",
       "             ('l', 42793),\n",
       "             ('d', 38219),\n",
       "             ('u', 26697),\n",
       "             ('m', 23277),\n",
       "             ('c', 22507),\n",
       "             ('w', 22222),\n",
       "             ('f', 20833),\n",
       "             ('g', 20820),\n",
       "             ('p', 17255),\n",
       "             ('b', 16877),\n",
       "             ('y', 16872),\n",
       "             ('v', 8598),\n",
       "             ('k', 8059),\n",
       "             ('q', 1556),\n",
       "             ('j', 1082),\n",
       "             ('x', 1030),\n",
       "             ('z', 632)])"
      ]
     },
     "execution_count": 9,
     "metadata": {},
     "output_type": "execute_result"
    }
   ],
   "source": [
    "# Getting content from file 'melville-moby_dick.txt'\n",
    "import nltk\n",
    "x= nltk.corpus.gutenberg.words( 'melville-moby_dick.txt')\n",
    "\n",
    "# To find out frequency of 26 characters\n",
    "import string\n",
    "freqs = {}\n",
    "numbers={'0','1','2','3','4','5','6','7','8','9',\" \",\"\"}\n",
    "for line in x:\n",
    "    for char in line:\n",
    "        char=char.lower()\n",
    "        char = char.strip(string.punctuation)\n",
    "        if char not in numbers:\n",
    "            if char in freqs:\n",
    "                freqs[char] += 1\n",
    "            else:\n",
    "                freqs[char] = 1\n",
    "\n",
    "from collections import OrderedDict\n",
    "sorted_dict = OrderedDict(sorted(freqs.items(), key=lambda x: x[1],reverse=True))\n",
    "sorted_dict"
   ]
  }
 ],
 "metadata": {
  "anaconda-cloud": {},
  "kernelspec": {
   "display_name": "Python [default]",
   "language": "python",
   "name": "python3"
  },
  "language_info": {
   "codemirror_mode": {
    "name": "ipython",
    "version": 3
   },
   "file_extension": ".py",
   "mimetype": "text/x-python",
   "name": "python",
   "nbconvert_exporter": "python",
   "pygments_lexer": "ipython3",
   "version": "3.5.2"
  }
 },
 "nbformat": 4,
 "nbformat_minor": 1
}
