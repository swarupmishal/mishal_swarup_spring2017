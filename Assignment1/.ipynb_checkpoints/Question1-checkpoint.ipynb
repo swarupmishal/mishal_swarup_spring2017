{
 "cells": [
  {
   "cell_type": "markdown",
   "metadata": {},
   "source": [
    "# Question 1\n",
    "- Under package Gutenberg, see what files are in it.\n",
    "- Find out how many words and how many unique words in file 'austen-persuasion.txt'.\n",
    "- Calculate the frequency for each words and show the top 10 most frequent words and their frequency.\u000b",
    "Try NOT to use FreqDist module.\n",
    "- Keep the punctuation and stop words in this question."
   ]
  },
  {
   "cell_type": "code",
   "execution_count": 2,
   "metadata": {
    "collapsed": false
   },
   "outputs": [
    {
     "data": {
      "text/plain": [
       "['austen-emma.txt',\n",
       " 'austen-persuasion.txt',\n",
       " 'austen-sense.txt',\n",
       " 'bible-kjv.txt',\n",
       " 'blake-poems.txt',\n",
       " 'bryant-stories.txt',\n",
       " 'burgess-busterbrown.txt',\n",
       " 'carroll-alice.txt',\n",
       " 'chesterton-ball.txt',\n",
       " 'chesterton-brown.txt',\n",
       " 'chesterton-thursday.txt',\n",
       " 'edgeworth-parents.txt',\n",
       " 'melville-moby_dick.txt',\n",
       " 'milton-paradise.txt',\n",
       " 'shakespeare-caesar.txt',\n",
       " 'shakespeare-hamlet.txt',\n",
       " 'shakespeare-macbeth.txt',\n",
       " 'whitman-leaves.txt']"
      ]
     },
     "execution_count": 2,
     "metadata": {},
     "output_type": "execute_result"
    }
   ],
   "source": [
    "import nltk\n",
    "nltk.corpus.gutenberg.fileids()"
   ]
  },
  {
   "cell_type": "code",
   "execution_count": 3,
   "metadata": {
    "collapsed": false
   },
   "outputs": [
    {
     "data": {
      "text/plain": [
       "98171"
      ]
     },
     "execution_count": 3,
     "metadata": {},
     "output_type": "execute_result"
    }
   ],
   "source": [
    "words = nltk.corpus.gutenberg.words(\"austen-persuasion.txt\")\n",
    "len(words)"
   ]
  },
  {
   "cell_type": "code",
   "execution_count": 4,
   "metadata": {
    "collapsed": false
   },
   "outputs": [
    {
     "data": {
      "text/plain": [
       "6132"
      ]
     },
     "execution_count": 4,
     "metadata": {},
     "output_type": "execute_result"
    }
   ],
   "source": [
    "unique_words = set(words)\n",
    "len(unique_words)"
   ]
  },
  {
   "cell_type": "code",
   "execution_count": 5,
   "metadata": {
    "collapsed": false
   },
   "outputs": [
    {
     "name": "stdout",
     "output_type": "stream",
     "text": [
      ", 6750\n",
      "the 3120\n",
      "to 2775\n",
      ". 2741\n",
      "and 2739\n",
      "of 2564\n",
      "a 1529\n",
      "in 1346\n",
      "was 1330\n",
      "; 1290\n"
     ]
    }
   ],
   "source": [
    "#Top 10 frequent words with punctuation marks.\n",
    "#Get the set of unique words.\n",
    "uniques = []\n",
    "for word in words:\n",
    "  if word not in uniques:\n",
    "        uniques.append(word)\n",
    "\n",
    "# Make a list of (count, unique) tuples.\n",
    "counts = []\n",
    "for unique in uniques:\n",
    "  count = 0              # Initialize the count to zero.\n",
    "  for word in words:     # Iterate over the words.\n",
    "    if word == unique:   # Is this word equal to the current unique?\n",
    "      count += 1         # If so, increment the count\n",
    "  counts.append((count, unique))\n",
    "\n",
    "counts.sort()            # Sorting the list puts the lowest counts first.\n",
    "counts.reverse()         # Reverse it, putting the highest counts first.\n",
    "# Print the ten words with the highest counts.\n",
    "for i in range(min(10, len(counts))):\n",
    "  count, word = counts[i]\n",
    "  print('%s %d' % (word, count))"
   ]
  },
  {
   "cell_type": "code",
   "execution_count": 6,
   "metadata": {
    "collapsed": false
   },
   "outputs": [
    {
     "name": "stdout",
     "output_type": "stream",
     "text": [
      "the 3120\n",
      "to 2775\n",
      "and 2739\n",
      "of 2564\n",
      "a 1529\n",
      "in 1346\n",
      "was 1330\n",
      "had 1177\n",
      "her 1159\n",
      "I 1124\n"
     ]
    }
   ],
   "source": [
    "#Top 10 frequent words without punctuation marks.\n",
    "#Create a list of punctuations.\n",
    "punctuation=[',','.','-',';']\n",
    "\n",
    "# Get the set of unique words.\n",
    "uniques = []\n",
    "for word in words:\n",
    "  if word not in uniques:\n",
    "    if word not in punctuation:\n",
    "        uniques.append(word)\n",
    "\n",
    "# Make a list of (count, unique) tuples.\n",
    "counts = []\n",
    "for unique in uniques:\n",
    "  count = 0              # Initialize the count to zero.\n",
    "  for word in words:     # Iterate over the words.\n",
    "    if word == unique:   # Is this word equal to the current unique?\n",
    "      count += 1         # If so, increment the count\n",
    "  counts.append((count, unique))\n",
    "\n",
    "counts.sort()            # Sorting the list puts the lowest counts first.\n",
    "counts.reverse()         # Reverse it, putting the highest counts first.\n",
    "# Print the ten words with the highest counts.\n",
    "for i in range(min(10, len(counts))):\n",
    "  count, word = counts[i]\n",
    "  print('%s %d' % (word, count))"
   ]
  }
 ],
 "metadata": {
  "anaconda-cloud": {},
  "kernelspec": {
   "display_name": "Python [default]",
   "language": "python",
   "name": "python3"
  },
  "language_info": {
   "codemirror_mode": {
    "name": "ipython",
    "version": 3
   },
   "file_extension": ".py",
   "mimetype": "text/x-python",
   "name": "python",
   "nbconvert_exporter": "python",
   "pygments_lexer": "ipython3",
   "version": "3.5.2"
  }
 },
 "nbformat": 4,
 "nbformat_minor": 1
}
