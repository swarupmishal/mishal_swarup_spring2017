{
 "cells": [
  {
   "cell_type": "markdown",
   "metadata": {},
   "source": [
    "# Question 2\n",
    "- Under package Gutenberg get content from file 'melville-moby_dick.txt.' (HINT: Words? Raw?)\n",
    "- Find out frequency of 26 characters. (Turn uppercase into lowercase and count as one character)\n",
    "- List all 26 characters in order base on their frequency. (From most frequent to least frequent)\u000b",
    "Try NOT to use FreqDist module.\n"
   ]
  },
  {
   "cell_type": "code",
   "execution_count": 3,
   "metadata": {
    "collapsed": false
   },
   "outputs": [
    {
     "data": {
      "text/plain": [
       "['austen-emma.txt',\n",
       " 'austen-persuasion.txt',\n",
       " 'austen-sense.txt',\n",
       " 'bible-kjv.txt',\n",
       " 'blake-poems.txt',\n",
       " 'bryant-stories.txt',\n",
       " 'burgess-busterbrown.txt',\n",
       " 'carroll-alice.txt',\n",
       " 'chesterton-ball.txt',\n",
       " 'chesterton-brown.txt',\n",
       " 'chesterton-thursday.txt',\n",
       " 'edgeworth-parents.txt',\n",
       " 'melville-moby_dick.txt',\n",
       " 'milton-paradise.txt',\n",
       " 'shakespeare-caesar.txt',\n",
       " 'shakespeare-hamlet.txt',\n",
       " 'shakespeare-macbeth.txt',\n",
       " 'whitman-leaves.txt']"
      ]
     },
     "execution_count": 3,
     "metadata": {},
     "output_type": "execute_result"
    }
   ],
   "source": [
    "from nltk.corpus import gutenberg\n",
    "gutenberg.fileids()"
   ]
  },
  {
   "cell_type": "code",
   "execution_count": 7,
   "metadata": {
    "collapsed": false
   },
   "outputs": [
    {
     "data": {
      "text/plain": [
       "['[', 'Moby', 'Dick', 'by', 'Herman', 'Melville', ...]"
      ]
     },
     "execution_count": 7,
     "metadata": {},
     "output_type": "execute_result"
    }
   ],
   "source": [
    "words = gutenberg.words(\"melville-moby_dick.txt\")\n",
    "words"
   ]
  },
  {
   "cell_type": "code",
   "execution_count": 23,
   "metadata": {
    "collapsed": false
   },
   "outputs": [
    {
     "data": {
      "text/plain": [
       "Counter({'!': 498,\n",
       "         '\"': 1593,\n",
       "         \"'\": 238,\n",
       "         '(': 5,\n",
       "         ')': 137,\n",
       "         '*': 23,\n",
       "         ',': 516,\n",
       "         '-': 3432,\n",
       "         '.': 696,\n",
       "         '0': 131,\n",
       "         '1': 140,\n",
       "         '2': 58,\n",
       "         '3': 43,\n",
       "         '4': 36,\n",
       "         '5': 53,\n",
       "         '6': 36,\n",
       "         '7': 51,\n",
       "         '8': 58,\n",
       "         '9': 34,\n",
       "         ':': 34,\n",
       "         ';': 101,\n",
       "         '?': 367,\n",
       "         ']': 2,\n",
       "         '_': 26,\n",
       "         'a': 77916,\n",
       "         'b': 16877,\n",
       "         'c': 22507,\n",
       "         'd': 38219,\n",
       "         'e': 117092,\n",
       "         'f': 20833,\n",
       "         'g': 20820,\n",
       "         'h': 62896,\n",
       "         'i': 65434,\n",
       "         'j': 1082,\n",
       "         'k': 8059,\n",
       "         'l': 42793,\n",
       "         'm': 23277,\n",
       "         'n': 65617,\n",
       "         'o': 69326,\n",
       "         'p': 17255,\n",
       "         'q': 1556,\n",
       "         'r': 52134,\n",
       "         's': 64231,\n",
       "         't': 87996,\n",
       "         'u': 26697,\n",
       "         'v': 8598,\n",
       "         'w': 22222,\n",
       "         'x': 1030,\n",
       "         'y': 16872,\n",
       "         'z': 632})"
      ]
     },
     "execution_count": 23,
     "metadata": {},
     "output_type": "execute_result"
    }
   ],
   "source": [
    "from collections import Counter\n",
    "count = Counter()\n",
    "unneeded = ['!','\"','$','&',\"'\",'(',')','*',',','-','.','0','1','2','3','4','5','6','7','8','9',':',';','?','[',']','_']\n",
    "for word in words:\n",
    "    if word not in unneeded:\n",
    "        word_lower=word.lower()\n",
    "        count += Counter(word_lower.strip())\n",
    "count"
   ]
  },
  {
   "cell_type": "code",
   "execution_count": 24,
   "metadata": {
    "collapsed": false
   },
   "outputs": [
    {
     "data": {
      "text/plain": [
       "OrderedDict([('e', 117092),\n",
       "             ('t', 87996),\n",
       "             ('a', 77916),\n",
       "             ('o', 69326),\n",
       "             ('n', 65617),\n",
       "             ('i', 65434),\n",
       "             ('s', 64231),\n",
       "             ('h', 62896),\n",
       "             ('r', 52134),\n",
       "             ('l', 42793),\n",
       "             ('d', 38219),\n",
       "             ('u', 26697),\n",
       "             ('m', 23277),\n",
       "             ('c', 22507),\n",
       "             ('w', 22222),\n",
       "             ('f', 20833),\n",
       "             ('g', 20820),\n",
       "             ('p', 17255),\n",
       "             ('b', 16877),\n",
       "             ('y', 16872),\n",
       "             ('v', 8598),\n",
       "             ('k', 8059),\n",
       "             ('-', 3432),\n",
       "             ('\"', 1593),\n",
       "             ('q', 1556),\n",
       "             ('j', 1082),\n",
       "             ('x', 1030),\n",
       "             ('.', 696),\n",
       "             ('z', 632),\n",
       "             (',', 516),\n",
       "             ('!', 498),\n",
       "             ('?', 367),\n",
       "             (\"'\", 238),\n",
       "             ('1', 140),\n",
       "             (')', 137),\n",
       "             ('0', 131),\n",
       "             (';', 101),\n",
       "             ('2', 58),\n",
       "             ('8', 58),\n",
       "             ('5', 53),\n",
       "             ('7', 51),\n",
       "             ('3', 43),\n",
       "             ('6', 36),\n",
       "             ('4', 36),\n",
       "             (':', 34),\n",
       "             ('9', 34),\n",
       "             ('_', 26),\n",
       "             ('*', 23),\n",
       "             ('(', 5),\n",
       "             (']', 2)])"
      ]
     },
     "execution_count": 24,
     "metadata": {},
     "output_type": "execute_result"
    }
   ],
   "source": [
    "from collections import OrderedDict\n",
    "dict_sorted_by_value = OrderedDict(sorted(count.items(), key=lambda x: x[1],reverse=True))\n",
    "dict_sorted_by_value"
   ]
  }
 ],
 "metadata": {
  "anaconda-cloud": {},
  "kernelspec": {
   "display_name": "Python [default]",
   "language": "python",
   "name": "python3"
  },
  "language_info": {
   "codemirror_mode": {
    "name": "ipython",
    "version": 3
   },
   "file_extension": ".py",
   "mimetype": "text/x-python",
   "name": "python",
   "nbconvert_exporter": "python",
   "pygments_lexer": "ipython3",
   "version": "3.5.2"
  }
 },
 "nbformat": 4,
 "nbformat_minor": 1
}
