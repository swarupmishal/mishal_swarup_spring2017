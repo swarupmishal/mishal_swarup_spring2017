{
 "cells": [
  {
   "cell_type": "markdown",
   "metadata": {},
   "source": [
    "# Question 3\n",
    "- Under package Webtext, see what files are in it.\n",
    "- Get content in file 'pirates.txt'.\n",
    "- According to the number of lines for Jack Sparrow and Will Turner, find out who is the real leading man in this movie."
   ]
  },
  {
   "cell_type": "code",
   "execution_count": 1,
   "metadata": {
    "collapsed": false
   },
   "outputs": [
    {
     "data": {
      "text/plain": [
       "['firefox.txt',\n",
       " 'grail.txt',\n",
       " 'overheard.txt',\n",
       " 'pirates.txt',\n",
       " 'singles.txt',\n",
       " 'wine.txt']"
      ]
     },
     "execution_count": 1,
     "metadata": {},
     "output_type": "execute_result"
    }
   ],
   "source": [
    "import nltk\n",
    "nltk.corpus.webtext.fileids()"
   ]
  },
  {
   "cell_type": "code",
   "execution_count": 20,
   "metadata": {
    "collapsed": false
   },
   "outputs": [
    {
     "data": {
      "text/plain": [
       "[['PIRATES', 'OF', 'THE', 'CARRIBEAN', ':', 'DEAD', 'MAN', \"'\", 'S', 'CHEST', ',', 'by', 'Ted', 'Elliott', '&', 'Terry', 'Rossio', '[', 'view', 'looking', 'straight', 'down', 'at', 'rolling', 'swells', ',', 'sound', 'of', 'wind', 'and', 'thunder', ',', 'then', 'a', 'low', 'heartbeat', ']', 'Scene', ':', 'PORT', 'ROYAL', '[', 'teacups', 'on', 'a', 'table', 'in', 'the', 'rain', ']', '[', 'sheet', 'music', 'on', 'music', 'stands', 'in', 'the', 'rain', ']', '[', 'bouquet', 'of', 'white', 'orchids', ',', 'Elizabeth', 'sitting', 'in', 'the', 'rain', 'holding', 'the', 'bouquet', ']', '[', 'men', 'rowing', ',', 'men', 'on', 'horseback', ',', 'to', 'the', 'sound', 'of', 'thunder', ']', '[', 'EITC', 'logo', 'on', 'flag', 'blowing', 'in', 'the', 'wind', ']', '[', 'many', 'rowboats', 'are', 'entering', 'the', 'harbor', ']', '[', 'Elizabeth', 'sitting', 'alone', ',', 'at', 'a', 'distance', ']', '[', 'marines', 'running', ',', 'kick', 'a', 'door', 'in', ']', '[', 'a', 'mule', 'is', 'seen', 'on', 'the', 'left', 'in', 'the', 'barn', 'where', 'the', 'marines', 'enter', ']', '[', 'Liz', 'looking', 'over', 'her', 'shoulder', ']', '[', 'Elizabeth', 'drops', 'her', 'bouquet', ']', '[', 'Will', 'is', 'in', 'manacles', ',', 'being', 'escorted', 'by', 'red', 'coats', ']', 'ELIZABETH', 'SWANN', ':', 'Will', '...!'], ['[', 'Elizabeth', 'runs', 'to', 'Will', ']', 'ELIZABETH', 'SWANN', ':', 'Why', 'is', 'this', 'happening', '?'], ...]"
      ]
     },
     "execution_count": 20,
     "metadata": {},
     "output_type": "execute_result"
    }
   ],
   "source": [
    "pirates = nltk.corpus.webtext.sents('pirates.txt')\n",
    "pirates"
   ]
  },
  {
   "cell_type": "code",
   "execution_count": 28,
   "metadata": {
    "collapsed": false
   },
   "outputs": [
    {
     "name": "stdout",
     "output_type": "stream",
     "text": [
      "193\n",
      "133\n",
      "Jack Sparrow is real leading man in this movie!\n"
     ]
    }
   ],
   "source": [
    "#A better way to solve the problem\n",
    "pirate = nltk.corpus.webtext.raw('pirates.txt')\n",
    "\n",
    "count_Jack = pirate.count(\"JACK SPARROW:\")\n",
    "count_will = pirate.count(\"WILL TURNER:\")\n",
    "\n",
    "print(count_Jack)\n",
    "print(count_will)\n",
    "\n",
    "if(count_Jack > count_will):\n",
    "    print(\"Jack Sparrow is real leading man in this movie!\")\n",
    "else:\n",
    "    print(\"Will Turner is real leading man in this movie!\")"
   ]
  }
 ],
 "metadata": {
  "anaconda-cloud": {},
  "kernelspec": {
   "display_name": "Python [default]",
   "language": "python",
   "name": "python3"
  },
  "language_info": {
   "codemirror_mode": {
    "name": "ipython",
    "version": 3
   },
   "file_extension": ".py",
   "mimetype": "text/x-python",
   "name": "python",
   "nbconvert_exporter": "python",
   "pygments_lexer": "ipython3",
   "version": "3.5.2"
  }
 },
 "nbformat": 4,
 "nbformat_minor": 1
}
