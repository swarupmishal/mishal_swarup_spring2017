{
 "cells": [
  {
   "cell_type": "markdown",
   "metadata": {},
   "source": [
    "# Question 4\n",
    "- Under package nps_chat, see what files are in it.\n",
    "- Find 'user121' and see how many posts he posted in all.\n",
    "- Find out how many unique user in each age range group. (20s, 30s,...)(Hint: files' name)"
   ]
  },
  {
   "cell_type": "code",
   "execution_count": 32,
   "metadata": {
    "collapsed": false
   },
   "outputs": [],
   "source": [
    "import nltk \n",
    "from nltk.corpus import nps_chat as nps"
   ]
  },
  {
   "cell_type": "code",
   "execution_count": 33,
   "metadata": {
    "collapsed": false
   },
   "outputs": [
    {
     "data": {
      "text/plain": [
       "['10-19-20s_706posts.xml',\n",
       " '10-19-30s_705posts.xml',\n",
       " '10-19-40s_686posts.xml',\n",
       " '10-19-adults_706posts.xml',\n",
       " '10-24-40s_706posts.xml',\n",
       " '10-26-teens_706posts.xml',\n",
       " '11-06-adults_706posts.xml',\n",
       " '11-08-20s_705posts.xml',\n",
       " '11-08-40s_706posts.xml',\n",
       " '11-08-adults_705posts.xml',\n",
       " '11-08-teens_706posts.xml',\n",
       " '11-09-20s_706posts.xml',\n",
       " '11-09-40s_706posts.xml',\n",
       " '11-09-adults_706posts.xml',\n",
       " '11-09-teens_706posts.xml']"
      ]
     },
     "execution_count": 33,
     "metadata": {},
     "output_type": "execute_result"
    }
   ],
   "source": [
    "# Files under package nps_chat\n",
    "nps.fileids() # Displays all files in nps_chat"
   ]
  },
  {
   "cell_type": "code",
   "execution_count": 34,
   "metadata": {
    "collapsed": false
   },
   "outputs": [
    {
     "data": {
      "text/plain": [
       "132"
      ]
     },
     "execution_count": 34,
     "metadata": {},
     "output_type": "execute_result"
    }
   ],
   "source": [
    "users=[]\n",
    "posts = nltk.corpus.nps_chat.fileids()    # Get all posts content from all nps files.\n",
    "import re\n",
    "for post in posts:\n",
    "    rawdata=nltk.corpus.nps_chat.raw(post)\n",
    "    user=re.findall(r'user=\"\\d{2}-\\d{2}-(.*)\">', rawdata)\n",
    "    for u in user:\n",
    "        users.append(u)\n",
    "UserCount= [x for x in users if \"User121\" in x]\n",
    "len(UserCount) # This will give the number of posts posted by user 'User121'"
   ]
  },
  {
   "cell_type": "code",
   "execution_count": 35,
   "metadata": {
    "collapsed": false
   },
   "outputs": [
    {
     "name": "stdout",
     "output_type": "stream",
     "text": [
      "Total users in the 'Teens' age group are: 206\n",
      "Total users in the '20s' age group are: 162\n",
      "Total users in the '30s' age group are: 44\n",
      "Total users in the '40s' age group are: 80\n",
      "Total users in the 'Adult' age group are: 138\n"
     ]
    }
   ],
   "source": [
    "FirstAgeGroup= [a for a in users if \"teen\" in a]\n",
    "first=set(FirstAgeGroup)\n",
    "print(\"Total users in the 'Teens' age group are:\", len(first)) # This will print number of users in the age group teen\n",
    "\n",
    "SecondAgeGroup= [a for a in users if \"20s\" in a]\n",
    "second=set(SecondAgeGroup)\n",
    "print(\"Total users in the '20s' age group are:\", len(second)) # This will print number of users in the age group of 20s\n",
    "\n",
    "ThirdAgeGroup= [a for a in users if \"30s\" in a]\n",
    "third=set(ThirdAgeGroup)\n",
    "print(\"Total users in the '30s' age group are:\", len(third)) # This will print number of users in the age group of 30s\n",
    "\n",
    "FourthAgeGroup= [a for a in users if \"40s\" in a]\n",
    "fourth=set(FourthAgeGroup)\n",
    "print(\"Total users in the '40s' age group are:\", len(fourth)) # This will print number of users in the age group of 40s\n",
    "\n",
    "LastAgeGroup= [a for a in users if \"adults\" in a]\n",
    "last=set(LastAgeGroup)\n",
    "print(\"Total users in the 'Adult' age group are:\", len(last)) # This will print number of users in the age group of adults"
   ]
  }
 ],
 "metadata": {
  "anaconda-cloud": {},
  "kernelspec": {
   "display_name": "Python [default]",
   "language": "python",
   "name": "python3"
  },
  "language_info": {
   "codemirror_mode": {
    "name": "ipython",
    "version": 3
   },
   "file_extension": ".py",
   "mimetype": "text/x-python",
   "name": "python",
   "nbconvert_exporter": "python",
   "pygments_lexer": "ipython3",
   "version": "3.5.2"
  }
 },
 "nbformat": 4,
 "nbformat_minor": 1
}
