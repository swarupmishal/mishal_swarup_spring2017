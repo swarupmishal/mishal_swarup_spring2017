{
 "cells": [
  {
   "cell_type": "markdown",
   "metadata": {},
   "source": [
    "# Question 7\n",
    "- Use Name corpus, calculate the probability of a name being of a male or female base on the last character(s) of name.\n",
    "- Sample steps:\n",
    "    1. For char ‘a’:\n",
    "        total_names = sum(names ending with ‘a’)\n",
    "        male_names = sum(male names ending with ‘a’)\n",
    "        female_names = sum(female names ending with ‘a’)\n",
    "        Probability of name being male = 100 * male_names / total_names\n",
    "    2. Do this for all characters. \n",
    "- Output must come with proper title (e.g. [a] male: 25%, female: 60%)\n"
   ]
  },
  {
   "cell_type": "code",
   "execution_count": 1,
   "metadata": {
    "collapsed": false
   },
   "outputs": [
    {
     "data": {
      "text/plain": [
       "['female.txt', 'male.txt']"
      ]
     },
     "execution_count": 1,
     "metadata": {},
     "output_type": "execute_result"
    }
   ],
   "source": [
    "from nltk.corpus import names\n",
    "names.fileids()"
   ]
  },
  {
   "cell_type": "code",
   "execution_count": 15,
   "metadata": {
    "collapsed": false
   },
   "outputs": [
    {
     "name": "stdout",
     "output_type": "stream",
     "text": [
      "[ a ] male: 1.609322974472808 %, female: 98.3906770255272 %\n",
      "[ b ] male: 70.0 %, female: 30.0 %\n",
      "[ c ] male: 100.0 %, female: 0.0 %\n",
      "[ d ] male: 85.39325842696628 %, female: 14.606741573033707 %\n",
      "[ e ] male: 24.63157894736842 %, female: 75.36842105263158 %\n",
      "[ f ] male: 92.5925925925926 %, female: 7.4074074074074066 %\n",
      "[ g ] male: 76.19047619047619 %, female: 23.809523809523807 %\n",
      "[ h ] male: 46.96969696969697 %, female: 53.03030303030303 %\n",
      "[ i ] male: 13.623978201634879 %, female: 86.37602179836512 %\n",
      "[ j ] male: 75.0 %, female: 25.0 %\n",
      "[ k ] male: 95.83333333333334 %, female: 4.166666666666666 %\n",
      "[ l ] male: 51.09289617486339 %, female: 48.90710382513661 %\n",
      "[ m ] male: 84.33734939759037 %, female: 15.66265060240964 %\n",
      "[ n ] male: 55.32407407407407 %, female: 44.675925925925924 %\n",
      "[ o ] male: 83.33333333333334 %, female: 16.666666666666664 %\n",
      "[ p ] male: 90.0 %, female: 10.0 %\n",
      "[ q ] No Values found ending in q\n",
      "[ r ] male: 80.16877637130801 %, female: 19.831223628691983 %\n",
      "[ s ] male: 71.20743034055728 %, female: 28.792569659442723 %\n",
      "[ t ] male: 70.6896551724138 %, female: 29.310344827586203 %\n",
      "[ u ] male: 66.66666666666666 %, female: 33.33333333333333 %\n",
      "[ v ] male: 88.88888888888889 %, female: 11.11111111111111 %\n",
      "[ w ] male: 77.27272727272727 %, female: 22.727272727272727 %\n",
      "[ x ] male: 50.0 %, female: 50.0 %\n",
      "[ y ] male: 41.86633039092055 %, female: 58.13366960907944 %\n",
      "[ z ] male: 73.33333333333333 %, female: 26.666666666666668 %\n"
     ]
    }
   ],
   "source": [
    "female_names = names.words('female.txt')\n",
    "male_names = names.words('male.txt')\n",
    "\n",
    "def calc_male_prob(a,b):\n",
    "    try:\n",
    "        male_prob = a/b * 100\n",
    "        return male_prob\n",
    "    except:\n",
    "        return \"No Value found\"\n",
    "    \n",
    "def calc_female_prob(a,b):\n",
    "    try:\n",
    "        female_prob = a/b * 100\n",
    "        return female_prob\n",
    "    except:\n",
    "        return \"No Value found\"\n",
    "\n",
    "\n",
    "from string import ascii_lowercase\n",
    "for alpha in ascii_lowercase:\n",
    "    list_of_names = []\n",
    "    list_of_female_names = []\n",
    "    list_of_male_names = []\n",
    "    for word in female_names:\n",
    "        if word.endswith(alpha):\n",
    "            list_of_names.append(word)\n",
    "            list_of_female_names.append(word)\n",
    "\n",
    "    for word in male_names:\n",
    "        if word.endswith(alpha):\n",
    "            list_of_names.append(word)\n",
    "            list_of_male_names.append(word)\n",
    "    \n",
    "    male_prob = calc_male_prob(len(list_of_male_names),len(list_of_names))\n",
    "    female_prob = calc_female_prob(len(list_of_female_names),len(list_of_names))\n",
    "    \n",
    "    if male_prob != \"No Value found\":\n",
    "        print(\"[\",alpha,\"] male:\",male_prob,\"%, female:\",female_prob,\"%\")\n",
    "    else:\n",
    "        print(\"[\",alpha,\"] No Values found ending in\",alpha)\n"
   ]
  }
 ],
 "metadata": {
  "kernelspec": {
   "display_name": "Python [default]",
   "language": "python",
   "name": "python3"
  },
  "language_info": {
   "codemirror_mode": {
    "name": "ipython",
    "version": 3
   },
   "file_extension": ".py",
   "mimetype": "text/x-python",
   "name": "python",
   "nbconvert_exporter": "python",
   "pygments_lexer": "ipython3",
   "version": "3.5.2"
  }
 },
 "nbformat": 4,
 "nbformat_minor": 1
}
