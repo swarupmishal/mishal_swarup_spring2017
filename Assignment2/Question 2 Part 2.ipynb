{
 "cells": [
  {
   "cell_type": "markdown",
   "metadata": {},
   "source": [
    "# Question 2 Part 2\n",
    "- Read only the json files which contain the key called “restaurants”\n",
    "- Each (or most of the json files) contain a key called “open” which contains the details of the operation (timings) of the restaurants. For each json file, read the timings of the restaurants.\n",
    "- Data of the operation timings of the restaurants is present for each day of the week. I want you to extract each of this data and write it in an excel sheet."
   ]
  },
  {
   "cell_type": "code",
   "execution_count": 5,
   "metadata": {
    "collapsed": false
   },
   "outputs": [],
   "source": [
    "import glob\n",
    "import json\n",
    "json_files = glob.glob(\"Data/*.json\")\n",
    "\n",
    "restaurants=[]\n",
    "for file in json_files:\n",
    "    with open(file) as data_file:    \n",
    "        data = json.load(data_file)\n",
    "        if data['term']==\"restaurants\":\n",
    "            restaurants.append(file)\n",
    "            \n",
    "#print(len(restaurants))"
   ]
  },
  {
   "cell_type": "code",
   "execution_count": 43,
   "metadata": {
    "collapsed": false
   },
   "outputs": [],
   "source": [
    "import csv\n",
    "with open(\"question2.csv\",\"w\",encoding='utf-8') as myfile:\n",
    "    writer = csv.writer(myfile, delimiter=\",\", quotechar=\"|\", quoting=csv.QUOTE_MINIMAL, lineterminator='\\n')\n",
    "    writer.writerow([\"Name of Restaurant\",\"City\",\"Country Code\",\"Day of Week\",\"Start Time Hour\",\"Start Time Minute\",\"End Time Hour\",\"End Time Minute\"])\n",
    "    for file in restaurants:\n",
    "        with open(file) as data_file:    \n",
    "            data = json.load(data_file)\n",
    "            try: \n",
    "                for i in range(0,len(data['hours'][0]['open'])):\n",
    "                    writer.writerow([data['id'],data['location']['city'],data['location']['country'],data['hours'][0]['open'][i]['day'],data['hours'][0]['open'][i]['start'][:2],data['hours'][0]['open'][i]['start'][-2:],data['hours'][0]['open'][i]['end'][:2],data['hours'][0]['open'][i]['end'][-2:]])\n",
    "            except KeyError:\n",
    "                pass\n",
    "        "
   ]
  }
 ],
 "metadata": {
  "anaconda-cloud": {},
  "kernelspec": {
   "display_name": "Python [default]",
   "language": "python",
   "name": "python3"
  },
  "language_info": {
   "codemirror_mode": {
    "name": "ipython",
    "version": 3
   },
   "file_extension": ".py",
   "mimetype": "text/x-python",
   "name": "python",
   "nbconvert_exporter": "python",
   "pygments_lexer": "ipython3",
   "version": "3.5.2"
  }
 },
 "nbformat": 4,
 "nbformat_minor": 2
}
