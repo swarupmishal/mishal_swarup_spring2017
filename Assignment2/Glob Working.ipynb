{
 "cells": [
  {
   "cell_type": "code",
   "execution_count": 12,
   "metadata": {
    "collapsed": false
   },
   "outputs": [
    {
     "name": "stdout",
     "output_type": "stream",
     "text": [
      "192427\n",
      "98171\n",
      "141576\n",
      "1010654\n",
      "8354\n",
      "55563\n",
      "18963\n",
      "34110\n",
      "96996\n",
      "86063\n",
      "69213\n",
      "210663\n",
      "260819\n",
      "96825\n",
      "25833\n",
      "37360\n",
      "23140\n",
      "154883\n"
     ]
    }
   ],
   "source": [
    "import glob\n",
    "from nltk.corpus import gutenberg\n",
    "files = glob.glob(\"C:/Users/swaru/AppData/Roaming/nltk_data/corpora/gutenberg/*.txt\")\n",
    "for filename in files:\n",
    "    words = gutenberg.words(filename)\n",
    "    print(len(words))"
   ]
  }
 ],
 "metadata": {
  "kernelspec": {
   "display_name": "Python [default]",
   "language": "python",
   "name": "python3"
  },
  "language_info": {
   "codemirror_mode": {
    "name": "ipython",
    "version": 3
   },
   "file_extension": ".py",
   "mimetype": "text/x-python",
   "name": "python",
   "nbconvert_exporter": "python",
   "pygments_lexer": "ipython3",
   "version": "3.5.2"
  }
 },
 "nbformat": 4,
 "nbformat_minor": 1
}
