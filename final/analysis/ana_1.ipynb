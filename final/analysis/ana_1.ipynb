{
 "cells": [
  {
   "cell_type": "markdown",
   "metadata": {},
   "source": [
    "# Analysis 1\n",
    "## Analyzing Pattern of Crime over the years since 2001"
   ]
  },
  {
   "cell_type": "code",
   "execution_count": 16,
   "metadata": {
    "collapsed": true
   },
   "outputs": [],
   "source": [
    "#Import the required packages\n",
    "import numpy as np\n",
    "import pandas as pd\n",
    "import matplotlib.pyplot as plt\n",
    "import seaborn as sns\n",
    "import os\n",
    "import csv\n",
    "%matplotlib inline"
   ]
  },
  {
   "cell_type": "code",
   "execution_count": 17,
   "metadata": {
    "collapsed": false
   },
   "outputs": [],
   "source": [
    "#Read the input file\n",
    "df=pd.read_csv('../data/raw_data/Crimes_-_2001_to_present.csv')"
   ]
  },
  {
   "cell_type": "code",
   "execution_count": 18,
   "metadata": {
    "collapsed": false
   },
   "outputs": [
    {
     "data": {
      "text/html": [
       "<div>\n",
       "<table border=\"1\" class=\"dataframe\">\n",
       "  <thead>\n",
       "    <tr style=\"text-align: right;\">\n",
       "      <th></th>\n",
       "      <th>ID</th>\n",
       "      <th>Case Number</th>\n",
       "      <th>Date</th>\n",
       "      <th>Block</th>\n",
       "      <th>IUCR</th>\n",
       "      <th>Primary Type</th>\n",
       "      <th>Description</th>\n",
       "      <th>Location Description</th>\n",
       "      <th>Arrest</th>\n",
       "      <th>Domestic</th>\n",
       "      <th>...</th>\n",
       "      <th>Ward</th>\n",
       "      <th>Community Area</th>\n",
       "      <th>FBI Code</th>\n",
       "      <th>X Coordinate</th>\n",
       "      <th>Y Coordinate</th>\n",
       "      <th>Year</th>\n",
       "      <th>Updated On</th>\n",
       "      <th>Latitude</th>\n",
       "      <th>Longitude</th>\n",
       "      <th>Location</th>\n",
       "    </tr>\n",
       "  </thead>\n",
       "  <tbody>\n",
       "    <tr>\n",
       "      <th>0</th>\n",
       "      <td>5708019</td>\n",
       "      <td>HN516812</td>\n",
       "      <td>08/07/2007 05:00:00 PM</td>\n",
       "      <td>018XX W 103RD ST</td>\n",
       "      <td>1310</td>\n",
       "      <td>CRIMINAL DAMAGE</td>\n",
       "      <td>TO PROPERTY</td>\n",
       "      <td>CONSTRUCTION SITE</td>\n",
       "      <td>False</td>\n",
       "      <td>False</td>\n",
       "      <td>...</td>\n",
       "      <td>19.0</td>\n",
       "      <td>72.0</td>\n",
       "      <td>14</td>\n",
       "      <td>1165922.0</td>\n",
       "      <td>1836379.0</td>\n",
       "      <td>2007</td>\n",
       "      <td>04/15/2016 08:55:02 AM</td>\n",
       "      <td>41.706602</td>\n",
       "      <td>-87.668011</td>\n",
       "      <td>(41.706601577, -87.668010676)</td>\n",
       "    </tr>\n",
       "    <tr>\n",
       "      <th>1</th>\n",
       "      <td>5708022</td>\n",
       "      <td>HN515380</td>\n",
       "      <td>08/07/2007 09:00:00 PM</td>\n",
       "      <td>066XX S ELLIS AVE</td>\n",
       "      <td>1811</td>\n",
       "      <td>NARCOTICS</td>\n",
       "      <td>POSS: CANNABIS 30GMS OR LESS</td>\n",
       "      <td>SCHOOL, PUBLIC, BUILDING</td>\n",
       "      <td>False</td>\n",
       "      <td>False</td>\n",
       "      <td>...</td>\n",
       "      <td>5.0</td>\n",
       "      <td>42.0</td>\n",
       "      <td>18</td>\n",
       "      <td>1184028.0</td>\n",
       "      <td>1861290.0</td>\n",
       "      <td>2007</td>\n",
       "      <td>04/15/2016 08:55:02 AM</td>\n",
       "      <td>41.774557</td>\n",
       "      <td>-87.600931</td>\n",
       "      <td>(41.77455706, -87.600931147)</td>\n",
       "    </tr>\n",
       "    <tr>\n",
       "      <th>2</th>\n",
       "      <td>5708025</td>\n",
       "      <td>HN516837</td>\n",
       "      <td>08/03/2007 10:00:00 AM</td>\n",
       "      <td>054XX W WINDSOR AVE</td>\n",
       "      <td>1310</td>\n",
       "      <td>CRIMINAL DAMAGE</td>\n",
       "      <td>TO PROPERTY</td>\n",
       "      <td>RESIDENCE</td>\n",
       "      <td>False</td>\n",
       "      <td>False</td>\n",
       "      <td>...</td>\n",
       "      <td>45.0</td>\n",
       "      <td>15.0</td>\n",
       "      <td>14</td>\n",
       "      <td>1139275.0</td>\n",
       "      <td>1929741.0</td>\n",
       "      <td>2007</td>\n",
       "      <td>04/15/2016 08:55:02 AM</td>\n",
       "      <td>41.963325</td>\n",
       "      <td>-87.763324</td>\n",
       "      <td>(41.963324609, -87.763324045)</td>\n",
       "    </tr>\n",
       "    <tr>\n",
       "      <th>3</th>\n",
       "      <td>5708028</td>\n",
       "      <td>HN516787</td>\n",
       "      <td>08/03/2007 04:30:00 PM</td>\n",
       "      <td>001XX N STATE ST</td>\n",
       "      <td>0820</td>\n",
       "      <td>THEFT</td>\n",
       "      <td>$500 AND UNDER</td>\n",
       "      <td>GROCERY FOOD STORE</td>\n",
       "      <td>False</td>\n",
       "      <td>False</td>\n",
       "      <td>...</td>\n",
       "      <td>42.0</td>\n",
       "      <td>32.0</td>\n",
       "      <td>06</td>\n",
       "      <td>1176336.0</td>\n",
       "      <td>1901448.0</td>\n",
       "      <td>2007</td>\n",
       "      <td>04/15/2016 08:55:02 AM</td>\n",
       "      <td>41.884930</td>\n",
       "      <td>-87.627920</td>\n",
       "      <td>(41.884930201, -87.627919724)</td>\n",
       "    </tr>\n",
       "    <tr>\n",
       "      <th>4</th>\n",
       "      <td>5708029</td>\n",
       "      <td>HN495945</td>\n",
       "      <td>07/29/2007 10:02:00 AM</td>\n",
       "      <td>078XX S BENNETT AVE</td>\n",
       "      <td>2017</td>\n",
       "      <td>NARCOTICS</td>\n",
       "      <td>MANU/DELIVER:CRACK</td>\n",
       "      <td>VEHICLE NON-COMMERCIAL</td>\n",
       "      <td>True</td>\n",
       "      <td>False</td>\n",
       "      <td>...</td>\n",
       "      <td>8.0</td>\n",
       "      <td>43.0</td>\n",
       "      <td>18</td>\n",
       "      <td>1190231.0</td>\n",
       "      <td>1853330.0</td>\n",
       "      <td>2007</td>\n",
       "      <td>04/15/2016 08:55:02 AM</td>\n",
       "      <td>41.752567</td>\n",
       "      <td>-87.578448</td>\n",
       "      <td>(41.752566947, -87.578448404)</td>\n",
       "    </tr>\n",
       "  </tbody>\n",
       "</table>\n",
       "<p>5 rows × 22 columns</p>\n",
       "</div>"
      ],
      "text/plain": [
       "        ID Case Number                    Date                Block  IUCR  \\\n",
       "0  5708019    HN516812  08/07/2007 05:00:00 PM     018XX W 103RD ST  1310   \n",
       "1  5708022    HN515380  08/07/2007 09:00:00 PM    066XX S ELLIS AVE  1811   \n",
       "2  5708025    HN516837  08/03/2007 10:00:00 AM  054XX W WINDSOR AVE  1310   \n",
       "3  5708028    HN516787  08/03/2007 04:30:00 PM     001XX N STATE ST  0820   \n",
       "4  5708029    HN495945  07/29/2007 10:02:00 AM  078XX S BENNETT AVE  2017   \n",
       "\n",
       "      Primary Type                   Description      Location Description  \\\n",
       "0  CRIMINAL DAMAGE                   TO PROPERTY         CONSTRUCTION SITE   \n",
       "1        NARCOTICS  POSS: CANNABIS 30GMS OR LESS  SCHOOL, PUBLIC, BUILDING   \n",
       "2  CRIMINAL DAMAGE                   TO PROPERTY                 RESIDENCE   \n",
       "3            THEFT                $500 AND UNDER        GROCERY FOOD STORE   \n",
       "4        NARCOTICS            MANU/DELIVER:CRACK    VEHICLE NON-COMMERCIAL   \n",
       "\n",
       "  Arrest Domestic              ...                Ward  Community Area  \\\n",
       "0  False    False              ...                19.0            72.0   \n",
       "1  False    False              ...                 5.0            42.0   \n",
       "2  False    False              ...                45.0            15.0   \n",
       "3  False    False              ...                42.0            32.0   \n",
       "4   True    False              ...                 8.0            43.0   \n",
       "\n",
       "   FBI Code  X Coordinate Y Coordinate  Year              Updated On  \\\n",
       "0        14     1165922.0    1836379.0  2007  04/15/2016 08:55:02 AM   \n",
       "1        18     1184028.0    1861290.0  2007  04/15/2016 08:55:02 AM   \n",
       "2        14     1139275.0    1929741.0  2007  04/15/2016 08:55:02 AM   \n",
       "3        06     1176336.0    1901448.0  2007  04/15/2016 08:55:02 AM   \n",
       "4        18     1190231.0    1853330.0  2007  04/15/2016 08:55:02 AM   \n",
       "\n",
       "    Latitude  Longitude                       Location  \n",
       "0  41.706602 -87.668011  (41.706601577, -87.668010676)  \n",
       "1  41.774557 -87.600931   (41.77455706, -87.600931147)  \n",
       "2  41.963325 -87.763324  (41.963324609, -87.763324045)  \n",
       "3  41.884930 -87.627920  (41.884930201, -87.627919724)  \n",
       "4  41.752567 -87.578448  (41.752566947, -87.578448404)  \n",
       "\n",
       "[5 rows x 22 columns]"
      ]
     },
     "execution_count": 18,
     "metadata": {},
     "output_type": "execute_result"
    }
   ],
   "source": [
    "#Print the input\n",
    "df.head()"
   ]
  },
  {
   "cell_type": "code",
   "execution_count": 5,
   "metadata": {
    "collapsed": false
   },
   "outputs": [
    {
     "data": {
      "text/plain": [
       "Primary Type\n",
       "ARSON                                  10516\n",
       "ASSAULT                               386125\n",
       "BATTERY                              1151775\n",
       "BURGLARY                              368363\n",
       "CONCEALED CARRY LICENSE VIOLATION        100\n",
       "dtype: int64"
      ]
     },
     "execution_count": 5,
     "metadata": {},
     "output_type": "execute_result"
    }
   ],
   "source": [
    "#Total Count of all crimes from 2001 to 2017\n",
    "total_crimes = df.groupby('Primary Type').size()\n",
    "total_crimes.head()"
   ]
  },
  {
   "cell_type": "code",
   "execution_count": 6,
   "metadata": {
    "collapsed": false
   },
   "outputs": [
    {
     "data": {
      "text/html": [
       "<div>\n",
       "<table border=\"1\" class=\"dataframe\">\n",
       "  <thead>\n",
       "    <tr style=\"text-align: right;\">\n",
       "      <th></th>\n",
       "      <th>0</th>\n",
       "    </tr>\n",
       "    <tr>\n",
       "      <th>Primary Type</th>\n",
       "      <th></th>\n",
       "    </tr>\n",
       "  </thead>\n",
       "  <tbody>\n",
       "    <tr>\n",
       "      <th>ARSON</th>\n",
       "      <td>10516</td>\n",
       "    </tr>\n",
       "    <tr>\n",
       "      <th>ASSAULT</th>\n",
       "      <td>386125</td>\n",
       "    </tr>\n",
       "    <tr>\n",
       "      <th>BATTERY</th>\n",
       "      <td>1151775</td>\n",
       "    </tr>\n",
       "    <tr>\n",
       "      <th>BURGLARY</th>\n",
       "      <td>368363</td>\n",
       "    </tr>\n",
       "    <tr>\n",
       "      <th>CONCEALED CARRY LICENSE VIOLATION</th>\n",
       "      <td>100</td>\n",
       "    </tr>\n",
       "  </tbody>\n",
       "</table>\n",
       "</div>"
      ],
      "text/plain": [
       "                                         0\n",
       "Primary Type                              \n",
       "ARSON                                10516\n",
       "ASSAULT                             386125\n",
       "BATTERY                            1151775\n",
       "BURGLARY                            368363\n",
       "CONCEALED CARRY LICENSE VIOLATION      100"
      ]
     },
     "execution_count": 6,
     "metadata": {},
     "output_type": "execute_result"
    }
   ],
   "source": [
    "#Converting it into dataframe\n",
    "framed_total_crimes = total_crimes.to_frame()\n",
    "framed_total_crimes.head()"
   ]
  },
  {
   "cell_type": "code",
   "execution_count": 7,
   "metadata": {
    "collapsed": false
   },
   "outputs": [
    {
     "data": {
      "text/html": [
       "<div>\n",
       "<table border=\"1\" class=\"dataframe\">\n",
       "  <thead>\n",
       "    <tr style=\"text-align: right;\">\n",
       "      <th></th>\n",
       "      <th>Primary Type</th>\n",
       "      <th>Count</th>\n",
       "    </tr>\n",
       "  </thead>\n",
       "  <tbody>\n",
       "    <tr>\n",
       "      <th>33</th>\n",
       "      <td>THEFT</td>\n",
       "      <td>1313087</td>\n",
       "    </tr>\n",
       "    <tr>\n",
       "      <th>2</th>\n",
       "      <td>BATTERY</td>\n",
       "      <td>1151775</td>\n",
       "    </tr>\n",
       "    <tr>\n",
       "      <th>6</th>\n",
       "      <td>CRIMINAL DAMAGE</td>\n",
       "      <td>725822</td>\n",
       "    </tr>\n",
       "    <tr>\n",
       "      <th>18</th>\n",
       "      <td>NARCOTICS</td>\n",
       "      <td>690342</td>\n",
       "    </tr>\n",
       "    <tr>\n",
       "      <th>25</th>\n",
       "      <td>OTHER OFFENSE</td>\n",
       "      <td>391313</td>\n",
       "    </tr>\n",
       "  </tbody>\n",
       "</table>\n",
       "</div>"
      ],
      "text/plain": [
       "       Primary Type    Count\n",
       "33            THEFT  1313087\n",
       "2           BATTERY  1151775\n",
       "6   CRIMINAL DAMAGE   725822\n",
       "18        NARCOTICS   690342\n",
       "25    OTHER OFFENSE   391313"
      ]
     },
     "execution_count": 7,
     "metadata": {},
     "output_type": "execute_result"
    }
   ],
   "source": [
    "#Sort the crimes based on total count\n",
    "Sorted_framed_total_crimes = framed_total_crimes.reset_index().rename(columns={0:'Count'}).sort_values('Count', ascending=False)\n",
    "Sorted_framed_total_crimes.head()"
   ]
  },
  {
   "cell_type": "code",
   "execution_count": 8,
   "metadata": {
    "collapsed": false
   },
   "outputs": [
    {
     "data": {
      "image/png": "[encoded data removed]",
      "text/plain": [
       "<matplotlib.figure.Figure at 0x21e92f69278>"
      ]
     },
     "metadata": {},
     "output_type": "display_data"
    }
   ],
   "source": [
    "#Lets try to plot this inference to a plot\n",
    "fig,ax = plt.subplots(figsize=(10,10))\n",
    "sns.set(style=\"whitegrid\")\n",
    "sns.set_color_codes(\"muted\")\n",
    "ax = sns.barplot(x =\"Count\", y = \"Primary Type\", data = Sorted_framed_total_crimes,ax = ax, color='g')\n",
    "ax.set_title(\"Count of Crime by Primary Type Classification\")\n",
    "ax\n",
    "if not os.path.exists('ana_1'):\n",
    "    os.makedirs('ana_1')\n",
    "plt.savefig('ana_1/Count of Crime by Primary Type Classification')"
   ]
  },
  {
   "cell_type": "code",
   "execution_count": 14,
   "metadata": {
    "collapsed": false
   },
   "outputs": [
    {
     "data": {
      "text/html": [
       "<div>\n",
       "<table border=\"1\" class=\"dataframe\">\n",
       "  <thead>\n",
       "    <tr style=\"text-align: right;\">\n",
       "      <th></th>\n",
       "      <th>Year</th>\n",
       "      <th>Count</th>\n",
       "    </tr>\n",
       "  </thead>\n",
       "  <tbody>\n",
       "    <tr>\n",
       "      <th>0</th>\n",
       "      <td>2001</td>\n",
       "      <td>485725</td>\n",
       "    </tr>\n",
       "    <tr>\n",
       "      <th>1</th>\n",
       "      <td>2002</td>\n",
       "      <td>486739</td>\n",
       "    </tr>\n",
       "    <tr>\n",
       "      <th>2</th>\n",
       "      <td>2003</td>\n",
       "      <td>475912</td>\n",
       "    </tr>\n",
       "    <tr>\n",
       "      <th>3</th>\n",
       "      <td>2004</td>\n",
       "      <td>469354</td>\n",
       "    </tr>\n",
       "    <tr>\n",
       "      <th>4</th>\n",
       "      <td>2005</td>\n",
       "      <td>453673</td>\n",
       "    </tr>\n",
       "  </tbody>\n",
       "</table>\n",
       "</div>"
      ],
      "text/plain": [
       "   Year   Count\n",
       "0  2001  485725\n",
       "1  2002  486739\n",
       "2  2003  475912\n",
       "3  2004  469354\n",
       "4  2005  453673"
      ]
     },
     "execution_count": 14,
     "metadata": {},
     "output_type": "execute_result"
    }
   ],
   "source": [
    "#Change of Crimes by Year\n",
    "yearly_count = df.groupby(\"Year\").size().to_frame().reset_index().rename(columns={0:\"Count\"})        \n",
    "yearly_count.head()"
   ]
  },
  {
   "cell_type": "code",
   "execution_count": 15,
   "metadata": {
    "collapsed": false
   },
   "outputs": [
    {
     "data": {
      "image/png": "[encoded data removed]",
      "text/plain": [
       "<matplotlib.figure.Figure at 0x21e5ebafcf8>"
      ]
     },
     "metadata": {},
     "output_type": "display_data"
    }
   ],
   "source": [
    "#Plotting it to a graph\n",
    "fig,ax = plt.subplots(figsize=(10,10))\n",
    "sns.set(style=\"whitegrid\")\n",
    "sns.set_color_codes(\"muted\")\n",
    "ax = sns.barplot(x =\"Year\", y = \"Count\", palette=\"muted\", data = yearly_count,ax = ax)\n",
    "ax.set_title(\"Change in Count of Crime by Year\")\n",
    "if not os.path.exists('ana_1'):\n",
    "    os.makedirs('ana_1')\n",
    "plt.savefig('ana_1/Change in Count of Crime by Year.png')"
   ]
  },
  {
   "cell_type": "markdown",
   "metadata": {
    "collapsed": true
   },
   "source": [
    "### Inference:\n",
    "- We can see that Theft is the most common crime that takes place in Chicago.\n",
    "- If we observe the second graph, we can analyze that the rate of crime in Chicago is showing decreasing trend over the years since 2001, thus slowly Chicago is becoming a better and safe place to live.\n",
    "- There is a sudden fall of crime in the year 2017, because of the obvious lack of full year's worth of data."
   ]
  },
  {
   "cell_type": "code",
   "execution_count": null,
   "metadata": {
    "collapsed": true
   },
   "outputs": [],
   "source": []
  }
 ],
 "metadata": {
  "anaconda-cloud": {},
  "kernelspec": {
   "display_name": "Python [default]",
   "language": "python",
   "name": "python3"
  },
  "language_info": {
   "codemirror_mode": {
    "name": "ipython",
    "version": 3
   },
   "file_extension": ".py",
   "mimetype": "text/x-python",
   "name": "python",
   "nbconvert_exporter": "python",
   "pygments_lexer": "ipython3",
   "version": "3.5.2"
  }
 },
 "nbformat": 4,
 "nbformat_minor": 2
}
