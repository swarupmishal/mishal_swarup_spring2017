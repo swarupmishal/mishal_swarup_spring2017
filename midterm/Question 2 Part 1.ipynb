{
 "cells": [
  {
   "cell_type": "markdown",
   "metadata": {},
   "source": [
    "# Question 2 Part 1\n",
    "- For this question, I am trying to analyze sentiments of authors of NYTimes.com on the current and former president of US\n",
    "- For this analysis I have used the article search api to get data for President Donald Trump and former President Barrack Obama"
   ]
  },
  {
   "cell_type": "code",
   "execution_count": 1,
   "metadata": {
    "collapsed": false
   },
   "outputs": [],
   "source": [
    "#Getting api-key from the environment\n",
    "import os\n",
    "nyt_article_key = os.getenv('nyt_article_key')\n"
   ]
  },
  {
   "cell_type": "code",
   "execution_count": 3,
   "metadata": {
    "collapsed": false
   },
   "outputs": [],
   "source": [
    "#Importing bunch of data using articlesearch api-key\n",
    "import requests\n",
    "from pprint import pprint\n",
    "import json\n",
    "import time\n",
    "for i in range(0, 120):\n",
    "    j=str(i)\n",
    "    r = requests.get(\"http://api.nytimes.com/svc/search/v2/articlesearch.json?q=trump&page=\"+j+\"&api-key=\"+nyt_article_key)   \n",
    "    data = r.json()\n",
    "    time.sleep(5)\n",
    "    #print(len(data))\n",
    "    #pprint(data)\n",
    "    with open(\"data/datatrump\"+j+\".json\", 'w') as outfile:\n",
    "        json.dump(data, outfile)"
   ]
  },
  {
   "cell_type": "code",
   "execution_count": 1,
   "metadata": {
    "collapsed": false
   },
   "outputs": [],
   "source": [
    "#Reading Obama data to understand the data from multiple json files\n",
    "import glob\n",
    "import json\n",
    "from pprint import pprint\n",
    "json_files=glob.glob(\"data/dataobama1.json\")\n",
    "for file in json_files:\n",
    "    with open(file) as data_file:\n",
    "        data = json.load(data_file)\n",
    "        #pprint(data)"
   ]
  },
  {
   "cell_type": "code",
   "execution_count": 3,
   "metadata": {
    "collapsed": false
   },
   "outputs": [],
   "source": [
    "#Getting list of positive and negative words from csv for analysis\n",
    "positive_list = []\n",
    "negative_list = []\n",
    "import csv\n",
    "\n",
    "        \n",
    "with open('que[2]/ana_[2]/positive.csv','r') as csvfile:\n",
    "    rows = csv.reader(csvfile)\n",
    "    for row in rows:\n",
    "        positive_list.append(row[0])\n",
    "\n",
    "with open('que[2]/ana_[2]/negative.csv','r') as csvfile:\n",
    "    rows = csv.reader(csvfile)\n",
    "    for row in rows:\n",
    "        negative_list.append(row[0])  \n",
    "        \n",
    "#print(negative_list)"
   ]
  },
  {
   "cell_type": "code",
   "execution_count": 14,
   "metadata": {
    "collapsed": true
   },
   "outputs": [],
   "source": [
    "#Analysis 1: Analyzing number of articles regarding Obama which are positive or negative"
   ]
  },
  {
   "cell_type": "code",
   "execution_count": 4,
   "metadata": {
    "collapsed": true
   },
   "outputs": [],
   "source": [
    "#Reading Obama data\n",
    "import glob\n",
    "import json\n",
    "files = []\n",
    "json_files = glob.glob('data/dataobama*.json')"
   ]
  },
  {
   "cell_type": "code",
   "execution_count": 7,
   "metadata": {
    "collapsed": false
   },
   "outputs": [
    {
     "name": "stdout",
     "output_type": "stream",
     "text": [
      "Number of positive articles about Obama:\n",
      "274\n",
      "Number of negative articles about Obama:\n",
      "277\n",
      "NUmber of neutral articles about Obama:\n",
      "443\n"
     ]
    }
   ],
   "source": [
    "#Determining if an article is positive or negative about Obama\n",
    "o_main_pos = 0\n",
    "o_main_neg = 0\n",
    "o_main_neu = 0\n",
    "Obama_graph = []\n",
    "for file in json_files:\n",
    "    with open(file) as data_file:\n",
    "        data = json.load(data_file)\n",
    "        x = len(data['response']['docs'])\n",
    "        #print(x)\n",
    "        try:\n",
    "            for i in range (0,x):\n",
    "                content=data['response']['docs'][i]['lead_paragraph']\n",
    "                #print(content)\n",
    "                content = content.split()\n",
    "                count_pos = 0\n",
    "                count_neg = 0\n",
    "                for word in content:\n",
    "                    if word in positive_list:\n",
    "                        count_pos = count_pos + 1\n",
    "                    if word in negative_list:\n",
    "                        count_neg = count_neg + 1   \n",
    "                if count_pos > count_neg:\n",
    "                    #print(\"Positive\")\n",
    "                    o_main_pos = o_main_pos+1\n",
    "                elif count_pos < count_neg:\n",
    "                    #print(\"Negative\")\n",
    "                    o_main_neg = o_main_neg+1\n",
    "                else:\n",
    "                    #print(\"Neutral\")\n",
    "                    o_main_neu = o_main_neu+1\n",
    "                #print(count_pos)\n",
    "                #print(count_neg)\n",
    "        except KeyError:\n",
    "            pass\n",
    "        except AttributeError:\n",
    "            pass\n",
    "print(\"Number of positive articles about Obama:\")\n",
    "print(o_main_pos)\n",
    "print(\"Number of negative articles about Obama:\")\n",
    "print(o_main_neg)\n",
    "print(\"NUmber of neutral articles about Obama:\")\n",
    "print(o_main_neu)\n",
    "Obama_graph.append(o_main_pos)\n",
    "Obama_graph.append(o_main_neg)\n",
    "Obama_graph.append(o_main_neu)"
   ]
  },
  {
   "cell_type": "code",
   "execution_count": 8,
   "metadata": {
    "collapsed": false
   },
   "outputs": [
    {
     "data": {
      "text/plain": [
       "[274, 277, 443]"
      ]
     },
     "execution_count": 8,
     "metadata": {},
     "output_type": "execute_result"
    }
   ],
   "source": [
    "Obama_graph"
   ]
  },
  {
   "cell_type": "code",
   "execution_count": 15,
   "metadata": {
    "collapsed": true
   },
   "outputs": [],
   "source": [
    "#Writing output to the csv\n",
    "with open(\"que[2]/ana_[2]/Obama_Article_Analysis.csv\",\"w\",encoding='utf-8') as myfile1:\n",
    "    writer = csv.writer(myfile1, lineterminator='\\n')\n",
    "    writer.writerow([\"Number of Positive Articles\",\"Number of Negative Articles\",\"Number of Neutral Articles\"])\n",
    "    writer.writerow([Obama_graph[0],Obama_graph[1],Obama_graph[2]])"
   ]
  },
  {
   "cell_type": "code",
   "execution_count": 16,
   "metadata": {
    "collapsed": true
   },
   "outputs": [],
   "source": [
    "#Analysis 2: Analyzing number of articles regarding Trump which are positive or negative"
   ]
  },
  {
   "cell_type": "code",
   "execution_count": 9,
   "metadata": {
    "collapsed": true
   },
   "outputs": [],
   "source": [
    "#Reading Trump data\n",
    "import glob\n",
    "import json\n",
    "files = []\n",
    "json_files = glob.glob('data/datatrump*.json')"
   ]
  },
  {
   "cell_type": "code",
   "execution_count": 10,
   "metadata": {
    "collapsed": false
   },
   "outputs": [
    {
     "name": "stdout",
     "output_type": "stream",
     "text": [
      "Number of positive articles about Trump:\n",
      "240\n",
      "Number of negative articles about Trump:\n",
      "397\n",
      "NUmber of neutral articles about Trump:\n",
      "518\n"
     ]
    }
   ],
   "source": [
    "#Determining if an article is positive or negative about Trump\n",
    "t_main_pos = 0\n",
    "t_main_neg = 0\n",
    "t_main_neu = 0\n",
    "Trump_graph = []\n",
    "for file in json_files:\n",
    "    with open(file) as data_file:\n",
    "        data = json.load(data_file)\n",
    "        x = len(data['response']['docs'])\n",
    "        #print(x)\n",
    "        try:\n",
    "            for i in range (0,x):\n",
    "                content=data['response']['docs'][i]['lead_paragraph']\n",
    "                #print(content)\n",
    "                content = content.split()\n",
    "                count_pos = 0\n",
    "                count_neg = 0\n",
    "                for word in content:\n",
    "                    if word in positive_list:\n",
    "                        count_pos = count_pos + 1\n",
    "                    if word in negative_list:\n",
    "                        count_neg = count_neg + 1   \n",
    "                if count_pos > count_neg:\n",
    "                    #print(\"Positive\")\n",
    "                    t_main_pos = t_main_pos+1\n",
    "                elif count_pos < count_neg:\n",
    "                    #print(\"Negative\")\n",
    "                    t_main_neg = t_main_neg+1\n",
    "                else:\n",
    "                    #print(\"Neutral\")\n",
    "                    t_main_neu = t_main_neu+1\n",
    "                #print(count_pos)\n",
    "                #print(count_neg)\n",
    "        except KeyError:\n",
    "            pass\n",
    "        except AttributeError:\n",
    "            pass\n",
    "print(\"Number of positive articles about Trump:\")\n",
    "print(t_main_pos)\n",
    "print(\"Number of negative articles about Trump:\")\n",
    "print(t_main_neg)\n",
    "print(\"NUmber of neutral articles about Trump:\")\n",
    "print(t_main_neu)\n",
    "Trump_graph.append(t_main_pos)\n",
    "Trump_graph.append(t_main_neg)\n",
    "Trump_graph.append(t_main_neu)"
   ]
  },
  {
   "cell_type": "code",
   "execution_count": 19,
   "metadata": {
    "collapsed": false
   },
   "outputs": [
    {
     "data": {
      "text/plain": [
       "[240, 397, 518]"
      ]
     },
     "execution_count": 19,
     "metadata": {},
     "output_type": "execute_result"
    }
   ],
   "source": [
    "Trump_graph"
   ]
  },
  {
   "cell_type": "code",
   "execution_count": 20,
   "metadata": {
    "collapsed": true
   },
   "outputs": [],
   "source": [
    "#Writing output to the csv\n",
    "with open(\"que[2]/ana_[2]/Trump_Article_Analysis.csv\",\"w\",encoding='utf-8') as myfile1:\n",
    "    writer = csv.writer(myfile1, lineterminator='\\n')\n",
    "    writer.writerow([\"Number of Positive Articles\",\"Number of Negative Articles\",\"Number of Neutral Articles\"])\n",
    "    writer.writerow([Trump_graph[0],Trump_graph[1],Trump_graph[2]])"
   ]
  },
  {
   "cell_type": "code",
   "execution_count": 21,
   "metadata": {
    "collapsed": true
   },
   "outputs": [],
   "source": [
    "#Analysis 3: Lets try to analyze number of positive and negative articles for both, Obama and Trump at the same time with the\n",
    "#help of a graph"
   ]
  },
  {
   "cell_type": "code",
   "execution_count": 22,
   "metadata": {
    "collapsed": false
   },
   "outputs": [
    {
     "data": {
      "image/png": "[encoded data removed]",
      "text/plain": [
       "<matplotlib.figure.Figure at 0x15affb03d68>"
      ]
     },
     "metadata": {},
     "output_type": "display_data"
    }
   ],
   "source": [
    "#Plotting graph for analysis\n",
    "import matplotlib.pyplot as plt                                                  #importing matlpotlib          \n",
    "\n",
    "plt.plot(Obama_graph,Trump_graph, 'go',label='xy plot')                                       \n",
    "plt.xlabel('Obama')\n",
    "plt.ylabel('Trump')\n",
    "plt.title(\"Analysis on articles published on Obama and Trump\")\n",
    "plt.legend()\n",
    "plt.show()"
   ]
  },
  {
   "cell_type": "code",
   "execution_count": 23,
   "metadata": {
    "collapsed": true
   },
   "outputs": [],
   "source": [
    "#Thus we can conclude that NYTimes.com do publish articles which are more neutral in case of Obama.\n",
    "#Also we can see that NYTimes.com do publish a lot of negative articles in case of Trump\n",
    "#From the graph we can also analyze, in case of positive articles, when 240 positive articles about Trump were published,\n",
    "#274 positive articles about Obama were published.\n",
    "#While in case of negative articles when 277 negative articles regarding Obama, a considerable amount of 397 negative articles\n",
    "#were published about Trump.\n",
    "#Thus, we can conclude that most of the authors of NYTimes.com of the articles write in favor of Obama."
   ]
  }
 ],
 "metadata": {
  "anaconda-cloud": {},
  "kernelspec": {
   "display_name": "Python [default]",
   "language": "python",
   "name": "python3"
  },
  "language_info": {
   "codemirror_mode": {
    "name": "ipython",
    "version": 3
   },
   "file_extension": ".py",
   "mimetype": "text/x-python",
   "name": "python",
   "nbconvert_exporter": "python",
   "pygments_lexer": "ipython3",
   "version": "3.5.2"
  }
 },
 "nbformat": 4,
 "nbformat_minor": 2
}
