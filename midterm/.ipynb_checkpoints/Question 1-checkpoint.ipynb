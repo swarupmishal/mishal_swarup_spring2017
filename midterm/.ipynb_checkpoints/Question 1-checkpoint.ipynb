{
 "cells": [
  {
   "cell_type": "markdown",
   "metadata": {},
   "source": [
    "# Question 1\n",
    "- In this question I have tried to analyze the type of emails sent\n",
    "- Once we know the type of emails sent we can try to analyze when they were sent.\n",
    "- Analyze the top 10 emails whom the CEO of Enron interated the most with."
   ]
  },
  {
   "cell_type": "code",
   "execution_count": null,
   "metadata": {
    "collapsed": true
   },
   "outputs": [],
   "source": [
    "#Analysis1: Analyzing the total number of different types of emails sent."
   ]
  },
  {
   "cell_type": "code",
   "execution_count": 2,
   "metadata": {
    "collapsed": true
   },
   "outputs": [],
   "source": [
    "#Creating a list for analyzing types of emails sent over time\n",
    "meetings = [\"message\",\"origin\",\"pleas\",\"email\",\"thank\",\"attach\",\"file\",\"cop\",\"inform\",\"receiv\"]\n",
    "process = [\"deal\",\"enron\",\"agreement\",\"chang\",\"contract\",\"corp\",\"fax\",\"houston\",\"date\",\"america\"]\n",
    "core = ['market','gas','price','power','company','energy','trade','busi','servic']\n",
    "casual = ['thank','call','time','meet','look','week','day','dont','vinc','talk']"
   ]
  },
  {
   "cell_type": "code",
   "execution_count": 3,
   "metadata": {
    "collapsed": false
   },
   "outputs": [
    {
     "name": "stdout",
     "output_type": "stream",
     "text": [
      "263\n",
      "1308\n",
      "454\n",
      "1235\n"
     ]
    }
   ],
   "source": [
    "#Accessing all the sent emails\n",
    "from datetime import datetime\n",
    "import glob\n",
    "import csv\n",
    "from email.parser import Parser\n",
    "json_files7 = glob.glob(\"data/enron/maildir/*/_sent_mail/*\")\n",
    "\n",
    "count_meetings = 0\n",
    "count_process = 0\n",
    "count_core = 0\n",
    "count_casual = 0\n",
    "\n",
    "meeting_csv = []\n",
    "process_csv = []\n",
    "core_csv = []\n",
    "casual_csv = []\n",
    "\n",
    "for file in json_files7:\n",
    "    try:\n",
    "        with open(file) as data_file:\n",
    "            email = Parser().parse(data_file)\n",
    "            subject = email['Subject']\n",
    "            date = email['Date']\n",
    "            datetime_object = datetime.strptime(date[5:-21], '%d %b %Y').date()\n",
    "            month = datetime_object.month\n",
    "            year = datetime_object.year\n",
    "            \n",
    "            if any(word in subject for word in meetings):\n",
    "                count_meetings = count_meetings+1\n",
    "                meeting_csv.append([year,month,count_meetings])\n",
    "                    \n",
    "            \n",
    "            if any(word in subject for word in process):\n",
    "                count_process = count_process+1\n",
    "                process_csv.append([year,month,count_process])\n",
    "            \n",
    "            if any(word in subject for word in core):\n",
    "                count_core = count_core+1\n",
    "                core_csv.append([year,month,count_core])\n",
    "            \n",
    "            if any(word in subject for word in casual):\n",
    "                count_casual = count_casual+1\n",
    "                casual_csv.append([year,month,count_casual])\n",
    "       \n",
    "    except PermissionError:\n",
    "        pass\n",
    "    \n",
    "meeting_csv.sort(key=lambda x: (x[0],x[1]))\n",
    "process_csv.sort(key=lambda x: (x[0],x[1]))\n",
    "casual_csv.sort(key=lambda x: (x[0],x[1]))\n",
    "core_csv.sort(key=lambda x: (x[0],x[1]))\n",
    "\n",
    "\n",
    "    \n",
    "with open(\"que[1]/ana_[1]/enron_meetings.csv\",\"w\",encoding='utf-8') as myfile1:\n",
    "    writer_meetings = csv.writer(myfile1, delimiter=\",\", quotechar=\"|\", quoting=csv.QUOTE_MINIMAL, lineterminator='\\n')\n",
    "    writer_meetings.writerow([\"Year\",\"Month\",\"Count\"])\n",
    "    for a in range(0,len(meeting_csv)):\n",
    "        writer_meetings.writerow([meeting_csv[a][0],meeting_csv[a][1],meeting_csv[a][2]])\n",
    "        \n",
    "with open(\"que[1]/ana_[1]/enron_process.csv\",\"w\",encoding='utf-8') as myfile2:\n",
    "    writer_process = csv.writer(myfile2, delimiter=\",\", quotechar=\"|\", quoting=csv.QUOTE_MINIMAL, lineterminator='\\n')\n",
    "    writer_process.writerow([\"Year\",\"Month\",\"Count\"])\n",
    "    for a in range(0,len(process_csv)):\n",
    "        writer_process.writerow([process_csv[a][0],process_csv[a][1],process_csv[a][2]])\n",
    "    \n",
    "with open(\"que[1]/ana_[1]/enron_core.csv\",\"w\",encoding='utf-8') as myfile3:\n",
    "    writer_core = csv.writer(myfile3, delimiter=\",\", quotechar=\"|\", quoting=csv.QUOTE_MINIMAL, lineterminator='\\n')\n",
    "    writer_core.writerow([\"Year\",\"Month\",\"Count\"])\n",
    "    for a in range(0,len(core_csv)):\n",
    "        writer_core.writerow([core_csv[a][0],core_csv[a][1],core_csv[a][2]])\n",
    "    \n",
    "with open(\"que[1]/ana_[1]/enron_casual.csv\",\"w\",encoding='utf-8') as myfile4:\n",
    "    writer_casual = csv.writer(myfile4, delimiter=\",\", quotechar=\"|\", quoting=csv.QUOTE_MINIMAL, lineterminator='\\n')\n",
    "    writer_casual.writerow([\"Year\",\"Month\",\"Count\"])\n",
    "    for a in range(0,len(casual_csv)):\n",
    "        writer_casual.writerow([casual_csv[a][0],casual_csv[a][1],casual_csv[a][2]])\n",
    "    \n",
    "print(count_meetings)\n",
    "print(count_process)\n",
    "print(count_core)\n",
    "print(count_casual)"
   ]
  },
  {
   "cell_type": "code",
   "execution_count": 4,
   "metadata": {
    "collapsed": true
   },
   "outputs": [],
   "source": [
    "#The output has been generated in 4 different csv files respectivly and sorted on basis of date."
   ]
  },
  {
   "cell_type": "code",
   "execution_count": 5,
   "metadata": {
    "collapsed": true
   },
   "outputs": [],
   "source": [
    "#Analysis 2: Lets try to analyze when and how many of these emails were sent."
   ]
  },
  {
   "cell_type": "code",
   "execution_count": 6,
   "metadata": {
    "collapsed": true
   },
   "outputs": [],
   "source": [
    "#recursive function to accumulate count of emails over months and years\n",
    "def rec(a):\n",
    "    if a[i][0] == a[i+1][0]:\n",
    "            if a[i][1] == a[i+1][1]:\n",
    "                atotal = a[i][2]+1\n",
    "                a[i][2] =atotal\n",
    "                del(a[i+1])\n",
    "                rec(a)"
   ]
  },
  {
   "cell_type": "code",
   "execution_count": 7,
   "metadata": {
    "collapsed": false
   },
   "outputs": [],
   "source": [
    "#getting a total count of meeting emails sent in three years\n",
    "try:\n",
    "    meeting_csv[0][2]=1\n",
    "    for i in range(0,len(meeting_csv)):\n",
    "        if meeting_csv[i][0] == meeting_csv[i+1][0]:\n",
    "            if meeting_csv[i][1] == meeting_csv[i+1][1]:\n",
    "                meeting_csv[i][2]= meeting_csv[i][2]+1\n",
    "                del(meeting_csv[i+1])\n",
    "                rec(meeting_csv)\n",
    "\n",
    "except IndexError:\n",
    "        pass"
   ]
  },
  {
   "cell_type": "code",
   "execution_count": 8,
   "metadata": {
    "collapsed": true
   },
   "outputs": [],
   "source": [
    "#getting a total count of process emails sent in three years\n",
    "try:\n",
    "    process_csv[0][2]=1\n",
    "    for i in range(0,len(process_csv)):\n",
    "        if process_csv[i][0] == process_csv[i+1][0]:\n",
    "            if process_csv[i][1] == process_csv[i+1][1]:\n",
    "                process_csv[i][2]= process_csv[i+1][2]+1\n",
    "                del(process_csv[i+1])\n",
    "                rec(process_csv)\n",
    "\n",
    "except IndexError:\n",
    "        pass"
   ]
  },
  {
   "cell_type": "code",
   "execution_count": 9,
   "metadata": {
    "collapsed": true
   },
   "outputs": [],
   "source": [
    "#getting a total count of core emails sent in three years\n",
    "try:\n",
    "    core_csv[0][2]=1\n",
    "    for i in range(0,len(core_csv)):\n",
    "        if core_csv[i][0] == core_csv[i+1][0]:\n",
    "            if core_csv[i][1] == core_csv[i+1][1]:\n",
    "                core_csv[i][2]= core_csv[i][2]+1\n",
    "                del(core_csv[i+1])\n",
    "                rec(core_csv)\n",
    "\n",
    "except IndexError:\n",
    "        pass"
   ]
  },
  {
   "cell_type": "code",
   "execution_count": 10,
   "metadata": {
    "collapsed": true
   },
   "outputs": [],
   "source": [
    "#getting a total count of casual emails sent in three years\n",
    "try:\n",
    "    casual_csv[0][2]=1\n",
    "    for i in range(0,len(casual_csv)):\n",
    "        if casual_csv[i][0] == casual_csv[i+1][0]:\n",
    "            if casual_csv[i][1] == casual_csv[i+1][1]:\n",
    "                casual_csv[i][2]= casual_csv[i][2]+1\n",
    "                del(casual_csv[i+1])\n",
    "                rec(casual_csv)\n",
    "\n",
    "except IndexError:\n",
    "        pass"
   ]
  },
  {
   "cell_type": "code",
   "execution_count": 11,
   "metadata": {
    "collapsed": false
   },
   "outputs": [
    {
     "data": {
      "text/plain": [
       "[[1999, 12, 4],\n",
       " [2000, 1, 43],\n",
       " [2000, 2, 108],\n",
       " [2000, 3, 60],\n",
       " [2000, 4, 102],\n",
       " [2000, 5, 80],\n",
       " [2000, 6, 20],\n",
       " [2000, 7, 27],\n",
       " [2000, 8, 46],\n",
       " [2000, 9, 24],\n",
       " [2000, 10, 36],\n",
       " [2000, 11, 54],\n",
       " [2000, 12, 57],\n",
       " [2001, 1, 40],\n",
       " [2001, 2, 34],\n",
       " [2001, 3, 61],\n",
       " [2001, 4, 88],\n",
       " [2001, 5, 45],\n",
       " [2001, 6, 257]]"
      ]
     },
     "execution_count": 11,
     "metadata": {},
     "output_type": "execute_result"
    }
   ],
   "source": [
    "core_csv"
   ]
  },
  {
   "cell_type": "code",
   "execution_count": 12,
   "metadata": {
    "collapsed": false
   },
   "outputs": [
    {
     "data": {
      "text/plain": [
       "[[1999, 12, 11],\n",
       " [2000, 1, 81],\n",
       " [2000, 2, 122],\n",
       " [2000, 3, 26],\n",
       " [2000, 4, 181],\n",
       " [2000, 5, 36],\n",
       " [2000, 6, 105],\n",
       " [2000, 7, 56],\n",
       " [2000, 8, 90],\n",
       " [2000, 9, 83],\n",
       " [2000, 10, 131],\n",
       " [2000, 11, 135],\n",
       " [2000, 12, 130],\n",
       " [2001, 1, 102],\n",
       " [2001, 2, 120],\n",
       " [2001, 3, 143],\n",
       " [2001, 4, 107],\n",
       " [2001, 5, 309],\n",
       " [2001, 6, 193],\n",
       " [2001, 11, 200]]"
      ]
     },
     "execution_count": 12,
     "metadata": {},
     "output_type": "execute_result"
    }
   ],
   "source": [
    "casual_csv"
   ]
  },
  {
   "cell_type": "code",
   "execution_count": 13,
   "metadata": {
    "collapsed": false
   },
   "outputs": [
    {
     "data": {
      "text/plain": [
       "[[1999, 12, 2],\n",
       " [2000, 1, 35],\n",
       " [2000, 2, 17],\n",
       " [2000, 3, 67],\n",
       " [2000, 5, 11],\n",
       " [2000, 6, 39],\n",
       " [2000, 7, 29],\n",
       " [2000, 8, 59],\n",
       " [2000, 9, 28],\n",
       " [2000, 10, 14],\n",
       " [2000, 11, 44],\n",
       " [2000, 12, 26],\n",
       " [2001, 1, 24],\n",
       " [2001, 2, 34],\n",
       " [2001, 3, 22],\n",
       " [2001, 4, 34],\n",
       " [2001, 5, 25],\n",
       " [2001, 6, 33],\n",
       " [2001, 8, 40]]"
      ]
     },
     "execution_count": 13,
     "metadata": {},
     "output_type": "execute_result"
    }
   ],
   "source": [
    "meeting_csv"
   ]
  },
  {
   "cell_type": "code",
   "execution_count": 14,
   "metadata": {
    "collapsed": false
   },
   "outputs": [
    {
     "data": {
      "text/plain": [
       "[[1999, 12, 189],\n",
       " [2000, 1, 84],\n",
       " [2000, 2, 55],\n",
       " [2000, 3, 207],\n",
       " [2000, 4, 195],\n",
       " [2000, 5, 86],\n",
       " [2000, 6, 105],\n",
       " [2000, 7, 106],\n",
       " [2000, 8, 61],\n",
       " [2000, 9, 160],\n",
       " [2000, 10, 76],\n",
       " [2000, 11, 109],\n",
       " [2000, 12, 127],\n",
       " [2001, 1, 124],\n",
       " [2001, 2, 154],\n",
       " [2001, 3, 156],\n",
       " [2001, 4, 150],\n",
       " [2001, 5, 85],\n",
       " [2001, 6, 110]]"
      ]
     },
     "execution_count": 14,
     "metadata": {},
     "output_type": "execute_result"
    }
   ],
   "source": [
    "process_csv"
   ]
  },
  {
   "cell_type": "code",
   "execution_count": 15,
   "metadata": {
    "collapsed": true
   },
   "outputs": [],
   "source": [
    "#Generating a csv to show Distribution of different types of emails sent over time\n",
    "with open(\"que[1]/ana_[1]/Distribution of meeting emails sent over time.csv\",\"w\",encoding='utf-8') as myfile1:\n",
    "    writer_meetings = csv.writer(myfile1, delimiter=\",\", quotechar=\"|\", quoting=csv.QUOTE_MINIMAL, lineterminator='\\n')\n",
    "    writer_meetings.writerow([\"Year\",\"Month\",\"Meeting Count for that month\"])\n",
    "    for a in range(0,len(meeting_csv)):\n",
    "        writer_meetings.writerow([meeting_csv[a][0],meeting_csv[a][1],meeting_csv[a][2]])\n",
    "        \n",
    "with open(\"que[1]/ana_[1]/Distribution of process emails sent over time.csv\",\"w\",encoding='utf-8') as myfile2:\n",
    "    writer_process = csv.writer(myfile2, delimiter=\",\", quotechar=\"|\", quoting=csv.QUOTE_MINIMAL, lineterminator='\\n')\n",
    "    writer_process.writerow([\"Year\",\"Month\",\"Count\"])\n",
    "    for a in range(0,len(process_csv)):\n",
    "        writer_process.writerow([process_csv[a][0],process_csv[a][1],process_csv[a][2]])\n",
    "    \n",
    "with open(\"que[1]/ana_[1]/Distribution of core emails sent over time.csv\",\"w\",encoding='utf-8') as myfile3:\n",
    "    writer_core = csv.writer(myfile3, delimiter=\",\", quotechar=\"|\", quoting=csv.QUOTE_MINIMAL, lineterminator='\\n')\n",
    "    writer_core.writerow([\"Year\",\"Month\",\"Count\"])\n",
    "    for a in range(0,len(core_csv)):\n",
    "        writer_core.writerow([core_csv[a][0],core_csv[a][1],core_csv[a][2]])\n",
    "    \n",
    "with open(\"que[1]/ana_[1]/Distribution of casual emails sent over time.csv\",\"w\",encoding='utf-8') as myfile4:\n",
    "    writer_casual = csv.writer(myfile4, delimiter=\",\", quotechar=\"|\", quoting=csv.QUOTE_MINIMAL, lineterminator='\\n')\n",
    "    writer_casual.writerow([\"Year\",\"Month\",\"Count\"])\n",
    "    for a in range(0,len(casual_csv)):\n",
    "        writer_casual.writerow([casual_csv[a][0],casual_csv[a][1],casual_csv[a][2]])"
   ]
  },
  {
   "cell_type": "code",
   "execution_count": 16,
   "metadata": {
    "collapsed": true
   },
   "outputs": [],
   "source": [
    "#From the outputs seen above we can understand number of meeting related emails, casual emails, process related emails and\n",
    "#core business related emails and when they were sent.\n",
    "#I wanted to plot the probability distribution of each type of email over time, but because of time constraint just creating outputs in csv.\n",
    "#From the output we can analyze that most of the enrol emails consisted of Business Process.\n",
    "#Casual meeting related emails were more than official meeting, which can be a result of fraudulent activities carried on within Enron\n",
    "#There were moderate number of core business related emails sent.\n",
    "#If we observe carefully there is a huge spike in core business emails towards the end, maybe to hide their fraudulent activities."
   ]
  },
  {
   "cell_type": "code",
   "execution_count": 17,
   "metadata": {
    "collapsed": true
   },
   "outputs": [],
   "source": [
    "#Analysis 3: We know Jeffrey Skilling, the CEO of Enron, was involved in the scandal.\n",
    "#Lets try to analyze "
   ]
  },
  {
   "cell_type": "code",
   "execution_count": 18,
   "metadata": {
    "collapsed": false
   },
   "outputs": [],
   "source": [
    "#Reading emails\n",
    "from email.parser import Parser\n",
    "import glob\n",
    "json_files = glob.glob(\"data/enron/maildir/skilling-j/*/*\")\n",
    "list_to = []\n",
    "for file in json_files:\n",
    "    try:\n",
    "        with open(file) as data_file:\n",
    "            email = Parser().parse(data_file)\n",
    "            to = email['To']\n",
    "            try:\n",
    "                if len(to.split()) > 1:\n",
    "                    for i in range(0,len(to.split())):\n",
    "                        list_to.append(to.split()[i])\n",
    "                else:\n",
    "                    list_to.append(to)\n",
    "            except AttributeError:\n",
    "                pass\n",
    "    except PermissionError:\n",
    "        pass\n",
    "        \n",
    "#print(list_to)"
   ]
  },
  {
   "cell_type": "code",
   "execution_count": 19,
   "metadata": {
    "collapsed": false
   },
   "outputs": [],
   "source": [
    "#Calculating frequency of each person, whom Skilling interacted with, and writing it into a csv\n",
    "import csv\n",
    "uniques = []\n",
    "for email in list_to:\n",
    "    if email not in uniques:\n",
    "        uniques.append(email)\n",
    "\n",
    "# Make a list of (count, unique) tuples.\n",
    "counts = []\n",
    "for unique in uniques:\n",
    "    count = 0              # Initialize the count to zero.\n",
    "    for email in list_to:     # Iterate over the emails.\n",
    "        if email == unique:   # Is this email equal to the current unique?\n",
    "            count += 1         # If so, increment the count\n",
    "    counts.append([count, unique])\n",
    "\n",
    "counts.sort()            # Sorting the list puts the lowest counts first.\n",
    "counts.reverse()         # Reverse it, putting the highest counts first.\n",
    "\n",
    "with open(\"que[1]/ana_[1]/Skilling interaction email frequency.csv\",\"w\",encoding='utf-8') as myfile1:\n",
    "    writer_meetings = csv.writer(myfile1, lineterminator='\\n')\n",
    "    writer_meetings.writerow([\"Email\",\"Count\"])\n",
    "    for a in range(0,len(counts)):\n",
    "        writer_meetings.writerow([counts[a][1],counts[a][0]])"
   ]
  },
  {
   "cell_type": "code",
   "execution_count": 20,
   "metadata": {
    "collapsed": false
   },
   "outputs": [
    {
     "name": "stdout",
     "output_type": "stream",
     "text": [
      "jeff.skilling@enron.com 1201\n",
      "jeff.skilling@enron.com, 530\n",
      "kenneth.lay@enron.com, 265\n",
      "louise.kitchen@enron.com, 185\n",
      "greg.whalley@enron.com, 182\n",
      "mark.frevert@enron.com, 172\n",
      "john.sherriff@enron.com, 169\n",
      "smu-betas@yahoogroups.com 166\n",
      "mike.mcconnell@enron.com, 158\n",
      "steven.kean@enron.com, 146\n"
     ]
    }
   ],
   "source": [
    "# Print the ten emails with the highest counts.\n",
    "for i in range(min(10, len(counts))):\n",
    "    count, email = counts[i]\n",
    "    print('%s %d' % (email, count))"
   ]
  },
  {
   "cell_type": "code",
   "execution_count": 21,
   "metadata": {
    "collapsed": true
   },
   "outputs": [],
   "source": [
    "#Thus we can analyze that there is a high posibility that these people were involved in the Enron Scandal.\n",
    "#These peeps should be further investigated."
   ]
  }
 ],
 "metadata": {
  "anaconda-cloud": {},
  "kernelspec": {
   "display_name": "Python [default]",
   "language": "python",
   "name": "python3"
  },
  "language_info": {
   "codemirror_mode": {
    "name": "ipython",
    "version": 3
   },
   "file_extension": ".py",
   "mimetype": "text/x-python",
   "name": "python",
   "nbconvert_exporter": "python",
   "pygments_lexer": "ipython3",
   "version": "3.5.2"
  }
 },
 "nbformat": 4,
 "nbformat_minor": 2
}
