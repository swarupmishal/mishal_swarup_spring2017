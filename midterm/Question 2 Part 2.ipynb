{
 "cells": [
  {
   "cell_type": "markdown",
   "metadata": {},
   "source": [
    "# Question 2 Part 2\n",
    "- For this question, I am trying to analyze sentiments of people after the results of Presidential Election were declared on 9th of November, 2016\n",
    "- For this analysis I have used community api to get data from 11/10/2016 to 11/30/2016"
   ]
  },
  {
   "cell_type": "code",
   "execution_count": 1,
   "metadata": {
    "collapsed": false
   },
   "outputs": [],
   "source": [
    "#Getting api-key from the environment\n",
    "import os\n",
    "nyt_community_key = os.getenv('nyt_community_key')\n"
   ]
  },
  {
   "cell_type": "code",
   "execution_count": 2,
   "metadata": {
    "collapsed": false
   },
   "outputs": [],
   "source": [
    "#Importing Presidential Election data from the community api \n",
    "import requests\n",
    "from pprint import pprint\n",
    "import json\n",
    "import time\n",
    "for i in range(10, 31):\n",
    "    j=str(i)\n",
    "    r = requests.get(\"http://api.nytimes.com/svc/community/v3/user-content/by-date.json?api-key=\"+nyt_community_key+\"&date=2016-11-\"+j)   \n",
    "    data = r.json()\n",
    "    time.sleep(5)\n",
    "    #pprint(data)\n",
    "    with open(\"data/dataelection\"+j+\".json\", 'w') as outfile:\n",
    "        json.dump(data, outfile)"
   ]
  },
  {
   "cell_type": "code",
   "execution_count": 3,
   "metadata": {
    "collapsed": false
   },
   "outputs": [],
   "source": [
    "#Reading 1 file at a time to understand the data\n",
    "import glob\n",
    "import json\n",
    "from pprint import pprint\n",
    "json_files=glob.glob(\"data/dataelection27.json\")\n",
    "for file in json_files:\n",
    "    with open(file) as data_file:\n",
    "        data = json.load(data_file)\n",
    "        #pprint(data)"
   ]
  },
  {
   "cell_type": "code",
   "execution_count": null,
   "metadata": {
    "collapsed": true
   },
   "outputs": [],
   "source": [
    "#Analysis 1: Lets do sentimental analysis on the comments of users regarding the Presidential Election"
   ]
  },
  {
   "cell_type": "code",
   "execution_count": 4,
   "metadata": {
    "collapsed": true
   },
   "outputs": [],
   "source": [
    "#Reading Election data\n",
    "import glob\n",
    "import json\n",
    "files = []\n",
    "json_files = glob.glob('data/dataelection*.json')"
   ]
  },
  {
   "cell_type": "code",
   "execution_count": 7,
   "metadata": {
    "collapsed": false
   },
   "outputs": [
    {
     "name": "stdout",
     "output_type": "stream",
     "text": [
      "49\n"
     ]
    }
   ],
   "source": [
    "#Extracting only comments out of total comments regarding Presidential Election\n",
    "trump = [\"glass-ceiling\",\"election\",\"democrats\",\"republicans\",\"trump\",\"donald\",\"presidency\",\"sorrow\",\"happy\",\"liberalism\",\"voters\",\"politics\"]\n",
    "list_of_comments=[]\n",
    "for file in json_files:\n",
    "    with open(file) as data_file:\n",
    "        data = json.load(data_file)\n",
    "        x = len(data['results']['comments'])\n",
    "        #print(x)\n",
    "        try:\n",
    "            for i in range (0,x):\n",
    "                comment=data['results']['comments'][i]['commentBody']\n",
    "                url=data['results']['comments'][i]['assetURL']\n",
    "                for word in trump:\n",
    "                    if word in url:\n",
    "                        list_of_comments.append(comment)\n",
    "                        #print(url)\n",
    "                        #print(comment)\n",
    "                        #print(\"------------------------------------------------------------------\")\n",
    "                        if 'replies' in data['results']['comments'][i]:\n",
    "                            y = len(data['results']['comments'][i]['replies']['comments'])\n",
    "                            #print(\"Num of replies is:\")\n",
    "                            #print(y)\n",
    "                            for j in range(0,y):\n",
    "                                comment1=data['results']['comments'][i]['replies']['comments'][j]['commentBody']\n",
    "                                list_of_comments.append(comment1)\n",
    "                                #print(comment1)\n",
    "                                #print(\"+++++++++++++++++++++++++++++++++++++++++++++++++++++++++++++++++++++++\")\n",
    "                        \n",
    "                \n",
    "        except:\n",
    "            pass\n",
    "print(len(list_of_comments))"
   ]
  },
  {
   "cell_type": "code",
   "execution_count": 8,
   "metadata": {
    "collapsed": false
   },
   "outputs": [],
   "source": [
    "#Getting list of positive and negative words from csv for analysis\n",
    "positive_list = []\n",
    "negative_list = []\n",
    "import csv\n",
    "\n",
    "        \n",
    "with open('que[2]/ana_[2]/positive.csv','r') as csvfile:\n",
    "    rows = csv.reader(csvfile)\n",
    "    for row in rows:\n",
    "        positive_list.append(row[0])\n",
    "\n",
    "with open('que[2]/ana_[2]/negative.csv','r') as csvfile:\n",
    "    rows = csv.reader(csvfile)\n",
    "    for row in rows:\n",
    "        negative_list.append(row[0])  \n",
    "\n",
    "#print(negative_list)"
   ]
  },
  {
   "cell_type": "code",
   "execution_count": 10,
   "metadata": {
    "collapsed": false,
    "scrolled": true
   },
   "outputs": [
    {
     "name": "stdout",
     "output_type": "stream",
     "text": [
      "Number of positive comments about Presidential Election:\n",
      "15\n",
      "Number of negative comments about Presidential Election:\n",
      "18\n",
      "NUmber of neutral comments about Presidential Election:\n",
      "16\n"
     ]
    }
   ],
   "source": [
    "#Analyzing if comments are positive or negative\n",
    "o_main_pos = 0\n",
    "o_main_neg = 0\n",
    "o_main_neu = 0\n",
    "posi_com = []\n",
    "nega_com = []\n",
    "neu_com = []\n",
    "for comment in list_of_comments:\n",
    "    count_pos = 0\n",
    "    count_neg = 0\n",
    "    for word in comment.split():\n",
    "        if word in  positive_list:\n",
    "            count_pos = count_pos + 1\n",
    "        if word in negative_list:\n",
    "            count_neg = count_neg + 1   \n",
    "    if count_pos > count_neg:\n",
    "        #print(\"Positive\")\n",
    "        posi_com.append(comment)\n",
    "        o_main_pos = o_main_pos+1\n",
    "    elif count_pos < count_neg:\n",
    "        #print(\"Negative\")\n",
    "        nega_com.append(comment)\n",
    "        o_main_neg = o_main_neg+1\n",
    "    else:\n",
    "        #print(\"Neutral\")\n",
    "        neu_com.append(comment)\n",
    "        o_main_neu = o_main_neu+1\n",
    "    #print(count_pos)\n",
    "    #print(count_neg)\n",
    "print(\"Number of positive comments about Presidential Election:\")\n",
    "print(o_main_pos)\n",
    "print(\"Number of negative comments about Presidential Election:\")\n",
    "print(o_main_neg)\n",
    "print(\"NUmber of neutral comments about Presidential Election:\")\n",
    "print(o_main_neu)        "
   ]
  },
  {
   "cell_type": "code",
   "execution_count": 11,
   "metadata": {
    "collapsed": false
   },
   "outputs": [],
   "source": [
    "#Writing output to a csv file\n",
    "with open(\"que[2]/ana_[2]/Trump_Comment_Analysis.csv\",\"w\",encoding='utf-8') as myfile1:\n",
    "    writer = csv.writer(myfile1, delimiter=\",\", quotechar=\"|\", quoting=csv.QUOTE_MINIMAL, lineterminator='\\n')\n",
    "    writer.writerow([\"Number of Positive Comments\",\"Number of Negative Comments\",\"Number of Neutral Comments\"])\n",
    "    writer.writerow([o_main_pos,o_main_neg,o_main_neu])"
   ]
  },
  {
   "cell_type": "code",
   "execution_count": 13,
   "metadata": {
    "collapsed": true
   },
   "outputs": [],
   "source": [
    "#Thus we can conclude that users choose to stay neutral on this topic.\n",
    "#Though number of negative comments on this topic is slightly more than positive comments but still we can't infer much\n",
    "#considering the small amount of data.\n",
    "#We might come to a better conclusion if there is no data constraints"
   ]
  },
  {
   "cell_type": "code",
   "execution_count": null,
   "metadata": {
    "collapsed": true
   },
   "outputs": [],
   "source": [
    "#Analysis 2: Lets try to analyze the positive comments on Presidential Elections"
   ]
  },
  {
   "cell_type": "code",
   "execution_count": 14,
   "metadata": {
    "collapsed": false
   },
   "outputs": [
    {
     "data": {
      "text/plain": [
       "[\"Participation In a democracy does not have any knowledge/education requirement, and certainly once elected, you are equal among all other elected representatives, So, you don't need to satisfy any of the other lawmakers minimum standards, or expectations.<br/><br/>Democracy is the people electing one among them. That was the idea at least. What we have is a whole different can of worms.\",\n",
       " \"Participation In a democracy does not have any knowledge/education requirement, and certainly once elected, you are equal among all other elected representatives, So, you don't need to satisfy any of the other lawmakers minimum standards, or expectations.<br/><br/>Democracy is the people electing one among them. That was the idea at least. What we have is a whole different can of worms.\",\n",
       " \"Participation In a democracy does not have any knowledge/education requirement, and certainly once elected, you are equal among all other elected representatives, So, you don't need to satisfy any of the other lawmakers minimum standards, or expectations.<br/><br/>Democracy is the people electing one among them. That was the idea at least. What we have is a whole different can of worms.\",\n",
       " 'The views you attribute to Bernie are pure fiction.  His vision of capitalism is mainstream in many of the advanced nations and was the norm here before Saint Ronald came along and began tampering with the social contract. ',\n",
       " 'I am encouraging the US to build better rail service and upgrade existing lines. High speed rail would also be nice. I would like to see something like the French TGV I the US. ',\n",
       " '\"hold him accountable for adhering to the best of what America is\"<br/><br/>How can Trump - or anyone else, for that matter - be held \"accountable for adhering to the best of what America is\" is something that he\\'s _not_ doing ',\n",
       " \"Thomas Zaslavsky, 16 Nov post<br/><br/>Dear Mr. Zaslavsky, <br/><br/>Time is what we need, to develop and deploy new technologies for energy production and to better assess the impacts of the changes we are experiencing now. <br/><br/>If CO2 indeed controls the climate, then the news that the acceleration of its growth rate in the atmosphere has stopped, and plateaued at the relatively modest rate of 2 ppm/year, should be greated with joy for all who cherish Earth as humanity's cradle. <br/><br/>This slowing of the acceleration to a relatively low linear rate means that the worst case scenarios projected for global warming will be avoided in the policy-relevant future. <br/><br/>I think that's good news.<br/><br/>What do you think? \",\n",
       " \"If DT picks Romney or indeed any other rational 'never Trump' Repub, for a spot in the administration, and they accept, they're exhibiting a great degree of self-sacrifice, in order to try to keep the ship of state on an even keel. We need all sane hands on deck. \",\n",
       " 'Perhaps Romney would accept the appointment for the good of our country, hoping he can inject a modicum of intelligent sanity into the administration?',\n",
       " \"If DT picks Romney or indeed any other rational 'never Trump' Repub, for a spot in the administration, and they accept, they're exhibiting a great degree of self-sacrifice, in order to try to keep the ship of state on an even keel. We need all sane hands on deck. \",\n",
       " 'Perhaps Romney would accept the appointment for the good of our country, hoping he can inject a modicum of intelligent sanity into the administration?',\n",
       " 'It\\'s a bit more like the crude oil train that stopped for the night above Lac-Mégantic, Québec.  The brakes didn\\'t quite work and the train began to move very slowly, then a bit faster.  It eventually rolled, pretty fast, into town, setting it on fire.  Climate change hasn\\'t \"already\" happened.  We\\'re merely at the start of a long, nasty runaway situation.  The more carbon dioxide and other greenhouse gases we add to the atmosphere, the longer and faster change will continue.  ',\n",
       " 'At first I thought this writer was going to deliver a back handed compliment to Romney and a sarcastic denunciation of Giuliani. Little did I know they were actually serious. According to this writer, Romney is to be disqualified simply because of his pre-election disapproval, \"laced with venom\" of Mr. Trump. By this measure there are approximately three people who could be in the general cabinet pool and none of them are Rodolfo Giuliani. One advantage of Romney is that he is a proven negotiator. He is essentially a self made man through his wheeler-dealer days at Bain. No such negotiating experience for Rodolfo. His style has always been the \"my way or the highway\" approach. Romney\\' skills might best be used in reforming so called Obamacare. If they are really to do the honest thing, they\\'ll say they\\'ve done a root and branch overhaul when in reality they simply change the name to Romney-Care. Rodolfo would best if he were put in charge of developing a national policy on the mentally ill who roam our streets. His first hand knowledge of this problem. Anywhere but State would be an improvement. Imagine his first speech to the UN if it resembled his RNC Convention speech at all. He could handle planning the first Putin love fest but not much more.',\n",
       " \"We will all become the social-engineering playthings of a few plutocrats, just like all these thousands of poor students in Detroit, whose lives were destroyed by Betsy DeVos's disastrous charter school experimentations.  <br/><br/>But let's look at the bright side: it will all make for darling cocktail chatter, as Betsy and her ilk gather to think about how to experiment next with the little people, reveling in the vainglorious certainty that obscene inherited wealth produces valuable ideas and useful expertise in addressing complex public policy issues. \",\n",
       " \"We will all become the social-engineering playthings of a few plutocrats, just like all these thousands of poor students in Detroit, whose lives were destroyed by Betsy DeVos's disastrous charter school experimentations.  <br/><br/>But let's look at the bright side: it will all make for darling cocktail chatter, as Betsy and her ilk gather to think about how to experiment next with the little people, reveling in the vainglorious certainty that obscene inherited wealth produces valuable ideas and useful expertise in addressing complex public policy issues. \"]"
      ]
     },
     "execution_count": 14,
     "metadata": {},
     "output_type": "execute_result"
    }
   ],
   "source": [
    "posi_com"
   ]
  },
  {
   "cell_type": "code",
   "execution_count": 15,
   "metadata": {
    "collapsed": true
   },
   "outputs": [],
   "source": [
    "#Generating a csv to store these positive comments\n",
    "with open(\"que[2]/ana_[2]/Trump_Positive_Comments.csv\",\"w\",encoding='utf-8') as myfile1:\n",
    "    writer_p = csv.writer(myfile1,lineterminator='\\n')\n",
    "    writer_p.writerow([\"Positive Comments\"])\n",
    "    for i in range(0,len(posi_com)):\n",
    "        writer_p.writerow([posi_com[i]])"
   ]
  },
  {
   "cell_type": "code",
   "execution_count": null,
   "metadata": {
    "collapsed": true
   },
   "outputs": [],
   "source": [
    "#Analysis 3: Lets try to analyze the negative comments on Presidential Elections"
   ]
  },
  {
   "cell_type": "code",
   "execution_count": 16,
   "metadata": {
    "collapsed": false
   },
   "outputs": [
    {
     "data": {
      "text/plain": [
       "[\"No one appears to be immune from the problem but those with graduate degrees in the sciences seem to be less affected than others. A four year college degree doesn’t seem to provide that much 'immunization' as engineers are often the 'creation scientists', and some other degrees don’t appear to provide the ability to readily discern fact from fiction.  <br/><br/>Don't forget that about a quarter of Democrat believe in creationism, as do about a quarter of people with college degrees. Democrats are much more likely to want to shut down nuclear power in site of the fact that it has actually saved millions of lives due to less coal being burned. Democrats have pushed for assault weapon bans in spite of the fact that it would have an unmeasurable impact on the national homicide rate, and worse yet while ignoring the primary contributors to firearm homicides in the country.  When values and beliefs are embraced one is at risk as they tend to change slowly, if at all. \",\n",
       " 'The common denominator among Trump\\'s appointments and inner circle is the sycophantic badge of honor they all hold for following him to the depths of human decency for the sake of enhancing their own careers. Brushing aside his ignorant proclamations, misogynistic outbursts and racist rants. And now, Mitt Romney who warned in March that to chose Trump for President \"the prospects for a safe and prosperous future are greatly diminished\", comes in search of an appointment. Is there no level they will not stoop to?<br/>What an unseemly spectacle!',\n",
       " 'At least Romney is a grownup, though.  At least there will be one flawed but not horribly awful person in their midst.',\n",
       " 'The common denominator among Trump\\'s appointments and inner circle is the sycophantic badge of honor they all hold for following him to the depths of human decency for the sake of enhancing their own careers. Brushing aside his ignorant proclamations, misogynistic outbursts and racist rants. And now, Mitt Romney who warned in March that to chose Trump for President \"the prospects for a safe and prosperous future are greatly diminished\", comes in search of an appointment. Is there no level they will not stoop to?<br/>What an unseemly spectacle!',\n",
       " 'At least Romney is a grownup, though.  At least there will be one flawed but not horribly awful person in their midst.',\n",
       " \"This is absurd. Is the NYT setting its readers up for a shift towards pleasing Trump and his administration? The NYT did not even vet Trump. It ignored the corruption of his foundation and stayed away from reporting in earnest his tangled business dealings and numerous lawsuits that pose more of an ethical threat than the Clinton Foundation ever could have. But only now is Donald being vetted somewhat but after the fact. We heard more about emails than anything else. And that did as much to suppress Clinton's vote as did Comey and the Russians.  I hear a lot of Trump voters who claim that America has become too soft, too much PC and that they are sick of hearing about safe spaces. So why then are they complaining the loudest when Trump Is bashed and criticized? Not all Trump voters are racist BUT all Trump voters knew that he is. So please, NYT, spare me your coddling of the Trump voter. That's not your job.\",\n",
       " \"Trump's populism is not dependent upon economics, economic class, or policy positions.<br/><br/>This election demonstrated that the Republican base is indifferent to sexual scandals, financial chicanery, and overt expressions of racism by their candidates.  Forget about the shallow pretensions of the 'Moral Majority' of yesteryear - Trump has demolished the last remnants of that facade. <br/><br/>The Republican base voted for an Attitude, with little expectation of any actual results from their candidate. Rhetoric is more important than results. That attitude is a snarling, free-floating cynicism that borders on outright nihilism that has become the core of their identity as Americans. <br/><br/>The Confederacy thrives on rejecting the Union, or the 'establishment' in today's terminology. The Civil War continues, and to no good or meaningful end. \",\n",
       " \"Trump's populism is not dependent upon economics, economic class, or policy positions.<br/><br/>This election demonstrated that the Republican base is indifferent to sexual scandals, financial chicanery, and overt expressions of racism by their candidates.  Forget about the shallow pretensions of the 'Moral Majority' of yesteryear - Trump has demolished the last remnants of that facade. <br/><br/>The Republican base voted for an Attitude, with little expectation of any actual results from their candidate. Rhetoric is more important than results. That attitude is a snarling, free-floating cynicism that borders on outright nihilism that has become the core of their identity as Americans. <br/><br/>The Confederacy thrives on rejecting the Union, or the 'establishment' in today's terminology. The Civil War continues, and to no good or meaningful end. \",\n",
       " 'How much damage can one family inflict -- with her brother head of Blackwater!',\n",
       " 'How much damage can one family inflict -- with her brother head of Blackwater!',\n",
       " '\"With Trump the plutocracy has taken over Washington\"<br/><br/>Hillary was not plutocracy? What was Trump running against, Bernie? It was the plutocratic status quo that has looted this country for themselves, and all their wars and twisted economics.<br/><br/>In most places across this whole country, enough people disliked Hillary so much they\\'d vote for even Trump just to reject her.',\n",
       " 'Disbelieving and still suffering from PTSD-type symptoms hearing Trump had become the \"president-elect\". Then I started to do some research and discovered that 29 million Americans vote on antiquated and insecure voting machines. Two nationally-renown and credible computer experts write:  “We know that the national results could be tipped by manipulating the vote count in a relatively small number of jurisdictions — a few dozen spread across a few key states. We know that the vast majority of local elections officials have limited resources to detect or defend against cyber attacks. And while pre-election polls have large uncertainties, they were consistently off. And various aspects of the preliminary results, such as a high rate of undervotes for president, have aroused suspicion. Source: “Still Time for an Election Audit” – 11/18/2016 – USA Today, by Professors Ron Rivest &amp; Philip Stark',\n",
       " \"I believe it is missing the point to suggest that Trump's problem is vanity and ego.<br/>I believe something much more sinister is at play inside of his problematic personality. What that sinister aspect consists of remains to be uncovered. \",\n",
       " 'Tim,<br/><br/>You said, \" ... Don will have to go into rooms now always face first ...\"<br/><br/>And that will cause even more problems because he will have to pause to make a choice of WHICH ONE  to enter with!',\n",
       " '\"And to lose to a \\'woman\\', it\\'s unthinkable in his universe.\"<br/><br/>Especially since his only idea of a winning woman is a not-yet-dressed Miss Universe.',\n",
       " \"I believe it is missing the point to suggest that Trump's problem is vanity and ego.<br/>I believe something much more sinister is at play inside of his problematic personality. What that sinister aspect consists of remains to be uncovered. \",\n",
       " 'Tim,<br/><br/>You said, \" ... Don will have to go into rooms now always face first ...\"<br/><br/>And that will cause even more problems because he will have to pause to make a choice of WHICH ONE  to enter with!',\n",
       " '\"And to lose to a \\'woman\\', it\\'s unthinkable in his universe.\"<br/><br/>Especially since his only idea of a winning woman is a not-yet-dressed Miss Universe.']"
      ]
     },
     "execution_count": 16,
     "metadata": {},
     "output_type": "execute_result"
    }
   ],
   "source": [
    "nega_com"
   ]
  },
  {
   "cell_type": "code",
   "execution_count": 17,
   "metadata": {
    "collapsed": true
   },
   "outputs": [],
   "source": [
    "#Generating a csv to store these negative comments\n",
    "with open(\"que[2]/ana_[2]/Trump_Negative_Comments.csv\",\"w\",encoding='utf-8') as myfile2:\n",
    "    writer_n = csv.writer(myfile2,lineterminator='\\n')\n",
    "    writer_n.writerow([\"Negative Comments\"])\n",
    "    for i in range(0,len(nega_com)):\n",
    "        writer_n.writerow([nega_com[i]])\n",
    "        \n"
   ]
  },
  {
   "cell_type": "code",
   "execution_count": null,
   "metadata": {
    "collapsed": true
   },
   "outputs": [],
   "source": [
    "#Analysis 4: Lets try to analyze the neutral comments on Presidential Elections"
   ]
  },
  {
   "cell_type": "code",
   "execution_count": 18,
   "metadata": {
    "collapsed": false
   },
   "outputs": [
    {
     "data": {
      "text/plain": [
       "['no confirmation needed cabinet members are appointed .',\n",
       " 'I said it before and I\\'ll say it again, we need standards for people who wish to participate in Congress and effect laws that not only impact human beings and life in general in this country as well as globally, but impact them for generations to come.<br/>Just as law makers wouldn\\'t tolerate colleagues who aren\\'t toilet trained or are unable to find their home state on a map, they also should not tolerate those who apparently couldn\\'t manage to pass basic high school math and science. Unfortunately, such seems to be the case for a majority of the Republican law makers.<br/>Interestingly, this willful ignorance puts them at odds with their conservative constituents. According to a poll conducted by ClearPath, conservatives DO favor taking measures against global warming. Take a look at the site below where you will find the link to a PDF with very precise questions on how Republican voters feel about global warming and what to do about it. The answers are astonishing.<br/><a href=\"http://www.prnewswire.com/news-releases/new-national-poll-shows-strong-republican-support-for-clean-energy-policies-300150875.html\" title=\"http://www.prnewswire.com/news-releases/new-national-poll-shows-strong-republican-support-for-clean-energy-policies-300150875.html\" target=\"_blank\">http://www.prnewswire.com/news-releases/new-national-poll-shows-strong-r...</a>',\n",
       " 'I said it before and I\\'ll say it again, we need standards for people who wish to participate in Congress and effect laws that not only impact human beings and life in general in this country as well as globally, but impact them for generations to come.<br/>Just as law makers wouldn\\'t tolerate colleagues who aren\\'t toilet trained or are unable to find their home state on a map, they also should not tolerate those who apparently couldn\\'t manage to pass basic high school math and science. Unfortunately, such seems to be the case for a majority of the Republican law makers.<br/>Interestingly, this willful ignorance puts them at odds with their conservative constituents. According to a poll conducted by ClearPath, conservatives DO favor taking measures against global warming. Take a look at the site below where you will find the link to a PDF with very precise questions on how Republican voters feel about global warming and what to do about it. The answers are astonishing.<br/><a href=\"http://www.prnewswire.com/news-releases/new-national-poll-shows-strong-republican-support-for-clean-energy-policies-300150875.html\" title=\"http://www.prnewswire.com/news-releases/new-national-poll-shows-strong-republican-support-for-clean-energy-policies-300150875.html\" target=\"_blank\">http://www.prnewswire.com/news-releases/new-national-poll-shows-strong-r...</a>',\n",
       " 'I said it before and I\\'ll say it again, we need standards for people who wish to participate in Congress and effect laws that not only impact human beings and life in general in this country as well as globally, but impact them for generations to come.<br/>Just as law makers wouldn\\'t tolerate colleagues who aren\\'t toilet trained or are unable to find their home state on a map, they also should not tolerate those who apparently couldn\\'t manage to pass basic high school math and science. Unfortunately, such seems to be the case for a majority of the Republican law makers.<br/>Interestingly, this willful ignorance puts them at odds with their conservative constituents. According to a poll conducted by ClearPath, conservatives DO favor taking measures against global warming. Take a look at the site below where you will find the link to a PDF with very precise questions on how Republican voters feel about global warming and what to do about it. The answers are astonishing.<br/><a href=\"http://www.prnewswire.com/news-releases/new-national-poll-shows-strong-republican-support-for-clean-energy-policies-300150875.html\" title=\"http://www.prnewswire.com/news-releases/new-national-poll-shows-strong-republican-support-for-clean-energy-policies-300150875.html\" target=\"_blank\">http://www.prnewswire.com/news-releases/new-national-poll-shows-strong-r...</a>',\n",
       " 'Sayeeshwar.......climate change is already happening.  And if you don\\'t believe climatologists, maybe you should know it is already a given to horticulturists, foresters, botanists, zoologists, geologists, oceanographers, biologists, etc......who factor it into research on planetary life.  They aren\\'t all political about it, and they don\\'t all depend on government funding.  Climate change is just the scientifically accepted model.  Really, the only \"skeptics\" left are industrialists, politicians and their followers, and you don\\'t think they have more of an agenda?',\n",
       " \"You won't get to McCain without saying he has let down his father,\",\n",
       " \"Been to Russia twice, Urko.<br/><br/>It's one of the best propaganda-based, manipulative dictatorships on the planet with rigged elections as the soup du jour.<br/><br/>Comey rigged the election very nicely for the tyrannical American right-wing.<br/><br/>Putin must be very proud.\",\n",
       " \"No.  The probably thought they won, and, come to think about it, so do I.  In fact, didn't Trump say that he never settles?  Oh yeah, he never lies, either.\",\n",
       " '\"Trump Reassures the Media (For Now)\"<br/><br/>The media may be reassured.  I\\'m not.  Not even \"for now\".',\n",
       " 'Already donated. Hope they are going to bring in cybersecurity experts to look at the Diebold voting machines to see if they were hacked.',\n",
       " 'Sound familiar ......reconstruction 1865.',\n",
       " 'Sound familiar ......reconstruction 1865.',\n",
       " \"Trump enjoys adulation and attention far more than he cares about the truth.   In his too vivid imagination, it's impossible, literally impossible that he lost the popular vote to Hillary Clinton.   And to lose to a 'woman', it's unthinkable in his universe.<br/><br/>Meanwhile his minions spin tall tales, like Bill O' Reilly tonight issuing the proclamation that it could have happened just this way, that Bill's research team - one of the finest! - went to California and found out just how easy it is easy for 'illegals' to become registered and to vote.   It was easy to imagine Bill with his imaginary Ben Franklin glasses, peering deeply into the faces of his television audience.   The lie must be kept alive!<br/><br/>Meanwhile on planet earth, our president elect has been unremittingly the butt of more jokes than likely any president elect in American history, not only here but around the world.   <br/><br/>We await a deluge of Pinocchio cartoons, interposed with The Donald's face.   With his massively inflated egoistic head, now barely able to pass through normal doorways, Don will have to go into rooms now always face first, as his nose will preclude him from entering any other way.\",\n",
       " \"Trump enjoys adulation and attention far more than he cares about the truth.   In his too vivid imagination, it's impossible, literally impossible that he lost the popular vote to Hillary Clinton.   And to lose to a 'woman', it's unthinkable in his universe.<br/><br/>Meanwhile his minions spin tall tales, like Bill O' Reilly tonight issuing the proclamation that it could have happened just this way, that Bill's research team - one of the finest! - went to California and found out just how easy it is easy for 'illegals' to become registered and to vote.   It was easy to imagine Bill with his imaginary Ben Franklin glasses, peering deeply into the faces of his television audience.   The lie must be kept alive!<br/><br/>Meanwhile on planet earth, our president elect has been unremittingly the butt of more jokes than likely any president elect in American history, not only here but around the world.   <br/><br/>We await a deluge of Pinocchio cartoons, interposed with The Donald's face.   With his massively inflated egoistic head, now barely able to pass through normal doorways, Don will have to go into rooms now always face first, as his nose will preclude him from entering any other way.\",\n",
       " 'Correction: \"Sago\" mine disaster. ',\n",
       " 'That made me laugh. Thank you!']"
      ]
     },
     "execution_count": 18,
     "metadata": {},
     "output_type": "execute_result"
    }
   ],
   "source": [
    "neu_com"
   ]
  },
  {
   "cell_type": "code",
   "execution_count": null,
   "metadata": {
    "collapsed": true
   },
   "outputs": [],
   "source": [
    "#Generating a csv to store these neutral comments\n",
    "with open(\"que[2]/ana_[2]/Trump_Neutral_Comments.csv\",\"w\",encoding='utf-8') as myfile3:\n",
    "    writer_ne = csv.writer(myfile3,lineterminator='\\n')\n",
    "    writer_ne.writerow([\"Neutral Comments\"])\n",
    "    for i in range(0,len(neu_com)):\n",
    "        writer_ne.writerow([neu_com[i]])"
   ]
  },
  {
   "cell_type": "code",
   "execution_count": 12,
   "metadata": {
    "collapsed": true
   },
   "outputs": [],
   "source": [
    "#Thus we can conclude that the number of users on NYTimes.com, not happy with the result of the presidential election are more.\n",
    "#As we can see the number of negative comments is more than the number of positive comments.\n",
    "#The output of the analysis and comments after sorting have been stored in the csv file."
   ]
  }
 ],
 "metadata": {
  "anaconda-cloud": {},
  "kernelspec": {
   "display_name": "Python [default]",
   "language": "python",
   "name": "python3"
  },
  "language_info": {
   "codemirror_mode": {
    "name": "ipython",
    "version": 3
   },
   "file_extension": ".py",
   "mimetype": "text/x-python",
   "name": "python",
   "nbconvert_exporter": "python",
   "pygments_lexer": "ipython3",
   "version": "3.5.2"
  }
 },
 "nbformat": 4,
 "nbformat_minor": 2
}
