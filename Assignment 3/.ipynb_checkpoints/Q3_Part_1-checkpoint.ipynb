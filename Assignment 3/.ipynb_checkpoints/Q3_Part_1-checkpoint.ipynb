{
 "cells": [
  {
   "cell_type": "markdown",
   "metadata": {},
   "source": [
    "# Q3_PART ONE\n",
    "- Use ‘cricket_matches’ data set.\n",
    "- Calculate the average score for each team which host the game and win the game.\n",
    "- Remember that if a team hosts a game and wins the game, their score can be innings_1 runs or innings_2 runs. You have to check if the host team won the game, check which innings they played in (innings_1 or innings_2), and take the runs scored in that innings. The final answer is the average score of each team satisfying the above condition.\n",
    "- Display a few rows of the output use df.head()\n",
    "- Generate a csv output\n"
   ]
  },
  {
   "cell_type": "code",
   "execution_count": 2,
   "metadata": {
    "collapsed": true
   },
   "outputs": [],
   "source": [
    "#from pandas import Series, DataFrame\n",
    "import os\n",
    "import pandas as pd\n",
    "import numpy as np"
   ]
  },
  {
   "cell_type": "code",
   "execution_count": 12,
   "metadata": {
    "collapsed": false
   },
   "outputs": [],
   "source": [
    "#getting current working directory\n",
    "b = os.getcwd()\n",
    "\n",
    "\n",
    "#reading the csv file\n",
    "df = pd.read_csv(b+\"\\\\\"+\"Data\\\\cricket_matches.csv\", usecols=[6,8,12,13,17,18])"
   ]
  },
  {
   "cell_type": "code",
   "execution_count": 13,
   "metadata": {
    "collapsed": false
   },
   "outputs": [
    {
     "data": {
      "text/html": [
       "<div>\n",
       "<table border=\"1\" class=\"dataframe\">\n",
       "  <thead>\n",
       "    <tr style=\"text-align: right;\">\n",
       "      <th></th>\n",
       "      <th>home</th>\n",
       "      <th>winner</th>\n",
       "      <th>innings1</th>\n",
       "      <th>innings1_runs</th>\n",
       "      <th>innings2</th>\n",
       "      <th>innings2_runs</th>\n",
       "    </tr>\n",
       "  </thead>\n",
       "  <tbody>\n",
       "    <tr>\n",
       "      <th>0</th>\n",
       "      <td>Durham</td>\n",
       "      <td>Durham</td>\n",
       "      <td>Nottinghamshire</td>\n",
       "      <td>157.0</td>\n",
       "      <td>Durham</td>\n",
       "      <td>160.0</td>\n",
       "    </tr>\n",
       "    <tr>\n",
       "      <th>1</th>\n",
       "      <td>Hampshire</td>\n",
       "      <td>Hampshire</td>\n",
       "      <td>Hampshire</td>\n",
       "      <td>153.0</td>\n",
       "      <td>Sussex</td>\n",
       "      <td>148.0</td>\n",
       "    </tr>\n",
       "    <tr>\n",
       "      <th>2</th>\n",
       "      <td>Somerset</td>\n",
       "      <td>Warwickshire</td>\n",
       "      <td>Warwickshire</td>\n",
       "      <td>188.0</td>\n",
       "      <td>Somerset</td>\n",
       "      <td>169.0</td>\n",
       "    </tr>\n",
       "    <tr>\n",
       "      <th>3</th>\n",
       "      <td>Surrey</td>\n",
       "      <td>Surrey</td>\n",
       "      <td>Middlesex</td>\n",
       "      <td>155.0</td>\n",
       "      <td>Surrey</td>\n",
       "      <td>158.0</td>\n",
       "    </tr>\n",
       "    <tr>\n",
       "      <th>4</th>\n",
       "      <td>Worcestershire</td>\n",
       "      <td>Worcestershire</td>\n",
       "      <td>Northamptonshire</td>\n",
       "      <td>150.0</td>\n",
       "      <td>Worcestershire</td>\n",
       "      <td>151.0</td>\n",
       "    </tr>\n",
       "  </tbody>\n",
       "</table>\n",
       "</div>"
      ],
      "text/plain": [
       "             home          winner          innings1  innings1_runs  \\\n",
       "0          Durham          Durham   Nottinghamshire          157.0   \n",
       "1       Hampshire       Hampshire         Hampshire          153.0   \n",
       "2        Somerset    Warwickshire      Warwickshire          188.0   \n",
       "3          Surrey          Surrey         Middlesex          155.0   \n",
       "4  Worcestershire  Worcestershire  Northamptonshire          150.0   \n",
       "\n",
       "         innings2  innings2_runs  \n",
       "0          Durham          160.0  \n",
       "1          Sussex          148.0  \n",
       "2        Somerset          169.0  \n",
       "3          Surrey          158.0  \n",
       "4  Worcestershire          151.0  "
      ]
     },
     "execution_count": 13,
     "metadata": {},
     "output_type": "execute_result"
    }
   ],
   "source": [
    "df.head()"
   ]
  },
  {
   "cell_type": "code",
   "execution_count": 14,
   "metadata": {
    "collapsed": false
   },
   "outputs": [
    {
     "data": {
      "text/html": [
       "<div>\n",
       "<table border=\"1\" class=\"dataframe\">\n",
       "  <thead>\n",
       "    <tr style=\"text-align: right;\">\n",
       "      <th></th>\n",
       "      <th>home</th>\n",
       "      <th>winner</th>\n",
       "      <th>innings1</th>\n",
       "      <th>innings1_runs</th>\n",
       "      <th>innings2</th>\n",
       "      <th>innings2_runs</th>\n",
       "    </tr>\n",
       "  </thead>\n",
       "  <tbody>\n",
       "    <tr>\n",
       "      <th>0</th>\n",
       "      <td>Durham</td>\n",
       "      <td>Durham</td>\n",
       "      <td>Nottinghamshire</td>\n",
       "      <td>157.0</td>\n",
       "      <td>Durham</td>\n",
       "      <td>160.0</td>\n",
       "    </tr>\n",
       "    <tr>\n",
       "      <th>1</th>\n",
       "      <td>Hampshire</td>\n",
       "      <td>Hampshire</td>\n",
       "      <td>Hampshire</td>\n",
       "      <td>153.0</td>\n",
       "      <td>Sussex</td>\n",
       "      <td>148.0</td>\n",
       "    </tr>\n",
       "    <tr>\n",
       "      <th>3</th>\n",
       "      <td>Surrey</td>\n",
       "      <td>Surrey</td>\n",
       "      <td>Middlesex</td>\n",
       "      <td>155.0</td>\n",
       "      <td>Surrey</td>\n",
       "      <td>158.0</td>\n",
       "    </tr>\n",
       "    <tr>\n",
       "      <th>4</th>\n",
       "      <td>Worcestershire</td>\n",
       "      <td>Worcestershire</td>\n",
       "      <td>Northamptonshire</td>\n",
       "      <td>150.0</td>\n",
       "      <td>Worcestershire</td>\n",
       "      <td>151.0</td>\n",
       "    </tr>\n",
       "    <tr>\n",
       "      <th>5</th>\n",
       "      <td>Gloucestershire</td>\n",
       "      <td>Gloucestershire</td>\n",
       "      <td>Worcestershire</td>\n",
       "      <td>122.0</td>\n",
       "      <td>Gloucestershire</td>\n",
       "      <td>126.0</td>\n",
       "    </tr>\n",
       "  </tbody>\n",
       "</table>\n",
       "</div>"
      ],
      "text/plain": [
       "              home           winner          innings1  innings1_runs  \\\n",
       "0           Durham           Durham   Nottinghamshire          157.0   \n",
       "1        Hampshire        Hampshire         Hampshire          153.0   \n",
       "3           Surrey           Surrey         Middlesex          155.0   \n",
       "4   Worcestershire   Worcestershire  Northamptonshire          150.0   \n",
       "5  Gloucestershire  Gloucestershire    Worcestershire          122.0   \n",
       "\n",
       "          innings2  innings2_runs  \n",
       "0           Durham          160.0  \n",
       "1           Sussex          148.0  \n",
       "3           Surrey          158.0  \n",
       "4   Worcestershire          151.0  \n",
       "5  Gloucestershire          126.0  "
      ]
     },
     "execution_count": 14,
     "metadata": {},
     "output_type": "execute_result"
    }
   ],
   "source": [
    "df1 = df[df['home'] == df['winner']]\n",
    "df1.head()"
   ]
  },
  {
   "cell_type": "code",
   "execution_count": 15,
   "metadata": {
    "collapsed": false
   },
   "outputs": [
    {
     "name": "stderr",
     "output_type": "stream",
     "text": [
      "C:\\Users\\swaru\\Anaconda3\\lib\\site-packages\\ipykernel\\__main__.py:1: SettingWithCopyWarning: \n",
      "A value is trying to be set on a copy of a slice from a DataFrame.\n",
      "Try using .loc[row_indexer,col_indexer] = value instead\n",
      "\n",
      "See the caveats in the documentation: http://pandas.pydata.org/pandas-docs/stable/indexing.html#indexing-view-versus-copy\n",
      "  if __name__ == '__main__':\n"
     ]
    },
    {
     "data": {
      "text/html": [
       "<div>\n",
       "<table border=\"1\" class=\"dataframe\">\n",
       "  <thead>\n",
       "    <tr style=\"text-align: right;\">\n",
       "      <th></th>\n",
       "      <th>home</th>\n",
       "      <th>winner</th>\n",
       "      <th>innings1</th>\n",
       "      <th>innings1_runs</th>\n",
       "      <th>innings2</th>\n",
       "      <th>innings2_runs</th>\n",
       "      <th>score</th>\n",
       "    </tr>\n",
       "  </thead>\n",
       "  <tbody>\n",
       "    <tr>\n",
       "      <th>0</th>\n",
       "      <td>Durham</td>\n",
       "      <td>Durham</td>\n",
       "      <td>Nottinghamshire</td>\n",
       "      <td>157.0</td>\n",
       "      <td>Durham</td>\n",
       "      <td>160.0</td>\n",
       "      <td>160.0</td>\n",
       "    </tr>\n",
       "    <tr>\n",
       "      <th>1</th>\n",
       "      <td>Hampshire</td>\n",
       "      <td>Hampshire</td>\n",
       "      <td>Hampshire</td>\n",
       "      <td>153.0</td>\n",
       "      <td>Sussex</td>\n",
       "      <td>148.0</td>\n",
       "      <td>153.0</td>\n",
       "    </tr>\n",
       "    <tr>\n",
       "      <th>3</th>\n",
       "      <td>Surrey</td>\n",
       "      <td>Surrey</td>\n",
       "      <td>Middlesex</td>\n",
       "      <td>155.0</td>\n",
       "      <td>Surrey</td>\n",
       "      <td>158.0</td>\n",
       "      <td>158.0</td>\n",
       "    </tr>\n",
       "    <tr>\n",
       "      <th>4</th>\n",
       "      <td>Worcestershire</td>\n",
       "      <td>Worcestershire</td>\n",
       "      <td>Northamptonshire</td>\n",
       "      <td>150.0</td>\n",
       "      <td>Worcestershire</td>\n",
       "      <td>151.0</td>\n",
       "      <td>151.0</td>\n",
       "    </tr>\n",
       "    <tr>\n",
       "      <th>5</th>\n",
       "      <td>Gloucestershire</td>\n",
       "      <td>Gloucestershire</td>\n",
       "      <td>Worcestershire</td>\n",
       "      <td>122.0</td>\n",
       "      <td>Gloucestershire</td>\n",
       "      <td>126.0</td>\n",
       "      <td>126.0</td>\n",
       "    </tr>\n",
       "  </tbody>\n",
       "</table>\n",
       "</div>"
      ],
      "text/plain": [
       "              home           winner          innings1  innings1_runs  \\\n",
       "0           Durham           Durham   Nottinghamshire          157.0   \n",
       "1        Hampshire        Hampshire         Hampshire          153.0   \n",
       "3           Surrey           Surrey         Middlesex          155.0   \n",
       "4   Worcestershire   Worcestershire  Northamptonshire          150.0   \n",
       "5  Gloucestershire  Gloucestershire    Worcestershire          122.0   \n",
       "\n",
       "          innings2  innings2_runs  score  \n",
       "0           Durham          160.0  160.0  \n",
       "1           Sussex          148.0  153.0  \n",
       "3           Surrey          158.0  158.0  \n",
       "4   Worcestershire          151.0  151.0  \n",
       "5  Gloucestershire          126.0  126.0  "
      ]
     },
     "execution_count": 15,
     "metadata": {},
     "output_type": "execute_result"
    }
   ],
   "source": [
    "df1['score'] = np.where(df1['home'] == df1['innings1'], df1['innings1_runs'], df1['innings2_runs'])\n",
    "df1.head()"
   ]
  },
  {
   "cell_type": "code",
   "execution_count": 16,
   "metadata": {
    "collapsed": false
   },
   "outputs": [
    {
     "data": {
      "text/plain": [
       "home\n",
       "Abahani Limited       172.000000\n",
       "Abbottabad Falcons    139.454545\n",
       "Abbottabad Region     182.666667\n",
       "Abbottabad Rhinos     165.000000\n",
       "Adelaide Strikers     163.111111\n",
       "Name: score, dtype: float64"
      ]
     },
     "execution_count": 16,
     "metadata": {},
     "output_type": "execute_result"
    }
   ],
   "source": [
    "total_avg = df1['score'].groupby(df1['home']).mean()\n",
    "total_avg.head()"
   ]
  },
  {
   "cell_type": "code",
   "execution_count": 18,
   "metadata": {
    "collapsed": false
   },
   "outputs": [
    {
     "data": {
      "text/html": [
       "<div>\n",
       "<table border=\"1\" class=\"dataframe\">\n",
       "  <thead>\n",
       "    <tr style=\"text-align: right;\">\n",
       "      <th></th>\n",
       "      <th>score</th>\n",
       "    </tr>\n",
       "    <tr>\n",
       "      <th>home</th>\n",
       "      <th></th>\n",
       "    </tr>\n",
       "  </thead>\n",
       "  <tbody>\n",
       "    <tr>\n",
       "      <th>Abahani Limited</th>\n",
       "      <td>172.000000</td>\n",
       "    </tr>\n",
       "    <tr>\n",
       "      <th>Abbottabad Falcons</th>\n",
       "      <td>139.454545</td>\n",
       "    </tr>\n",
       "    <tr>\n",
       "      <th>Abbottabad Region</th>\n",
       "      <td>182.666667</td>\n",
       "    </tr>\n",
       "    <tr>\n",
       "      <th>Abbottabad Rhinos</th>\n",
       "      <td>165.000000</td>\n",
       "    </tr>\n",
       "    <tr>\n",
       "      <th>Adelaide Strikers</th>\n",
       "      <td>163.111111</td>\n",
       "    </tr>\n",
       "  </tbody>\n",
       "</table>\n",
       "</div>"
      ],
      "text/plain": [
       "                         score\n",
       "home                          \n",
       "Abahani Limited     172.000000\n",
       "Abbottabad Falcons  139.454545\n",
       "Abbottabad Region   182.666667\n",
       "Abbottabad Rhinos   165.000000\n",
       "Adelaide Strikers   163.111111"
      ]
     },
     "execution_count": 18,
     "metadata": {},
     "output_type": "execute_result"
    }
   ],
   "source": [
    "df2 = pd.DataFrame({ 'score' : total_avg})\n",
    "df2.head()"
   ]
  },
  {
   "cell_type": "code",
   "execution_count": 19,
   "metadata": {
    "collapsed": false
   },
   "outputs": [
    {
     "data": {
      "text/html": [
       "<div>\n",
       "<table border=\"1\" class=\"dataframe\">\n",
       "  <thead>\n",
       "    <tr style=\"text-align: right;\">\n",
       "      <th></th>\n",
       "      <th>home</th>\n",
       "      <th>score</th>\n",
       "    </tr>\n",
       "    <tr>\n",
       "      <th>home</th>\n",
       "      <th></th>\n",
       "      <th></th>\n",
       "    </tr>\n",
       "  </thead>\n",
       "  <tbody>\n",
       "    <tr>\n",
       "      <th>Abahani Limited</th>\n",
       "      <td>Abahani Limited</td>\n",
       "      <td>172.000000</td>\n",
       "    </tr>\n",
       "    <tr>\n",
       "      <th>Abbottabad Falcons</th>\n",
       "      <td>Abbottabad Falcons</td>\n",
       "      <td>139.454545</td>\n",
       "    </tr>\n",
       "    <tr>\n",
       "      <th>Abbottabad Region</th>\n",
       "      <td>Abbottabad Region</td>\n",
       "      <td>182.666667</td>\n",
       "    </tr>\n",
       "    <tr>\n",
       "      <th>Abbottabad Rhinos</th>\n",
       "      <td>Abbottabad Rhinos</td>\n",
       "      <td>165.000000</td>\n",
       "    </tr>\n",
       "    <tr>\n",
       "      <th>Adelaide Strikers</th>\n",
       "      <td>Adelaide Strikers</td>\n",
       "      <td>163.111111</td>\n",
       "    </tr>\n",
       "  </tbody>\n",
       "</table>\n",
       "</div>"
      ],
      "text/plain": [
       "                                  home       score\n",
       "home                                              \n",
       "Abahani Limited        Abahani Limited  172.000000\n",
       "Abbottabad Falcons  Abbottabad Falcons  139.454545\n",
       "Abbottabad Region    Abbottabad Region  182.666667\n",
       "Abbottabad Rhinos    Abbottabad Rhinos  165.000000\n",
       "Adelaide Strikers    Adelaide Strikers  163.111111"
      ]
     },
     "execution_count": 19,
     "metadata": {},
     "output_type": "execute_result"
    }
   ],
   "source": [
    "df3 = pd.DataFrame({'home' : df2.index,'score' : total_avg })\n",
    "df3.head()"
   ]
  },
  {
   "cell_type": "code",
   "execution_count": 20,
   "metadata": {
    "collapsed": false
   },
   "outputs": [],
   "source": [
    "#function to check is directory exists\n",
    "def funCheckDir(path):\n",
    "    directory = os.path.dirname(path) # defining directory path\n",
    "    if not os.path.exists(directory): # checking if directory already exists\n",
    "        os.makedirs(directory) # making a directory\n",
    "        \n",
    "resultsPath = b+\"/Q3_Part_1.csv\"\n",
    "funCheckDir(resultsPath)\n",
    "\n",
    "# Saving our dataFrame to csv file.\n",
    "#Percent_df[Columns].to_csv(resultsPath, index=False, encoding='utf-8')\n",
    "df3.to_csv(resultsPath, index=False, encoding='utf-8')"
   ]
  },
  {
   "cell_type": "code",
   "execution_count": 21,
   "metadata": {
    "collapsed": false
   },
   "outputs": [
    {
     "name": "stderr",
     "output_type": "stream",
     "text": [
      "[NbConvertApp] Converting notebook Q3_Part_1.ipynb to script\n",
      "[NbConvertApp] Writing 1792 bytes to Q3_Part_1.py\n"
     ]
    }
   ],
   "source": [
    "!jupyter nbconvert --to script Q3_Part_1.ipynb"
   ]
  }
 ],
 "metadata": {
  "anaconda-cloud": {},
  "kernelspec": {
   "display_name": "Python [default]",
   "language": "python",
   "name": "python3"
  },
  "language_info": {
   "codemirror_mode": {
    "name": "ipython",
    "version": 3
   },
   "file_extension": ".py",
   "mimetype": "text/x-python",
   "name": "python",
   "nbconvert_exporter": "python",
   "pygments_lexer": "ipython3",
   "version": "3.5.2"
  }
 },
 "nbformat": 4,
 "nbformat_minor": 2
}
