{
 "cells": [
  {
   "cell_type": "markdown",
   "metadata": {},
   "source": [
    "# Q2_Part ONE\n",
    "- use employee_compensation dataset.\n",
    "- Calculate mean of total compensation for every department\n",
    "- Groupby the result with Organization droup with highest total compensation\n",
    "- Generate CSV with 3 columns(Organization Group, department and Total Compensation)"
   ]
  },
  {
   "cell_type": "code",
   "execution_count": 1,
   "metadata": {
    "collapsed": true
   },
   "outputs": [],
   "source": [
    "import os\n",
    "import pandas as pd\n",
    "import numpy as np"
   ]
  },
  {
   "cell_type": "code",
   "execution_count": 3,
   "metadata": {
    "collapsed": false
   },
   "outputs": [],
   "source": [
    "#getting current working directory\n",
    "b = os.getcwd()\n",
    "\n",
    "#reading the csv file\n",
    "df = pd.read_csv(b+\"\\\\\"+\"Data\\\\employee_compensation.csv\", usecols=[3,5,21]) #, parse_dates=['DATE']), usecols=[0,1,3,19,20,21,22,23]) #usecols=[0,1,3]) #vehicle_collisions.csv, , delim_whitespace=True, , header=None"
   ]
  },
  {
   "cell_type": "code",
   "execution_count": 4,
   "metadata": {
    "collapsed": false
   },
   "outputs": [
    {
     "data": {
      "text/html": [
       "<div>\n",
       "<table border=\"1\" class=\"dataframe\">\n",
       "  <thead>\n",
       "    <tr style=\"text-align: right;\">\n",
       "      <th></th>\n",
       "      <th>Organization Group</th>\n",
       "      <th>Department</th>\n",
       "      <th>Total Compensation</th>\n",
       "    </tr>\n",
       "  </thead>\n",
       "  <tbody>\n",
       "    <tr>\n",
       "      <th>0</th>\n",
       "      <td>Public Works, Transportation &amp; Commerce</td>\n",
       "      <td>Airport Commission</td>\n",
       "      <td>143916.66</td>\n",
       "    </tr>\n",
       "    <tr>\n",
       "      <th>1</th>\n",
       "      <td>Community Health</td>\n",
       "      <td>Public Health</td>\n",
       "      <td>107914.16</td>\n",
       "    </tr>\n",
       "    <tr>\n",
       "      <th>2</th>\n",
       "      <td>Human Welfare &amp; Neighborhood Development</td>\n",
       "      <td>Department of the Status of Women</td>\n",
       "      <td>267.28</td>\n",
       "    </tr>\n",
       "    <tr>\n",
       "      <th>3</th>\n",
       "      <td>General Administration &amp; Finance</td>\n",
       "      <td>Human Resources</td>\n",
       "      <td>2519.13</td>\n",
       "    </tr>\n",
       "    <tr>\n",
       "      <th>4</th>\n",
       "      <td>Culture &amp; Recreation</td>\n",
       "      <td>Recreation and Park Commission</td>\n",
       "      <td>1726.68</td>\n",
       "    </tr>\n",
       "  </tbody>\n",
       "</table>\n",
       "</div>"
      ],
      "text/plain": [
       "                         Organization Group  \\\n",
       "0   Public Works, Transportation & Commerce   \n",
       "1                          Community Health   \n",
       "2  Human Welfare & Neighborhood Development   \n",
       "3          General Administration & Finance   \n",
       "4                      Culture & Recreation   \n",
       "\n",
       "                          Department  Total Compensation  \n",
       "0                 Airport Commission           143916.66  \n",
       "1                      Public Health           107914.16  \n",
       "2  Department of the Status of Women              267.28  \n",
       "3                    Human Resources             2519.13  \n",
       "4     Recreation and Park Commission             1726.68  "
      ]
     },
     "execution_count": 4,
     "metadata": {},
     "output_type": "execute_result"
    }
   ],
   "source": [
    "#printing the first 5 rows of the dataset\n",
    "df.head()"
   ]
  },
  {
   "cell_type": "code",
   "execution_count": 5,
   "metadata": {
    "collapsed": false
   },
   "outputs": [
    {
     "data": {
      "text/html": [
       "<div>\n",
       "<table border=\"1\" class=\"dataframe\">\n",
       "  <thead>\n",
       "    <tr style=\"text-align: right;\">\n",
       "      <th></th>\n",
       "      <th></th>\n",
       "      <th>Total Compensation</th>\n",
       "    </tr>\n",
       "    <tr>\n",
       "      <th>Organization Group</th>\n",
       "      <th>Department</th>\n",
       "      <th></th>\n",
       "    </tr>\n",
       "  </thead>\n",
       "  <tbody>\n",
       "    <tr>\n",
       "      <th>Community Health</th>\n",
       "      <th>Public Health</th>\n",
       "      <td>96190.190140</td>\n",
       "    </tr>\n",
       "    <tr>\n",
       "      <th rowspan=\"4\" valign=\"top\">Culture &amp; Recreation</th>\n",
       "      <th>Academy of Sciences</th>\n",
       "      <td>107319.727692</td>\n",
       "    </tr>\n",
       "    <tr>\n",
       "      <th>Arts Commission</th>\n",
       "      <td>94339.597388</td>\n",
       "    </tr>\n",
       "    <tr>\n",
       "      <th>Asian Art Museum</th>\n",
       "      <td>71401.520060</td>\n",
       "    </tr>\n",
       "    <tr>\n",
       "      <th>Fine Arts Museum</th>\n",
       "      <td>44205.439895</td>\n",
       "    </tr>\n",
       "  </tbody>\n",
       "</table>\n",
       "</div>"
      ],
      "text/plain": [
       "                                          Total Compensation\n",
       "Organization Group   Department                             \n",
       "Community Health     Public Health              96190.190140\n",
       "Culture & Recreation Academy of Sciences       107319.727692\n",
       "                     Arts Commission            94339.597388\n",
       "                     Asian Art Museum           71401.520060\n",
       "                     Fine Arts Museum           44205.439895"
      ]
     },
     "execution_count": 5,
     "metadata": {},
     "output_type": "execute_result"
    }
   ],
   "source": [
    "#Calculating the mean of total compensation group by Organization and Department\n",
    "AvgComp = df.groupby(['Organization Group','Department']).mean()\n",
    "AvgComp.head()"
   ]
  },
  {
   "cell_type": "code",
   "execution_count": 6,
   "metadata": {
    "collapsed": false
   },
   "outputs": [
    {
     "data": {
      "text/html": [
       "<div>\n",
       "<table border=\"1\" class=\"dataframe\">\n",
       "  <thead>\n",
       "    <tr style=\"text-align: right;\">\n",
       "      <th></th>\n",
       "      <th>Organization Group</th>\n",
       "      <th>Department</th>\n",
       "      <th>Total Compensation</th>\n",
       "    </tr>\n",
       "  </thead>\n",
       "  <tbody>\n",
       "    <tr>\n",
       "      <th>0</th>\n",
       "      <td>Community Health</td>\n",
       "      <td>Public Health</td>\n",
       "      <td>96190.190140</td>\n",
       "    </tr>\n",
       "    <tr>\n",
       "      <th>1</th>\n",
       "      <td>Culture &amp; Recreation</td>\n",
       "      <td>Academy of Sciences</td>\n",
       "      <td>107319.727692</td>\n",
       "    </tr>\n",
       "    <tr>\n",
       "      <th>2</th>\n",
       "      <td>Culture &amp; Recreation</td>\n",
       "      <td>Arts Commission</td>\n",
       "      <td>94339.597388</td>\n",
       "    </tr>\n",
       "    <tr>\n",
       "      <th>3</th>\n",
       "      <td>Culture &amp; Recreation</td>\n",
       "      <td>Asian Art Museum</td>\n",
       "      <td>71401.520060</td>\n",
       "    </tr>\n",
       "    <tr>\n",
       "      <th>4</th>\n",
       "      <td>Culture &amp; Recreation</td>\n",
       "      <td>Fine Arts Museum</td>\n",
       "      <td>44205.439895</td>\n",
       "    </tr>\n",
       "  </tbody>\n",
       "</table>\n",
       "</div>"
      ],
      "text/plain": [
       "     Organization Group           Department  Total Compensation\n",
       "0      Community Health        Public Health        96190.190140\n",
       "1  Culture & Recreation  Academy of Sciences       107319.727692\n",
       "2  Culture & Recreation      Arts Commission        94339.597388\n",
       "3  Culture & Recreation     Asian Art Museum        71401.520060\n",
       "4  Culture & Recreation     Fine Arts Museum        44205.439895"
      ]
     },
     "execution_count": 6,
     "metadata": {},
     "output_type": "execute_result"
    }
   ],
   "source": [
    "#resetting the index to bring hierarchical index to flat index\n",
    "AvgComp = AvgComp.reset_index()\n",
    "AvgComp.head()"
   ]
  },
  {
   "cell_type": "code",
   "execution_count": 8,
   "metadata": {
    "collapsed": false
   },
   "outputs": [
    {
     "data": {
      "text/html": [
       "<div>\n",
       "<table border=\"1\" class=\"dataframe\">\n",
       "  <thead>\n",
       "    <tr style=\"text-align: right;\">\n",
       "      <th></th>\n",
       "      <th>Organization Group</th>\n",
       "      <th>Department</th>\n",
       "      <th>Total Compensation</th>\n",
       "    </tr>\n",
       "  </thead>\n",
       "  <tbody>\n",
       "    <tr>\n",
       "      <th>0</th>\n",
       "      <td>Community Health</td>\n",
       "      <td>Public Health</td>\n",
       "      <td>96190.190140</td>\n",
       "    </tr>\n",
       "    <tr>\n",
       "      <th>5</th>\n",
       "      <td>Culture &amp; Recreation</td>\n",
       "      <td>Law Library</td>\n",
       "      <td>188424.362222</td>\n",
       "    </tr>\n",
       "    <tr>\n",
       "      <th>1</th>\n",
       "      <td>Culture &amp; Recreation</td>\n",
       "      <td>Academy of Sciences</td>\n",
       "      <td>107319.727692</td>\n",
       "    </tr>\n",
       "    <tr>\n",
       "      <th>2</th>\n",
       "      <td>Culture &amp; Recreation</td>\n",
       "      <td>Arts Commission</td>\n",
       "      <td>94339.597388</td>\n",
       "    </tr>\n",
       "    <tr>\n",
       "      <th>8</th>\n",
       "      <td>Culture &amp; Recreation</td>\n",
       "      <td>War Memorial</td>\n",
       "      <td>76250.068022</td>\n",
       "    </tr>\n",
       "  </tbody>\n",
       "</table>\n",
       "</div>"
      ],
      "text/plain": [
       "     Organization Group           Department  Total Compensation\n",
       "0      Community Health        Public Health        96190.190140\n",
       "5  Culture & Recreation          Law Library       188424.362222\n",
       "1  Culture & Recreation  Academy of Sciences       107319.727692\n",
       "2  Culture & Recreation      Arts Commission        94339.597388\n",
       "8  Culture & Recreation         War Memorial        76250.068022"
      ]
     },
     "execution_count": 8,
     "metadata": {},
     "output_type": "execute_result"
    }
   ],
   "source": [
    "#sorting the value in descending order based on Total Compensation\n",
    "AvgComp = AvgComp.sort_values(['Organization Group','Total Compensation'], ascending=[True,False])\n",
    "\n",
    "AvgComp.head()"
   ]
  },
  {
   "cell_type": "code",
   "execution_count": 9,
   "metadata": {
    "collapsed": true
   },
   "outputs": [],
   "source": [
    "#function to check is directory exists\n",
    "def funCheckDir(path):\n",
    "    directory = os.path.dirname(path) # defining directory path\n",
    "    if not os.path.exists(directory): # checking if directory already exists\n",
    "        os.makedirs(directory) # making a directory\n",
    "        \n",
    "resultsPath = b+\"/Q2_Part_1.csv\"\n",
    "funCheckDir(resultsPath)\n",
    "\n",
    "# Saving our result dataFrame to csv file.\n",
    "AvgComp.to_csv(resultsPath, index=False, encoding='utf-8')"
   ]
  },
  {
   "cell_type": "code",
   "execution_count": 10,
   "metadata": {
    "collapsed": false
   },
   "outputs": [
    {
     "name": "stderr",
     "output_type": "stream",
     "text": [
      "[NbConvertApp] Converting notebook Q2_Part_1.ipynb to script\n",
      "[NbConvertApp] Writing 1668 bytes to Q2_Part_1.py\n"
     ]
    }
   ],
   "source": [
    "!jupyter nbconvert --to script Q2_Part_1.ipynb"
   ]
  }
 ],
 "metadata": {
  "kernelspec": {
   "display_name": "Python [default]",
   "language": "python",
   "name": "python3"
  },
  "language_info": {
   "codemirror_mode": {
    "name": "ipython",
    "version": 3
   },
   "file_extension": ".py",
   "mimetype": "text/x-python",
   "name": "python",
   "nbconvert_exporter": "python",
   "pygments_lexer": "ipython3",
   "version": "3.5.2"
  }
 },
 "nbformat": 4,
 "nbformat_minor": 2
}
