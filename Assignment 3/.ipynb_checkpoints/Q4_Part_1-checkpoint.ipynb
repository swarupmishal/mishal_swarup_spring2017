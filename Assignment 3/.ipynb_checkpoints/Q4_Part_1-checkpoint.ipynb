{
 "cells": [
  {
   "cell_type": "markdown",
   "metadata": {},
   "source": [
    "# Q4_PART ONE\n",
    "- Use ‘movies_awards’ data set.\n",
    "- You are supposed to extract data from the awards column in this dataset and split it into several columns. An example is given below.\n",
    "- The awards has details of wins, nominations in general and also wins and nominations in certain categories(e.g. Oscar, BAFTA etc.)\n",
    "- You are supposed to create a win and nominated column (these 2 columns contain total number of wins and nominations) and other columns that extract the number of wins and nominations for each category of award.\n",
    "- If a movie has 2 Oscar nominations and 4 Oscar won, the columns Oscar_Awards_Won should have value 4 and Oscar_Awards_Nominated should have value 2. You should also have a total won and nominated column which aggregates all the awards (won or nominated).\n",
    "- Create two separate columns for each award category (won and nominated).\n",
    "- Write your output to a csv file. "
   ]
  },
  {
   "cell_type": "code",
   "execution_count": 26,
   "metadata": {
    "collapsed": true
   },
   "outputs": [],
   "source": [
    "#from pandas import Series, DataFrame\n",
    "import os\n",
    "import pandas as pd\n",
    "import numpy as np"
   ]
  },
  {
   "cell_type": "code",
   "execution_count": 43,
   "metadata": {
    "collapsed": false
   },
   "outputs": [],
   "source": [
    "#getting current working directory\n",
    "b = os.getcwd()\n",
    "\n",
    "\n",
    "#reading the csv file\n",
    "df = pd.read_csv(b+\"\\\\\"+\"Data\\\\movies_awards.csv\")"
   ]
  },
  {
   "cell_type": "code",
   "execution_count": 45,
   "metadata": {
    "collapsed": false
   },
   "outputs": [],
   "source": [
    "output_df=pd.DataFrame(columns=['Awards','Awards_won','Awards_nominated','Prime_awards_Nominated','Oscar_awards_Nominated','Gloden_Globe_Nominate','BAFTA_Awards_Nominated','Prime_awards_Won','Oscar_awards_Won','Gloden_Globe_Won','BAFTA_Awards_Won'])"
   ]
  },
  {
   "cell_type": "code",
   "execution_count": 46,
   "metadata": {
    "collapsed": false
   },
   "outputs": [],
   "source": [
    "df['Awards']=df['Awards'].str.replace(r'&','.')   \n",
    "df['Awards']=df['Awards'].str.replace(r'Another','') \n",
    "df=df.drop(df.columns[[0,1,2,3,4,5,6,7,8,9,10,11,12,13,14,16,17,18]],axis=1)"
   ]
  },
  {
   "cell_type": "code",
   "execution_count": 50,
   "metadata": {
    "collapsed": false
   },
   "outputs": [],
   "source": [
    "for index, row in df.iterrows():\n",
    "    wins=0\n",
    "    nominations=0\n",
    "    Oscar_nominations=0\n",
    "    Oscar_won=0\n",
    "    Golden_Globe_won=0\n",
    "    Golden_Globe_nominations=0\n",
    "    Primetime_nominations=0\n",
    "    Primetime_won=0\n",
    "    BAFTA_nominations=0\n",
    "    BAFTA_won=0\n",
    "    if type(row['Awards'])!=float:\n",
    "        row['Awards']=row['Awards'].split('.')\n",
    "        for i in range(len(row['Awards'])-1):\n",
    "            if 'win' in row['Awards'][i]:\n",
    "                wins+=int(row['Awards'][i].split()[0])\n",
    "            if 'nomination' in row['Awards'][i]:\n",
    "                nominations+=int(row['Awards'][i].split()[0])\n",
    "            if 'Oscar' in row['Awards'][i]:\n",
    "                if 'Nominated' in row['Awards'][i]:\n",
    "                    Oscar_nominations+=int(row['Awards'][i].split()[2])\n",
    "                    nominations+=Oscar_nominations\n",
    "                if 'Won' in row['Awards'][i]:\n",
    "                    Oscar_won+=int(row['Awards'][i].split()[1])\n",
    "                    wins+=Oscar_won\n",
    "            if 'Golden Globe' in row['Awards'][i]:\n",
    "                if 'Nominated' in row['Awards'][i]:\n",
    "                    Golden_Globe_nominations+=int(row['Awards'][i].split()[2])\n",
    "                    nominations+=Golden_Globe_nominations\n",
    "                if 'Won' in row['Awards'][i]:\n",
    "                    Golden_Globe_won+=int(row['Awards'][i].split()[1])\n",
    "                    wins+=Golden_Globe_won\n",
    "            if 'Primetime Emmy' in row['Awards'][i]:\n",
    "                if 'Nominated' in row['Awards'][i]:\n",
    "                    Primetime_nominations+=int(row['Awards'][i].split()[2])\n",
    "                    nominations+=Primetime_nominations\n",
    "                if 'Won' in row['Awards'][i]:\n",
    "                    Primetime_won+=int(row['Awards'][i].split()[1])\n",
    "                    wins+=Primetime_won\n",
    "            if 'BAFTA' in row['Awards'][i]:\n",
    "                if 'Nominated' in row['Awards'][i]:\n",
    "                    BAFTA_nominations+=int(row['Awards'][i].split()[2])\n",
    "                    nominations+=BAFTA_nominations\n",
    "                if 'Won' in row['Awards'][i]:\n",
    "                    BAFTA_won+=int(row['Awards'][i].split()[1])\n",
    "                    wins+=BAFTA_won\n",
    "        output_df=output_df.append(pd.Series([row['Awards'],wins,nominations,Primetime_nominations,Oscar_nominations,Golden_Globe_nominations,BAFTA_nominations,Primetime_won,Oscar_won,Golden_Globe_won,BAFTA_won],index=['Awards','Awards_won','Awards_nominated','Prime_awards_Nominated','Oscar_awards_Nominated','Gloden_Globe_Nominate','BAFTA_Awards_Nominated','Prime_awards_Won','Oscar_awards_Won','Gloden_Globe_Won','BAFTA_Awards_Won']),ignore_index=True)\n",
    "#output_df.to_csv('ques4.csv')"
   ]
  },
  {
   "cell_type": "code",
   "execution_count": 51,
   "metadata": {
    "collapsed": false,
    "scrolled": true
   },
   "outputs": [
    {
     "data": {
      "text/html": [
       "<div>\n",
       "<table border=\"1\" class=\"dataframe\">\n",
       "  <thead>\n",
       "    <tr style=\"text-align: right;\">\n",
       "      <th></th>\n",
       "      <th>Awards</th>\n",
       "      <th>Awards_won</th>\n",
       "      <th>Awards_nominated</th>\n",
       "      <th>Prime_awards_Nominated</th>\n",
       "      <th>Oscar_awards_Nominated</th>\n",
       "      <th>Gloden_Globe_Nominate</th>\n",
       "      <th>BAFTA_Awards_Nominated</th>\n",
       "      <th>Prime_awards_Won</th>\n",
       "      <th>Oscar_awards_Won</th>\n",
       "      <th>Gloden_Globe_Won</th>\n",
       "      <th>BAFTA_Awards_Won</th>\n",
       "    </tr>\n",
       "  </thead>\n",
       "  <tbody>\n",
       "    <tr>\n",
       "      <th>0</th>\n",
       "      <td>[1 win ,  2 nominations, ]</td>\n",
       "      <td>1.0</td>\n",
       "      <td>2.0</td>\n",
       "      <td>0.0</td>\n",
       "      <td>0.0</td>\n",
       "      <td>0.0</td>\n",
       "      <td>0.0</td>\n",
       "      <td>0.0</td>\n",
       "      <td>0.0</td>\n",
       "      <td>0.0</td>\n",
       "      <td>0.0</td>\n",
       "    </tr>\n",
       "    <tr>\n",
       "      <th>1</th>\n",
       "      <td>[1 win, ]</td>\n",
       "      <td>1.0</td>\n",
       "      <td>0.0</td>\n",
       "      <td>0.0</td>\n",
       "      <td>0.0</td>\n",
       "      <td>0.0</td>\n",
       "      <td>0.0</td>\n",
       "      <td>0.0</td>\n",
       "      <td>0.0</td>\n",
       "      <td>0.0</td>\n",
       "      <td>0.0</td>\n",
       "    </tr>\n",
       "    <tr>\n",
       "      <th>2</th>\n",
       "      <td>[1 nomination, ]</td>\n",
       "      <td>0.0</td>\n",
       "      <td>1.0</td>\n",
       "      <td>0.0</td>\n",
       "      <td>0.0</td>\n",
       "      <td>0.0</td>\n",
       "      <td>0.0</td>\n",
       "      <td>0.0</td>\n",
       "      <td>0.0</td>\n",
       "      <td>0.0</td>\n",
       "      <td>0.0</td>\n",
       "    </tr>\n",
       "    <tr>\n",
       "      <th>3</th>\n",
       "      <td>[3 wins ,  2 nominations, ]</td>\n",
       "      <td>3.0</td>\n",
       "      <td>2.0</td>\n",
       "      <td>0.0</td>\n",
       "      <td>0.0</td>\n",
       "      <td>0.0</td>\n",
       "      <td>0.0</td>\n",
       "      <td>0.0</td>\n",
       "      <td>0.0</td>\n",
       "      <td>0.0</td>\n",
       "      <td>0.0</td>\n",
       "    </tr>\n",
       "    <tr>\n",
       "      <th>4</th>\n",
       "      <td>[1 win ,  1 nomination, ]</td>\n",
       "      <td>1.0</td>\n",
       "      <td>1.0</td>\n",
       "      <td>0.0</td>\n",
       "      <td>0.0</td>\n",
       "      <td>0.0</td>\n",
       "      <td>0.0</td>\n",
       "      <td>0.0</td>\n",
       "      <td>0.0</td>\n",
       "      <td>0.0</td>\n",
       "      <td>0.0</td>\n",
       "    </tr>\n",
       "  </tbody>\n",
       "</table>\n",
       "</div>"
      ],
      "text/plain": [
       "                        Awards  Awards_won  Awards_nominated  \\\n",
       "0   [1 win ,  2 nominations, ]         1.0               2.0   \n",
       "1                    [1 win, ]         1.0               0.0   \n",
       "2             [1 nomination, ]         0.0               1.0   \n",
       "3  [3 wins ,  2 nominations, ]         3.0               2.0   \n",
       "4    [1 win ,  1 nomination, ]         1.0               1.0   \n",
       "\n",
       "   Prime_awards_Nominated  Oscar_awards_Nominated  Gloden_Globe_Nominate  \\\n",
       "0                     0.0                     0.0                    0.0   \n",
       "1                     0.0                     0.0                    0.0   \n",
       "2                     0.0                     0.0                    0.0   \n",
       "3                     0.0                     0.0                    0.0   \n",
       "4                     0.0                     0.0                    0.0   \n",
       "\n",
       "   BAFTA_Awards_Nominated  Prime_awards_Won  Oscar_awards_Won  \\\n",
       "0                     0.0               0.0               0.0   \n",
       "1                     0.0               0.0               0.0   \n",
       "2                     0.0               0.0               0.0   \n",
       "3                     0.0               0.0               0.0   \n",
       "4                     0.0               0.0               0.0   \n",
       "\n",
       "   Gloden_Globe_Won  BAFTA_Awards_Won  \n",
       "0               0.0               0.0  \n",
       "1               0.0               0.0  \n",
       "2               0.0               0.0  \n",
       "3               0.0               0.0  \n",
       "4               0.0               0.0  "
      ]
     },
     "execution_count": 51,
     "metadata": {},
     "output_type": "execute_result"
    }
   ],
   "source": [
    "output_df.head()"
   ]
  },
  {
   "cell_type": "code",
   "execution_count": 52,
   "metadata": {
    "collapsed": false
   },
   "outputs": [],
   "source": [
    "#function to check is directory exists\n",
    "def funCheckDir(path):\n",
    "    directory = os.path.dirname(path) # defining directory path\n",
    "    if not os.path.exists(directory): # checking if directory already exists\n",
    "        os.makedirs(directory) # making a directory\n",
    "        \n",
    "resultsPath = b+\"/Q4_Part_1.csv\"\n",
    "funCheckDir(resultsPath)\n",
    "\n",
    "# Saving our dataFrame to csv file.\n",
    "#Percent_df[Columns].to_csv(resultsPath, index=False, encoding='utf-8')\n",
    "output_df.to_csv(resultsPath, index=False, encoding='utf-8')"
   ]
  },
  {
   "cell_type": "code",
   "execution_count": 55,
   "metadata": {
    "collapsed": false
   },
   "outputs": [
    {
     "name": "stderr",
     "output_type": "stream",
     "text": [
      "[NbConvertApp] Converting notebook Q4_Part_1.ipynb to script\n",
      "[NbConvertApp] Writing 4762 bytes to Q4_Part_1.py\n"
     ]
    }
   ],
   "source": [
    "!jupyter nbconvert --to script Q4_Part_1.ipynb"
   ]
  }
 ],
 "metadata": {
  "anaconda-cloud": {},
  "kernelspec": {
   "display_name": "Python [default]",
   "language": "python",
   "name": "python3"
  },
  "language_info": {
   "codemirror_mode": {
    "name": "ipython",
    "version": 3
   },
   "file_extension": ".py",
   "mimetype": "text/x-python",
   "name": "python",
   "nbconvert_exporter": "python",
   "pygments_lexer": "ipython3",
   "version": "3.5.2"
  }
 },
 "nbformat": 4,
 "nbformat_minor": 2
}
