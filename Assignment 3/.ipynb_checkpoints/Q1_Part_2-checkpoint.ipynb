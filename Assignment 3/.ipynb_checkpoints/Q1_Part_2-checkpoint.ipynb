{
 "cells": [
  {
   "cell_type": "markdown",
   "metadata": {},
   "source": [
    "# Q1_Part TWO\n",
    "\n",
    "- use vehicle_collision data.\n",
    "- For each borough, find out distribution of each collision scale. (One car involved? Two? Three? or more?) (From 2015 to present)\n",
    "- Display a few rows of the output use df.head().\n",
    "- Generate a csv output with five columns ('borough', 'one-vehicle', 'two-vehicles','three-vehicles', 'more-vehicles')"
   ]
  },
  {
   "cell_type": "code",
   "execution_count": 36,
   "metadata": {
    "collapsed": true
   },
   "outputs": [],
   "source": [
    "#from pandas import Series, DataFrame\n",
    "import os\n",
    "import pandas as pd"
   ]
  },
  {
   "cell_type": "code",
   "execution_count": 37,
   "metadata": {
    "collapsed": false
   },
   "outputs": [],
   "source": [
    "#getting current working directory\n",
    "b = os.getcwd()\n",
    "\n",
    "\n",
    "#reading the csv file\n",
    "df = pd.read_csv(b+\"\\\\\"+\"Data\\\\vehicle_collisions.csv\", parse_dates=['DATE'], usecols=[0,1,3,19,20,21,22,23]) #vehicle_collisions.csv, , delim_whitespace=True, , header=None"
   ]
  },
  {
   "cell_type": "code",
   "execution_count": 39,
   "metadata": {
    "collapsed": false
   },
   "outputs": [
    {
     "data": {
      "text/html": [
       "<div>\n",
       "<table border=\"1\" class=\"dataframe\">\n",
       "  <thead>\n",
       "    <tr style=\"text-align: right;\">\n",
       "      <th></th>\n",
       "      <th>UNIQUE KEY</th>\n",
       "      <th>DATE</th>\n",
       "      <th>BOROUGH</th>\n",
       "      <th>VEHICLE 1 TYPE</th>\n",
       "      <th>VEHICLE 2 TYPE</th>\n",
       "      <th>VEHICLE 3 TYPE</th>\n",
       "      <th>VEHICLE 4 TYPE</th>\n",
       "      <th>VEHICLE 5 TYPE</th>\n",
       "    </tr>\n",
       "  </thead>\n",
       "  <tbody>\n",
       "    <tr>\n",
       "      <th>0</th>\n",
       "      <td>3146911</td>\n",
       "      <td>2015-01-01</td>\n",
       "      <td>QUEENS</td>\n",
       "      <td>SPORT UTILITY/STATION WAGON</td>\n",
       "      <td>NaN</td>\n",
       "      <td>NaN</td>\n",
       "      <td>NaN</td>\n",
       "      <td>NaN</td>\n",
       "    </tr>\n",
       "    <tr>\n",
       "      <th>1</th>\n",
       "      <td>3146180</td>\n",
       "      <td>2015-01-01</td>\n",
       "      <td>NaN</td>\n",
       "      <td>PASSENGER VEHICLE</td>\n",
       "      <td>NaN</td>\n",
       "      <td>NaN</td>\n",
       "      <td>NaN</td>\n",
       "      <td>NaN</td>\n",
       "    </tr>\n",
       "    <tr>\n",
       "      <th>2</th>\n",
       "      <td>3146384</td>\n",
       "      <td>2015-01-01</td>\n",
       "      <td>BROOKLYN</td>\n",
       "      <td>PASSENGER VEHICLE</td>\n",
       "      <td>UNKNOWN</td>\n",
       "      <td>NaN</td>\n",
       "      <td>NaN</td>\n",
       "      <td>NaN</td>\n",
       "    </tr>\n",
       "    <tr>\n",
       "      <th>3</th>\n",
       "      <td>3146013</td>\n",
       "      <td>2015-01-01</td>\n",
       "      <td>BROOKLYN</td>\n",
       "      <td>BUS</td>\n",
       "      <td>PASSENGER VEHICLE</td>\n",
       "      <td>NaN</td>\n",
       "      <td>NaN</td>\n",
       "      <td>NaN</td>\n",
       "    </tr>\n",
       "    <tr>\n",
       "      <th>4</th>\n",
       "      <td>3146120</td>\n",
       "      <td>2015-01-01</td>\n",
       "      <td>NaN</td>\n",
       "      <td>UNKNOWN</td>\n",
       "      <td>PASSENGER VEHICLE</td>\n",
       "      <td>NaN</td>\n",
       "      <td>NaN</td>\n",
       "      <td>NaN</td>\n",
       "    </tr>\n",
       "  </tbody>\n",
       "</table>\n",
       "</div>"
      ],
      "text/plain": [
       "   UNIQUE KEY       DATE   BOROUGH               VEHICLE 1 TYPE  \\\n",
       "0     3146911 2015-01-01    QUEENS  SPORT UTILITY/STATION WAGON   \n",
       "1     3146180 2015-01-01       NaN            PASSENGER VEHICLE   \n",
       "2     3146384 2015-01-01  BROOKLYN            PASSENGER VEHICLE   \n",
       "3     3146013 2015-01-01  BROOKLYN                          BUS   \n",
       "4     3146120 2015-01-01       NaN                      UNKNOWN   \n",
       "\n",
       "      VEHICLE 2 TYPE VEHICLE 3 TYPE VEHICLE 4 TYPE VEHICLE 5 TYPE  \n",
       "0                NaN            NaN            NaN            NaN  \n",
       "1                NaN            NaN            NaN            NaN  \n",
       "2            UNKNOWN            NaN            NaN            NaN  \n",
       "3  PASSENGER VEHICLE            NaN            NaN            NaN  \n",
       "4  PASSENGER VEHICLE            NaN            NaN            NaN  "
      ]
     },
     "execution_count": 39,
     "metadata": {},
     "output_type": "execute_result"
    }
   ],
   "source": [
    "df.head()"
   ]
  },
  {
   "cell_type": "code",
   "execution_count": 63,
   "metadata": {
    "collapsed": false
   },
   "outputs": [],
   "source": [
    "df['DATE'] = pd.to_datetime(df.DATE)\n",
    "#df"
   ]
  },
  {
   "cell_type": "code",
   "execution_count": 64,
   "metadata": {
    "collapsed": false
   },
   "outputs": [],
   "source": [
    "# getting data from the year of 2015 until now and storing it in new dataframe\n",
    "df_2015 = df[df.DATE.dt.year >= 2015]\n",
    "#df_2015\n"
   ]
  },
  {
   "cell_type": "code",
   "execution_count": 65,
   "metadata": {
    "collapsed": false
   },
   "outputs": [
    {
     "data": {
      "text/html": [
       "<div>\n",
       "<table border=\"1\" class=\"dataframe\">\n",
       "  <thead>\n",
       "    <tr style=\"text-align: right;\">\n",
       "      <th></th>\n",
       "      <th>UNIQUE KEY</th>\n",
       "      <th>BOROUGH</th>\n",
       "      <th>VEHICLE 1 TYPE</th>\n",
       "      <th>VEHICLE 2 TYPE</th>\n",
       "      <th>VEHICLE 3 TYPE</th>\n",
       "      <th>VEHICLE 4 TYPE</th>\n",
       "      <th>VEHICLE 5 TYPE</th>\n",
       "    </tr>\n",
       "  </thead>\n",
       "  <tbody>\n",
       "    <tr>\n",
       "      <th>0</th>\n",
       "      <td>3146911</td>\n",
       "      <td>QUEENS</td>\n",
       "      <td>1</td>\n",
       "      <td>0</td>\n",
       "      <td>0</td>\n",
       "      <td>0</td>\n",
       "      <td>0</td>\n",
       "    </tr>\n",
       "    <tr>\n",
       "      <th>1</th>\n",
       "      <td>3146180</td>\n",
       "      <td>NaN</td>\n",
       "      <td>1</td>\n",
       "      <td>0</td>\n",
       "      <td>0</td>\n",
       "      <td>0</td>\n",
       "      <td>0</td>\n",
       "    </tr>\n",
       "    <tr>\n",
       "      <th>2</th>\n",
       "      <td>3146384</td>\n",
       "      <td>BROOKLYN</td>\n",
       "      <td>1</td>\n",
       "      <td>1</td>\n",
       "      <td>0</td>\n",
       "      <td>0</td>\n",
       "      <td>0</td>\n",
       "    </tr>\n",
       "    <tr>\n",
       "      <th>3</th>\n",
       "      <td>3146013</td>\n",
       "      <td>BROOKLYN</td>\n",
       "      <td>1</td>\n",
       "      <td>1</td>\n",
       "      <td>0</td>\n",
       "      <td>0</td>\n",
       "      <td>0</td>\n",
       "    </tr>\n",
       "    <tr>\n",
       "      <th>4</th>\n",
       "      <td>3146120</td>\n",
       "      <td>NaN</td>\n",
       "      <td>1</td>\n",
       "      <td>1</td>\n",
       "      <td>0</td>\n",
       "      <td>0</td>\n",
       "      <td>0</td>\n",
       "    </tr>\n",
       "  </tbody>\n",
       "</table>\n",
       "</div>"
      ],
      "text/plain": [
       "   UNIQUE KEY   BOROUGH  VEHICLE 1 TYPE  VEHICLE 2 TYPE  VEHICLE 3 TYPE  \\\n",
       "0     3146911    QUEENS               1               0               0   \n",
       "1     3146180       NaN               1               0               0   \n",
       "2     3146384  BROOKLYN               1               1               0   \n",
       "3     3146013  BROOKLYN               1               1               0   \n",
       "4     3146120       NaN               1               1               0   \n",
       "\n",
       "   VEHICLE 4 TYPE  VEHICLE 5 TYPE  \n",
       "0               0               0  \n",
       "1               0               0  \n",
       "2               0               0  \n",
       "3               0               0  \n",
       "4               0               0  "
      ]
     },
     "execution_count": 65,
     "metadata": {},
     "output_type": "execute_result"
    }
   ],
   "source": [
    "dfl = df[['UNIQUE KEY','BOROUGH']]\n",
    "dfv = df[['VEHICLE 1 TYPE','VEHICLE 2 TYPE','VEHICLE 3 TYPE','VEHICLE 4 TYPE','VEHICLE 5 TYPE']]\n",
    "dfv = dfv.notnull()\n",
    "dfv = dfv.applymap(lambda x:1 if x else 0)\n",
    "new_df = pd.concat([dfl,dfv],axis=1)\n",
    "\n",
    "new_df.head()"
   ]
  },
  {
   "cell_type": "code",
   "execution_count": 66,
   "metadata": {
    "collapsed": false
   },
   "outputs": [
    {
     "data": {
      "text/html": [
       "<div>\n",
       "<table border=\"1\" class=\"dataframe\">\n",
       "  <thead>\n",
       "    <tr style=\"text-align: right;\">\n",
       "      <th></th>\n",
       "      <th>UNIQUE KEY</th>\n",
       "      <th>VEHICLE 1 TYPE</th>\n",
       "      <th>VEHICLE 2 TYPE</th>\n",
       "      <th>VEHICLE 3 TYPE</th>\n",
       "      <th>VEHICLE 4 TYPE</th>\n",
       "      <th>VEHICLE 5 TYPE</th>\n",
       "    </tr>\n",
       "    <tr>\n",
       "      <th>BOROUGH</th>\n",
       "      <th></th>\n",
       "      <th></th>\n",
       "      <th></th>\n",
       "      <th></th>\n",
       "      <th></th>\n",
       "      <th></th>\n",
       "    </tr>\n",
       "  </thead>\n",
       "  <tbody>\n",
       "    <tr>\n",
       "      <th>BRONX</th>\n",
       "      <td>155980649490</td>\n",
       "      <td>45599</td>\n",
       "      <td>36972</td>\n",
       "      <td>2587</td>\n",
       "      <td>625</td>\n",
       "      <td>173</td>\n",
       "    </tr>\n",
       "    <tr>\n",
       "      <th>BROOKLYN</th>\n",
       "      <td>354261399441</td>\n",
       "      <td>104174</td>\n",
       "      <td>86799</td>\n",
       "      <td>6592</td>\n",
       "      <td>1612</td>\n",
       "      <td>461</td>\n",
       "    </tr>\n",
       "    <tr>\n",
       "      <th>MANHATTAN</th>\n",
       "      <td>281571102651</td>\n",
       "      <td>82801</td>\n",
       "      <td>69483</td>\n",
       "      <td>2525</td>\n",
       "      <td>501</td>\n",
       "      <td>129</td>\n",
       "    </tr>\n",
       "    <tr>\n",
       "      <th>QUEENS</th>\n",
       "      <td>302922936974</td>\n",
       "      <td>89140</td>\n",
       "      <td>76178</td>\n",
       "      <td>5918</td>\n",
       "      <td>1420</td>\n",
       "      <td>314</td>\n",
       "    </tr>\n",
       "    <tr>\n",
       "      <th>STATEN ISLAND</th>\n",
       "      <td>47557828564</td>\n",
       "      <td>13943</td>\n",
       "      <td>11600</td>\n",
       "      <td>924</td>\n",
       "      <td>165</td>\n",
       "      <td>32</td>\n",
       "    </tr>\n",
       "  </tbody>\n",
       "</table>\n",
       "</div>"
      ],
      "text/plain": [
       "                 UNIQUE KEY  VEHICLE 1 TYPE  VEHICLE 2 TYPE  VEHICLE 3 TYPE  \\\n",
       "BOROUGH                                                                       \n",
       "BRONX          155980649490           45599           36972            2587   \n",
       "BROOKLYN       354261399441          104174           86799            6592   \n",
       "MANHATTAN      281571102651           82801           69483            2525   \n",
       "QUEENS         302922936974           89140           76178            5918   \n",
       "STATEN ISLAND   47557828564           13943           11600             924   \n",
       "\n",
       "               VEHICLE 4 TYPE  VEHICLE 5 TYPE  \n",
       "BOROUGH                                        \n",
       "BRONX                     625             173  \n",
       "BROOKLYN                 1612             461  \n",
       "MANHATTAN                 501             129  \n",
       "QUEENS                   1420             314  \n",
       "STATEN ISLAND             165              32  "
      ]
     },
     "execution_count": 66,
     "metadata": {},
     "output_type": "execute_result"
    }
   ],
   "source": [
    "dfc = new_df.groupby('BOROUGH').sum()\n",
    "dfc.head()"
   ]
  },
  {
   "cell_type": "code",
   "execution_count": 67,
   "metadata": {
    "collapsed": false
   },
   "outputs": [
    {
     "data": {
      "text/html": [
       "<div>\n",
       "<table border=\"1\" class=\"dataframe\">\n",
       "  <thead>\n",
       "    <tr style=\"text-align: right;\">\n",
       "      <th></th>\n",
       "      <th>ONE_VEHICLE_INVOLVED</th>\n",
       "      <th>TWO_VEHICLES_INVOLVED</th>\n",
       "      <th>THREE_VEHICLES_INVOLVED</th>\n",
       "      <th>MORE_VEHICLES_INVOLVED</th>\n",
       "    </tr>\n",
       "    <tr>\n",
       "      <th>BOROUGH</th>\n",
       "      <th></th>\n",
       "      <th></th>\n",
       "      <th></th>\n",
       "      <th></th>\n",
       "    </tr>\n",
       "  </thead>\n",
       "  <tbody>\n",
       "    <tr>\n",
       "      <th>BRONX</th>\n",
       "      <td>8627</td>\n",
       "      <td>34385</td>\n",
       "      <td>1962</td>\n",
       "      <td>625</td>\n",
       "    </tr>\n",
       "    <tr>\n",
       "      <th>BROOKLYN</th>\n",
       "      <td>17375</td>\n",
       "      <td>80207</td>\n",
       "      <td>4980</td>\n",
       "      <td>1612</td>\n",
       "    </tr>\n",
       "    <tr>\n",
       "      <th>MANHATTAN</th>\n",
       "      <td>13318</td>\n",
       "      <td>66958</td>\n",
       "      <td>2024</td>\n",
       "      <td>501</td>\n",
       "    </tr>\n",
       "    <tr>\n",
       "      <th>QUEENS</th>\n",
       "      <td>12962</td>\n",
       "      <td>70260</td>\n",
       "      <td>4498</td>\n",
       "      <td>1420</td>\n",
       "    </tr>\n",
       "    <tr>\n",
       "      <th>STATEN ISLAND</th>\n",
       "      <td>2343</td>\n",
       "      <td>10676</td>\n",
       "      <td>759</td>\n",
       "      <td>165</td>\n",
       "    </tr>\n",
       "  </tbody>\n",
       "</table>\n",
       "</div>"
      ],
      "text/plain": [
       "               ONE_VEHICLE_INVOLVED  TWO_VEHICLES_INVOLVED  \\\n",
       "BOROUGH                                                      \n",
       "BRONX                          8627                  34385   \n",
       "BROOKLYN                      17375                  80207   \n",
       "MANHATTAN                     13318                  66958   \n",
       "QUEENS                        12962                  70260   \n",
       "STATEN ISLAND                  2343                  10676   \n",
       "\n",
       "               THREE_VEHICLES_INVOLVED  MORE_VEHICLES_INVOLVED  \n",
       "BOROUGH                                                         \n",
       "BRONX                             1962                     625  \n",
       "BROOKLYN                          4980                    1612  \n",
       "MANHATTAN                         2024                     501  \n",
       "QUEENS                            4498                    1420  \n",
       "STATEN ISLAND                      759                     165  "
      ]
     },
     "execution_count": 67,
     "metadata": {},
     "output_type": "execute_result"
    }
   ],
   "source": [
    "#Calculate number of vehicles\n",
    "dfc['ONE_VEHICLE_INVOLVED'] =  dfc['VEHICLE 1 TYPE']-dfc['VEHICLE 2 TYPE']\n",
    "\n",
    "dfc['TWO_VEHICLES_INVOLVED'] =  dfc['VEHICLE 2 TYPE']-dfc['VEHICLE 3 TYPE']\n",
    "\n",
    "dfc['THREE_VEHICLES_INVOLVED'] =  dfc['VEHICLE 3 TYPE']-dfc['VEHICLE 4 TYPE']\n",
    "\n",
    "\n",
    "dfc['MORE_VEHICLES_INVOLVED'] = dfc['VEHICLE 4 TYPE'] + dfc['VEHICLE 5 TYPE'] - dfc['VEHICLE 5 TYPE']\n",
    "\n",
    "dfc = dfc[['ONE_VEHICLE_INVOLVED','TWO_VEHICLES_INVOLVED','THREE_VEHICLES_INVOLVED','MORE_VEHICLES_INVOLVED']]\n",
    "dfc.head()"
   ]
  },
  {
   "cell_type": "code",
   "execution_count": 70,
   "metadata": {
    "collapsed": false
   },
   "outputs": [],
   "source": [
    "#function to check is directory exists\n",
    "def funCheckDir(path):\n",
    "    directory = os.path.dirname(path) # defining directory path\n",
    "    if not os.path.exists(directory): # checking if directory already exists\n",
    "        os.makedirs(directory) # making a directory\n",
    "        \n",
    "resultsPath = b+\"/Q1_Part_2.csv\"\n",
    "funCheckDir(resultsPath)\n",
    "\n",
    "# Saving our dataFrame to csv file.\n",
    "#Percent_df[Columns].to_csv(resultsPath, index=False, encoding='utf-8')\n",
    "dfc.to_csv(resultsPath, index=True, encoding='utf-8')"
   ]
  },
  {
   "cell_type": "code",
   "execution_count": 71,
   "metadata": {
    "collapsed": false
   },
   "outputs": [
    {
     "name": "stderr",
     "output_type": "stream",
     "text": [
      "[NbConvertApp] Converting notebook Q1_Part_2.ipynb to script\n",
      "[NbConvertApp] Writing 2321 bytes to Q1_Part_2.py\n"
     ]
    }
   ],
   "source": [
    "!jupyter nbconvert --to script Q1_Part_2.ipynb"
   ]
  },
  {
   "cell_type": "code",
   "execution_count": null,
   "metadata": {
    "collapsed": true
   },
   "outputs": [],
   "source": []
  },
  {
   "cell_type": "code",
   "execution_count": null,
   "metadata": {
    "collapsed": true
   },
   "outputs": [],
   "source": []
  },
  {
   "cell_type": "code",
   "execution_count": null,
   "metadata": {
    "collapsed": true
   },
   "outputs": [],
   "source": []
  },
  {
   "cell_type": "code",
   "execution_count": 14,
   "metadata": {
    "collapsed": true
   },
   "outputs": [],
   "source": []
  }
 ],
 "metadata": {
  "anaconda-cloud": {},
  "kernelspec": {
   "display_name": "Python [default]",
   "language": "python",
   "name": "python3"
  },
  "language_info": {
   "codemirror_mode": {
    "name": "ipython",
    "version": 3
   },
   "file_extension": ".py",
   "mimetype": "text/x-python",
   "name": "python",
   "nbconvert_exporter": "python",
   "pygments_lexer": "ipython3",
   "version": "3.5.2"
  }
 },
 "nbformat": 4,
 "nbformat_minor": 2
}
