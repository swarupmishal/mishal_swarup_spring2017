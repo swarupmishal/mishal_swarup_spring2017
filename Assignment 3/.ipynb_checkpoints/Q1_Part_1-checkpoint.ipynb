{
 "cells": [
  {
   "cell_type": "markdown",
   "metadata": {},
   "source": [
    "# Q1_Part ONE\n",
    "\n",
    "- use vehicle_collision data.\n",
    "- For each month in 2016 calculate:\n",
    "    - Total accidents in NYC\n",
    "    - Total accidents in Manhattan\n",
    "    - Calculate the percentage of accidents in Manhattan over total in NYC\n",
    "- Generate CSV with 4 columns(Month, Manhattan, NYC, %)"
   ]
  },
  {
   "cell_type": "code",
   "execution_count": 2,
   "metadata": {
    "collapsed": false
   },
   "outputs": [],
   "source": [
    "#from pandas import Series, DataFrame\n",
    "import os\n",
    "import pandas as pd"
   ]
  },
  {
   "cell_type": "code",
   "execution_count": 3,
   "metadata": {
    "collapsed": false
   },
   "outputs": [],
   "source": [
    "#getting current working directory\n",
    "b = os.getcwd()\n",
    "\n",
    "\n",
    "#reading the csv file\n",
    "df = pd.read_csv(b+\"\\\\\"+\"Data\\\\vehicle_collisions.csv\", parse_dates=['DATE'], usecols=[0,1,3]) #vehicle_collisions.csv, , delim_whitespace=True, , header=None"
   ]
  },
  {
   "cell_type": "code",
   "execution_count": 4,
   "metadata": {
    "collapsed": false
   },
   "outputs": [
    {
     "data": {
      "text/html": [
       "<div>\n",
       "<table border=\"1\" class=\"dataframe\">\n",
       "  <thead>\n",
       "    <tr style=\"text-align: right;\">\n",
       "      <th></th>\n",
       "      <th>UNIQUE KEY</th>\n",
       "      <th>DATE</th>\n",
       "      <th>BOROUGH</th>\n",
       "    </tr>\n",
       "  </thead>\n",
       "  <tbody>\n",
       "    <tr>\n",
       "      <th>0</th>\n",
       "      <td>3146911</td>\n",
       "      <td>2015-01-01</td>\n",
       "      <td>QUEENS</td>\n",
       "    </tr>\n",
       "    <tr>\n",
       "      <th>1</th>\n",
       "      <td>3146180</td>\n",
       "      <td>2015-01-01</td>\n",
       "      <td>NaN</td>\n",
       "    </tr>\n",
       "    <tr>\n",
       "      <th>2</th>\n",
       "      <td>3146384</td>\n",
       "      <td>2015-01-01</td>\n",
       "      <td>BROOKLYN</td>\n",
       "    </tr>\n",
       "    <tr>\n",
       "      <th>3</th>\n",
       "      <td>3146013</td>\n",
       "      <td>2015-01-01</td>\n",
       "      <td>BROOKLYN</td>\n",
       "    </tr>\n",
       "    <tr>\n",
       "      <th>4</th>\n",
       "      <td>3146120</td>\n",
       "      <td>2015-01-01</td>\n",
       "      <td>NaN</td>\n",
       "    </tr>\n",
       "  </tbody>\n",
       "</table>\n",
       "</div>"
      ],
      "text/plain": [
       "   UNIQUE KEY       DATE   BOROUGH\n",
       "0     3146911 2015-01-01    QUEENS\n",
       "1     3146180 2015-01-01       NaN\n",
       "2     3146384 2015-01-01  BROOKLYN\n",
       "3     3146013 2015-01-01  BROOKLYN\n",
       "4     3146120 2015-01-01       NaN"
      ]
     },
     "execution_count": 4,
     "metadata": {},
     "output_type": "execute_result"
    }
   ],
   "source": [
    "#printing first 5 columns of the data frame\n",
    "df.head(5)"
   ]
  },
  {
   "cell_type": "code",
   "execution_count": 5,
   "metadata": {
    "collapsed": false
   },
   "outputs": [
    {
     "data": {
      "text/html": [
       "<div>\n",
       "<table border=\"1\" class=\"dataframe\">\n",
       "  <thead>\n",
       "    <tr style=\"text-align: right;\">\n",
       "      <th></th>\n",
       "      <th>UNIQUE KEY</th>\n",
       "      <th>DATE</th>\n",
       "      <th>BOROUGH</th>\n",
       "    </tr>\n",
       "  </thead>\n",
       "  <tbody>\n",
       "    <tr>\n",
       "      <th>217539</th>\n",
       "      <td>3374565</td>\n",
       "      <td>2016-01-01</td>\n",
       "      <td>MANHATTAN</td>\n",
       "    </tr>\n",
       "    <tr>\n",
       "      <th>217540</th>\n",
       "      <td>3511927</td>\n",
       "      <td>2016-01-01</td>\n",
       "      <td>BROOKLYN</td>\n",
       "    </tr>\n",
       "    <tr>\n",
       "      <th>217541</th>\n",
       "      <td>3363408</td>\n",
       "      <td>2016-01-01</td>\n",
       "      <td>MANHATTAN</td>\n",
       "    </tr>\n",
       "    <tr>\n",
       "      <th>217542</th>\n",
       "      <td>3364610</td>\n",
       "      <td>2016-01-01</td>\n",
       "      <td>MANHATTAN</td>\n",
       "    </tr>\n",
       "    <tr>\n",
       "      <th>217543</th>\n",
       "      <td>3363371</td>\n",
       "      <td>2016-01-01</td>\n",
       "      <td>MANHATTAN</td>\n",
       "    </tr>\n",
       "  </tbody>\n",
       "</table>\n",
       "</div>"
      ],
      "text/plain": [
       "        UNIQUE KEY       DATE    BOROUGH\n",
       "217539     3374565 2016-01-01  MANHATTAN\n",
       "217540     3511927 2016-01-01   BROOKLYN\n",
       "217541     3363408 2016-01-01  MANHATTAN\n",
       "217542     3364610 2016-01-01  MANHATTAN\n",
       "217543     3363371 2016-01-01  MANHATTAN"
      ]
     },
     "execution_count": 5,
     "metadata": {},
     "output_type": "execute_result"
    }
   ],
   "source": [
    " # getting data for only the year of 2016 and storing it in new dataframe\n",
    "df_2016 = df[df.DATE.dt.year == 2016]\n",
    "\n",
    "df_2016[:5]\n"
   ]
  },
  {
   "cell_type": "code",
   "execution_count": 6,
   "metadata": {
    "collapsed": false
   },
   "outputs": [
    {
     "data": {
      "text/html": [
       "<div>\n",
       "<table border=\"1\" class=\"dataframe\">\n",
       "  <thead>\n",
       "    <tr style=\"text-align: right;\">\n",
       "      <th></th>\n",
       "      <th>UNIQUE KEY</th>\n",
       "      <th>DATE</th>\n",
       "      <th>BOROUGH</th>\n",
       "      <th>Month</th>\n",
       "    </tr>\n",
       "  </thead>\n",
       "  <tbody>\n",
       "    <tr>\n",
       "      <th>217539</th>\n",
       "      <td>3374565</td>\n",
       "      <td>2016-01-01</td>\n",
       "      <td>MANHATTAN</td>\n",
       "      <td>Jan</td>\n",
       "    </tr>\n",
       "    <tr>\n",
       "      <th>217540</th>\n",
       "      <td>3511927</td>\n",
       "      <td>2016-01-01</td>\n",
       "      <td>BROOKLYN</td>\n",
       "      <td>Jan</td>\n",
       "    </tr>\n",
       "    <tr>\n",
       "      <th>217541</th>\n",
       "      <td>3363408</td>\n",
       "      <td>2016-01-01</td>\n",
       "      <td>MANHATTAN</td>\n",
       "      <td>Jan</td>\n",
       "    </tr>\n",
       "    <tr>\n",
       "      <th>217542</th>\n",
       "      <td>3364610</td>\n",
       "      <td>2016-01-01</td>\n",
       "      <td>MANHATTAN</td>\n",
       "      <td>Jan</td>\n",
       "    </tr>\n",
       "    <tr>\n",
       "      <th>217543</th>\n",
       "      <td>3363371</td>\n",
       "      <td>2016-01-01</td>\n",
       "      <td>MANHATTAN</td>\n",
       "      <td>Jan</td>\n",
       "    </tr>\n",
       "  </tbody>\n",
       "</table>\n",
       "</div>"
      ],
      "text/plain": [
       "        UNIQUE KEY       DATE    BOROUGH Month\n",
       "217539     3374565 2016-01-01  MANHATTAN   Jan\n",
       "217540     3511927 2016-01-01   BROOKLYN   Jan\n",
       "217541     3363408 2016-01-01  MANHATTAN   Jan\n",
       "217542     3364610 2016-01-01  MANHATTAN   Jan\n",
       "217543     3363371 2016-01-01  MANHATTAN   Jan"
      ]
     },
     "execution_count": 6,
     "metadata": {},
     "output_type": "execute_result"
    }
   ],
   "source": [
    "# Offsetting the warning\n",
    "pd.options.mode.chained_assignment = None\n",
    "\n",
    "# Extract month for each date in the dataframe containing 2016 data\n",
    "df_2016['Month'] = df_2016['DATE'].dt.strftime('%b')\n",
    "\n",
    "#gives the month in numbers\n",
    "#df_2016['Month'] = pd.DatetimeIndex(df_2016['DATE']).month\n",
    "\n",
    "df_2016.head()"
   ]
  },
  {
   "cell_type": "code",
   "execution_count": 7,
   "metadata": {
    "collapsed": false
   },
   "outputs": [
    {
     "data": {
      "text/plain": [
       "Month\n",
       "Apr    18331\n",
       "Aug    19678\n",
       "Dec    19214\n",
       "Feb    15985\n",
       "Jan    18101\n",
       "Jul    19867\n",
       "Jun    19433\n",
       "Mar    18471\n",
       "May    20052\n",
       "Nov    19315\n",
       "Oct    19666\n",
       "Sep    19492\n",
       "Name: UNIQUE KEY, dtype: int64"
      ]
     },
     "execution_count": 7,
     "metadata": {},
     "output_type": "execute_result"
    }
   ],
   "source": [
    "# counting the number of accidents in NYC by grouping it with months\n",
    "NYC_Data = df_2016['UNIQUE KEY'].groupby(df_2016['Month']).count()\n",
    "\n",
    "NYC_Data"
   ]
  },
  {
   "cell_type": "code",
   "execution_count": 8,
   "metadata": {
    "collapsed": false
   },
   "outputs": [
    {
     "data": {
      "text/plain": [
       "Month\n",
       "Jan    18101\n",
       "Feb    15985\n",
       "Mar    18471\n",
       "Apr    18331\n",
       "May    20052\n",
       "Jun    19433\n",
       "Jul    19867\n",
       "Aug    19678\n",
       "Sep    19492\n",
       "Oct    19666\n",
       "Nov    19315\n",
       "Dec    19214\n",
       "Name: UNIQUE KEY, dtype: int64"
      ]
     },
     "execution_count": 8,
     "metadata": {},
     "output_type": "execute_result"
    }
   ],
   "source": [
    "# Sorting month according to calendar\n",
    "NYC_Data.index = pd.CategoricalIndex(NYC_Data.index, \n",
    "                               categories=['Jan', 'Feb', 'Mar', 'Apr','May','Jun', 'Jul', 'Aug','Sep', 'Oct', 'Nov', 'Dec'], \n",
    "                               sorted=True)\n",
    "NYC_Data = NYC_Data.sort_index()\n",
    "\n",
    "NYC_Data"
   ]
  },
  {
   "cell_type": "code",
   "execution_count": 9,
   "metadata": {
    "collapsed": false
   },
   "outputs": [
    {
     "data": {
      "text/plain": [
       "Month\n",
       "Jan    3178\n",
       "Feb    3195\n",
       "Mar    3479\n",
       "Apr    3540\n",
       "May    3432\n",
       "Jun    2956\n",
       "Jul    3055\n",
       "Aug    2844\n",
       "Sep    2744\n",
       "Oct    2831\n",
       "Nov    2838\n",
       "Dec    2634\n",
       "Name: UNIQUE KEY, dtype: int64"
      ]
     },
     "execution_count": 9,
     "metadata": {},
     "output_type": "execute_result"
    }
   ],
   "source": [
    "# grouping Data by month and counting the number of accidents in Manhattan\n",
    "Manhattan_Data = df_2016['UNIQUE KEY'][df_2016['BOROUGH'] == \"MANHATTAN\"].groupby(df_2016['Month']).count()\n",
    "\n",
    "# Sorting month according to calendar\n",
    "Manhattan_Data.index = pd.CategoricalIndex(Manhattan_Data.index, \n",
    "                               categories=['Jan', 'Feb', 'Mar', 'Apr','May','Jun', 'Jul', 'Aug','Sep', 'Oct', 'Nov', 'Dec'], \n",
    "                               sorted=True)\n",
    "Manhattan_Data = Manhattan_Data.sort_index()\n",
    "Manhattan_Data"
   ]
  },
  {
   "cell_type": "code",
   "execution_count": 15,
   "metadata": {
    "collapsed": false
   },
   "outputs": [
    {
     "data": {
      "text/html": [
       "<div>\n",
       "<table border=\"1\" class=\"dataframe\">\n",
       "  <thead>\n",
       "    <tr style=\"text-align: right;\">\n",
       "      <th></th>\n",
       "      <th>Manhattan</th>\n",
       "      <th>Month</th>\n",
       "      <th>NYC</th>\n",
       "      <th>Percentage</th>\n",
       "    </tr>\n",
       "    <tr>\n",
       "      <th>Month</th>\n",
       "      <th></th>\n",
       "      <th></th>\n",
       "      <th></th>\n",
       "      <th></th>\n",
       "    </tr>\n",
       "  </thead>\n",
       "  <tbody>\n",
       "    <tr>\n",
       "      <th>Jan</th>\n",
       "      <td>3178</td>\n",
       "      <td>Jan</td>\n",
       "      <td>18101</td>\n",
       "      <td>0.175570</td>\n",
       "    </tr>\n",
       "    <tr>\n",
       "      <th>Feb</th>\n",
       "      <td>3195</td>\n",
       "      <td>Feb</td>\n",
       "      <td>15985</td>\n",
       "      <td>0.199875</td>\n",
       "    </tr>\n",
       "    <tr>\n",
       "      <th>Mar</th>\n",
       "      <td>3479</td>\n",
       "      <td>Mar</td>\n",
       "      <td>18471</td>\n",
       "      <td>0.188349</td>\n",
       "    </tr>\n",
       "    <tr>\n",
       "      <th>Apr</th>\n",
       "      <td>3540</td>\n",
       "      <td>Apr</td>\n",
       "      <td>18331</td>\n",
       "      <td>0.193115</td>\n",
       "    </tr>\n",
       "    <tr>\n",
       "      <th>May</th>\n",
       "      <td>3432</td>\n",
       "      <td>May</td>\n",
       "      <td>20052</td>\n",
       "      <td>0.171155</td>\n",
       "    </tr>\n",
       "    <tr>\n",
       "      <th>Jun</th>\n",
       "      <td>2956</td>\n",
       "      <td>Jun</td>\n",
       "      <td>19433</td>\n",
       "      <td>0.152112</td>\n",
       "    </tr>\n",
       "    <tr>\n",
       "      <th>Jul</th>\n",
       "      <td>3055</td>\n",
       "      <td>Jul</td>\n",
       "      <td>19867</td>\n",
       "      <td>0.153773</td>\n",
       "    </tr>\n",
       "    <tr>\n",
       "      <th>Aug</th>\n",
       "      <td>2844</td>\n",
       "      <td>Aug</td>\n",
       "      <td>19678</td>\n",
       "      <td>0.144527</td>\n",
       "    </tr>\n",
       "    <tr>\n",
       "      <th>Sep</th>\n",
       "      <td>2744</td>\n",
       "      <td>Sep</td>\n",
       "      <td>19492</td>\n",
       "      <td>0.140776</td>\n",
       "    </tr>\n",
       "    <tr>\n",
       "      <th>Oct</th>\n",
       "      <td>2831</td>\n",
       "      <td>Oct</td>\n",
       "      <td>19666</td>\n",
       "      <td>0.143954</td>\n",
       "    </tr>\n",
       "    <tr>\n",
       "      <th>Nov</th>\n",
       "      <td>2838</td>\n",
       "      <td>Nov</td>\n",
       "      <td>19315</td>\n",
       "      <td>0.146932</td>\n",
       "    </tr>\n",
       "    <tr>\n",
       "      <th>Dec</th>\n",
       "      <td>2634</td>\n",
       "      <td>Dec</td>\n",
       "      <td>19214</td>\n",
       "      <td>0.137088</td>\n",
       "    </tr>\n",
       "  </tbody>\n",
       "</table>\n",
       "</div>"
      ],
      "text/plain": [
       "       Manhattan Month    NYC  Percentage\n",
       "Month                                    \n",
       "Jan         3178   Jan  18101    0.175570\n",
       "Feb         3195   Feb  15985    0.199875\n",
       "Mar         3479   Mar  18471    0.188349\n",
       "Apr         3540   Apr  18331    0.193115\n",
       "May         3432   May  20052    0.171155\n",
       "Jun         2956   Jun  19433    0.152112\n",
       "Jul         3055   Jul  19867    0.153773\n",
       "Aug         2844   Aug  19678    0.144527\n",
       "Sep         2744   Sep  19492    0.140776\n",
       "Oct         2831   Oct  19666    0.143954\n",
       "Nov         2838   Nov  19315    0.146932\n",
       "Dec         2634   Dec  19214    0.137088"
      ]
     },
     "execution_count": 15,
     "metadata": {},
     "output_type": "execute_result"
    }
   ],
   "source": [
    "# Create new Data frame with both NYC and Manhattan data\n",
    "Columns = [\"Month\",\"Manhattan\", \"NYC\", \"Percentage\"]\n",
    "dataFrame = pd.DataFrame({'Month' : NYC_Data.index, 'Manhattan' : Manhattan_Data, 'NYC' : NYC_Data, 'Percentage' : Manhattan_Data / NYC_Data})\n",
    "#Percent_df[Columns].head()\n",
    "dataFrame"
   ]
  },
  {
   "cell_type": "code",
   "execution_count": 19,
   "metadata": {
    "collapsed": false
   },
   "outputs": [
    {
     "data": {
      "text/plain": [
       "pandas.core.series.Series"
      ]
     },
     "execution_count": 19,
     "metadata": {},
     "output_type": "execute_result"
    }
   ],
   "source": [
    "#df1 = pd.merge(Manhattan, NYC, on='key',how='outer')\n",
    "#merge is giving error as \n",
    "type(Manhattan_Data)"
   ]
  },
  {
   "cell_type": "code",
   "execution_count": 21,
   "metadata": {
    "collapsed": false
   },
   "outputs": [],
   "source": [
    "#function to check is directory exists\n",
    "def funCheckDir(path):\n",
    "    directory = os.path.dirname(path) # defining directory path\n",
    "    if not os.path.exists(directory): # checking if directory already exists\n",
    "        os.makedirs(directory) # making a directory\n",
    "        \n",
    "resultsPath = b+\"/Q1_Part_1.csv\"\n",
    "funCheckDir(resultsPath)\n",
    "\n",
    "# Saving our dataFrame to csv file.\n",
    "#Percent_df[Columns].to_csv(resultsPath, index=False, encoding='utf-8')\n",
    "dataFrame.to_csv(resultsPath, index=False, encoding='utf-8')"
   ]
  },
  {
   "cell_type": "code",
   "execution_count": 22,
   "metadata": {
    "collapsed": false
   },
   "outputs": [
    {
     "name": "stderr",
     "output_type": "stream",
     "text": [
      "[NbConvertApp] Converting notebook Q1_Part_1.ipynb to script\n",
      "[NbConvertApp] Writing 3074 bytes to Q1_Part_1.py\n"
     ]
    }
   ],
   "source": [
    "!jupyter nbconvert --to script Q1_Part_1.ipynb"
   ]
  }
 ],
 "metadata": {
  "anaconda-cloud": {},
  "kernelspec": {
   "display_name": "Python [default]",
   "language": "python",
   "name": "python3"
  },
  "language_info": {
   "codemirror_mode": {
    "name": "ipython",
    "version": 3
   },
   "file_extension": ".py",
   "mimetype": "text/x-python",
   "name": "python",
   "nbconvert_exporter": "python",
   "pygments_lexer": "ipython3",
   "version": "3.5.2"
  }
 },
 "nbformat": 4,
 "nbformat_minor": 2
}
